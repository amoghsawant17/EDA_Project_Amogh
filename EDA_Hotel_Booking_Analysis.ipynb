{
  "nbformat": 4,
  "nbformat_minor": 0,
  "metadata": {
    "colab": {
      "provenance": [],
      "collapsed_sections": [
        "mDgbUHAGgjLW",
        "PBTbrJXOngz2",
        "u3PMJOP6ngxN",
        "dauF4eBmngu3",
        "bKJF3rekwFvQ",
        "MSa1f5Uengrz",
        "GF8Ens_Soomf",
        "0wOQAZs5pc--",
        "K5QZ13OEpz2H",
        "lQ7QKXXCp7Bj",
        "448CDAPjqfQr",
        "KSlN3yHqYklG",
        "t6dVpIINYklI",
        "ijmpgYnKYklI",
        "-JiQyfWJYklI",
        "EM7whBJCYoAo",
        "fge-S5ZAYoAp",
        "85gYPyotYoAp",
        "RoGjAbkUYoAp",
        "4Of9eVA-YrdM",
        "iky9q4vBYrdO",
        "F6T5p64dYrdO",
        "y-Ehk30pYrdP",
        "bamQiAODYuh1",
        "QHF8YVU7Yuh3",
        "GwzvFGzlYuh3",
        "qYpmQ266Yuh3",
        "OH-pJp9IphqM",
        "bbFf2-_FphqN",
        "_ouA3fa0phqN",
        "Seke61FWphqN",
        "PIIx-8_IphqN",
        "t27r6nlMphqO",
        "r2jJGEOYphqO",
        "b0JNsNcRphqO",
        "BZR9WyysphqO",
        "jj7wYXLtphqO",
        "eZrbJ2SmphqO",
        "rFu4xreNphqO",
        "YJ55k-q6phqO",
        "gCFgpxoyphqP",
        "OVtJsKN_phqQ",
        "lssrdh5qphqQ",
        "U2RJ9gkRphqQ",
        "1M8mcRywphqQ",
        "tgIPom80phqQ",
        "JMzcOPDDphqR",
        "x-EpHcCOp1ci",
        "X_VqEhTip1ck",
        "8zGJKyg5p1ck",
        "PVzmfK_Ep1ck",
        "n3dbpmDWp1ck",
        "ylSl6qgtp1ck",
        "ZWILFDl5p1ck",
        "M7G43BXep1ck",
        "Ag9LCva-p1cl",
        "E6MkPsBcp1cl",
        "2cELzS2fp1cl",
        "3MPXvC8up1cl",
        "NC_X3p0fY2L0",
        "UV0SzAkaZNRQ",
        "YPEH6qLeZNRQ",
        "q29F0dvdveiT",
        "EXh0U9oCveiU",
        "22aHeOlLveiV",
        "JcMwzZxoAimU",
        "8G2x9gOozGDZ",
        "gCX9965dhzqZ",
        "gIfDvo9L0UH2"
      ],
      "include_colab_link": true
    },
    "kernelspec": {
      "name": "python3",
      "display_name": "Python 3"
    },
    "language_info": {
      "name": "python"
    },
    "gpuClass": "standard"
  },
  "cells": [
    {
      "cell_type": "markdown",
      "metadata": {
        "id": "view-in-github",
        "colab_type": "text"
      },
      "source": [
        "<a href=\"https://colab.research.google.com/github/amoghsawant17/EDA_Project_Amogh/blob/main/EDA_Hotel_Booking_Analysis.ipynb\" target=\"_parent\"><img src=\"https://colab.research.google.com/assets/colab-badge.svg\" alt=\"Open In Colab\"/></a>"
      ]
    },
    {
      "cell_type": "markdown",
      "source": [
        "# **Project Name**    - Hotel Booking Analysis\n",
        "\n"
      ],
      "metadata": {
        "id": "vncDsAP0Gaoa"
      }
    },
    {
      "cell_type": "markdown",
      "source": [
        "##### **Project Type**    - EDA\n",
        "##### **Contribution**    - Individual\n"
      ],
      "metadata": {
        "id": "beRrZCGUAJYm"
      }
    },
    {
      "cell_type": "markdown",
      "source": [
        "# **Project Summary -**"
      ],
      "metadata": {
        "id": "FJNUwmbgGyua"
      }
    },
    {
      "cell_type": "markdown",
      "source": [
        "####Introduction:\n",
        "The Hotel Booking Analysis project aims to analyze a comprehensive dataset covering hotel bookings spanning from July 2015 to August 2017. By exploring this dataset, we seek to gain valuable insights into various aspects of hotel bookings, including booking patterns, customer preferences, seasonality, and other factors that influence the hotel industry. This project summary provides an overview of the dataset, the objectives of the analysis, and the key findings derived from the exploration.\n",
        "\n",
        "####Dataset Overview:\n",
        "The dataset used for this project comprises hotel booking data collected over a two-year period, from July 2015 to August 2017. It includes information about bookings made in two hotel types, with a focus on attributes such as customer demographics, booking details (e.g., dates, room types, meal plans), and hotel-specific information. The dataset also contains data regarding cancellations, enabling a comprehensive analysis of booking behavior.\n",
        "\n",
        "####Objectives:\n",
        "* Booking Patterns: Analyze booking patterns over time, including seasonality, trends, and demand fluctuations, to understand the factors that influence hotel reservations.\n",
        "\n",
        "* Customer Segmentation: Segment customers based on various attributes such as demographics, booking behavior, and stay duration to identify distinct customer groups and their preferences.\n",
        "\n",
        "* Booking Channels: Evaluate the impact of different booking channels (e.g., online travel agencies, direct bookings) on the hotel industry and identify the most popular and effective channels for hotel reservations.\n",
        "\n",
        "* Cancellations: Investigate the reasons behind booking cancellations, and identify potential strategies to reduce these occurrences, thereby optimizing hotel revenue.\n",
        "\n",
        "####Methodology:\n",
        "* Data Cleaning: Preprocess the dataset by handling missing values, outliers, and inconsistencies to ensure data quality and reliability.\n",
        "\n",
        "* Exploratory Data Analysis (EDA): Perform data wrangling, data visualization, and segmentation techniques to gain initial insights into the dataset and identify patterns, trends, and relationships.\n",
        "\n",
        "#### Key Findings:\n",
        "* Seasonal Patterns: Discovered the peak booking seasons and identified the factors contributing to fluctuations in demand, enabling hotels to optimize pricing and resource allocation.\n",
        "\n",
        "* Customer Segmentation: Identified different customer segments based on demographics, booking behavior, and preferences, allowing hotels to tailor marketing strategies and services to specific customer groups.\n",
        "\n",
        "* Booking Channels: Determined the most effective booking channels for hotels to evaluate their impact on revenue and customer satisfaction, enabling informed marketing decisions.\n",
        "\n",
        "* Cancellations: Understood the underlying reasons for booking cancellations, enabling hotels to implement strategies to minimize these occurrences and optimize revenue.\n",
        "\n",
        "####Conclusion:\n",
        "The Hotel Booking Analysis project provides valuable insights into hotel booking patterns, customer preferences, and revenue optimization strategies."
      ],
      "metadata": {
        "id": "F6v_1wHtG2nS"
      }
    },
    {
      "cell_type": "markdown",
      "source": [
        "# **GitHub Link -**"
      ],
      "metadata": {
        "id": "w6K7xa23Elo4"
      }
    },
    {
      "cell_type": "markdown",
      "source": [
        "Provide your GitHub Link here."
      ],
      "metadata": {
        "id": "h1o69JH3Eqqn"
      }
    },
    {
      "cell_type": "markdown",
      "source": [
        "# **Problem Statement**\n"
      ],
      "metadata": {
        "id": "yQaldy8SH6Dl"
      }
    },
    {
      "cell_type": "markdown",
      "source": [
        "The problem is to analyze a hotel booking dataset from July 2015 to August 2017 and derive insights to address the following challenges:\n",
        "\n",
        "* Booking Patterns and Seasonality: Identify seasonal trends, peak booking periods, and demand fluctuations to optimize resource allocation and pricing strategies.\n",
        "\n",
        "* Customer Segmentation and Preferences: Segment customers based on demographics and booking behavior to personalize marketing campaigns and enhance customer satisfaction.\n",
        "\n",
        "* Booking Channels and Revenue Analysis: Evaluate the effectiveness of booking channels and optimize distribution strategies to maximize revenue.\n",
        "\n",
        "* Cancellations: Identify reasons behind cancellations and no-shows to minimize revenue losses and optimize occupancy rates."
      ],
      "metadata": {
        "id": "DpeJGUA3kjGy"
      }
    },
    {
      "cell_type": "markdown",
      "source": [
        "#### **Define Your Business Objective?**"
      ],
      "metadata": {
        "id": "PH-0ReGfmX4f"
      }
    },
    {
      "cell_type": "markdown",
      "source": [
        "\n",
        "####Business Objective: Maximize revenue, enhance customer satisfaction, and optimize operations through data-driven insights derived from the analysis of hotel bookings dataset from July 2015 to August 2017."
      ],
      "metadata": {
        "id": "PhDvGCAqmjP1"
      }
    },
    {
      "cell_type": "markdown",
      "source": [
        "# **General Guidelines** : -  "
      ],
      "metadata": {
        "id": "mDgbUHAGgjLW"
      }
    },
    {
      "cell_type": "markdown",
      "source": [
        "1.   Well-structured, formatted, and commented code is required.\n",
        "2.   Exception Handling, Production Grade Code & Deployment Ready Code will be a plus. Those students will be awarded some additional credits.\n",
        "     \n",
        "     The additional credits will have advantages over other students during Star Student selection.\n",
        "       \n",
        "             [ Note: - Deployment Ready Code is defined as, the whole .ipynb notebook should be executable in one go\n",
        "                       without a single error logged. ]\n",
        "\n",
        "3.   Each and every logic should have proper comments.\n",
        "4. You may add as many number of charts you want. Make Sure for each and every chart the following format should be answered.\n",
        "        \n",
        "\n",
        "```\n",
        "# Chart visualization code\n",
        "```\n",
        "            \n",
        "\n",
        "*   Why did you pick the specific chart?\n",
        "*   What is/are the insight(s) found from the chart?\n",
        "* Will the gained insights help creating a positive business impact?\n",
        "Are there any insights that lead to negative growth? Justify with specific reason.\n",
        "\n",
        "5. You have to create at least 20 logical & meaningful charts having important insights.\n",
        "\n",
        "\n",
        "[ Hints : - Do the Vizualization in  a structured way while following \"UBM\" Rule.\n",
        "\n",
        "U - Univariate Analysis,\n",
        "\n",
        "B - Bivariate Analysis (Numerical - Categorical, Numerical - Numerical, Categorical - Categorical)\n",
        "\n",
        "M - Multivariate Analysis\n",
        " ]\n",
        "\n",
        "\n",
        "\n"
      ],
      "metadata": {
        "id": "ZrxVaUj-hHfC"
      }
    },
    {
      "cell_type": "markdown",
      "source": [
        "# ***Let's Begin !***"
      ],
      "metadata": {
        "id": "O_i_v8NEhb9l"
      }
    },
    {
      "cell_type": "markdown",
      "source": [
        "## ***1. Know Your Data***"
      ],
      "metadata": {
        "id": "HhfV-JJviCcP"
      }
    },
    {
      "cell_type": "markdown",
      "source": [
        "###Data Preparation and Cleaning\n",
        "1. Load the file using Pandas\n",
        "2. Look at some information about the data & the columns\n",
        "3. Fix any missing or incorrect values"
      ],
      "metadata": {
        "id": "pkhmbZd8Sk7f"
      }
    },
    {
      "cell_type": "markdown",
      "source": [
        "### Import Libraries\n"
      ],
      "metadata": {
        "id": "Y3lxredqlCYt"
      }
    },
    {
      "cell_type": "code",
      "source": [
        "# Import Libraries\n",
        "import numpy as np\n",
        "import pandas as pd\n",
        "from numpy import math\n",
        "from numpy import loadtxt\n",
        "import seaborn as sns\n",
        "import matplotlib.pyplot as plt\n",
        "%matplotlib inline\n",
        "from matplotlib import rcParams\n",
        "!pip install pymysql\n",
        "import pymysql\n",
        "from sqlalchemy import create_engine\n",
        "from sqlalchemy.pool import NullPool\n",
        "\n",
        "import seaborn as sns\n",
        "from scipy.stats import *\n",
        "import math\n",
        "\n",
        "from statsmodels.stats.outliers_influence import variance_inflation_factor\n",
        "from sklearn.preprocessing import StandardScaler\n",
        "from sklearn.model_selection import train_test_split\n",
        "from imblearn.over_sampling import SMOTE\n",
        "from sklearn.linear_model import LogisticRegression\n",
        "from sklearn.ensemble import RandomForestClassifier\n",
        "from sklearn.metrics import accuracy_score, confusion_matrix\n",
        "from sklearn import metrics\n",
        "from sklearn.metrics import roc_curve\n",
        "from sklearn.model_selection import GridSearchCV\n",
        "from sklearn.model_selection import RepeatedStratifiedKFold\n",
        "from xgboost import XGBClassifier\n",
        "from xgboost import XGBRFClassifier\n",
        "from sklearn.tree import export_graphviz\n",
        "\n",
        "!pip install shap==0.40.0\n",
        "import shap\n",
        "import graphviz\n",
        "sns.set_style('whitegrid')\n",
        "\n",
        "import warnings\n",
        "warnings.filterwarnings('ignore')"
      ],
      "metadata": {
        "id": "M8Vqi-pPk-HR",
        "colab": {
          "base_uri": "https://localhost:8080/"
        },
        "outputId": "0ef92ac4-6111-4152-834f-1bcd8d1ef9de"
      },
      "execution_count": null,
      "outputs": [
        {
          "output_type": "stream",
          "name": "stdout",
          "text": [
            "Collecting pymysql\n",
            "  Downloading PyMySQL-1.1.0-py3-none-any.whl (44 kB)\n",
            "\u001b[?25l     \u001b[90m━━━━━━━━━━━━━━━━━━━━━━━━━━━━━━━━━━━━━━━━\u001b[0m \u001b[32m0.0/44.8 kB\u001b[0m \u001b[31m?\u001b[0m eta \u001b[36m-:--:--\u001b[0m\r\u001b[2K     \u001b[90m━━━━━━━━━━━━━━━━━━━━━━━━━━━━━━━━━━━━━━━━\u001b[0m \u001b[32m44.8/44.8 kB\u001b[0m \u001b[31m4.1 MB/s\u001b[0m eta \u001b[36m0:00:00\u001b[0m\n",
            "\u001b[?25hInstalling collected packages: pymysql\n",
            "Successfully installed pymysql-1.1.0\n",
            "Collecting shap==0.40.0\n",
            "  Downloading shap-0.40.0.tar.gz (371 kB)\n",
            "\u001b[2K     \u001b[90m━━━━━━━━━━━━━━━━━━━━━━━━━━━━━━━━━━━━━━\u001b[0m \u001b[32m371.7/371.7 kB\u001b[0m \u001b[31m22.3 MB/s\u001b[0m eta \u001b[36m0:00:00\u001b[0m\n",
            "\u001b[?25h  Installing build dependencies ... \u001b[?25l\u001b[?25hdone\n",
            "  Getting requirements to build wheel ... \u001b[?25l\u001b[?25hdone\n",
            "  Preparing metadata (pyproject.toml) ... \u001b[?25l\u001b[?25hdone\n",
            "Requirement already satisfied: numpy in /usr/local/lib/python3.10/dist-packages (from shap==0.40.0) (1.22.4)\n",
            "Requirement already satisfied: scipy in /usr/local/lib/python3.10/dist-packages (from shap==0.40.0) (1.10.1)\n",
            "Requirement already satisfied: scikit-learn in /usr/local/lib/python3.10/dist-packages (from shap==0.40.0) (1.2.2)\n",
            "Requirement already satisfied: pandas in /usr/local/lib/python3.10/dist-packages (from shap==0.40.0) (1.5.3)\n",
            "Requirement already satisfied: tqdm>4.25.0 in /usr/local/lib/python3.10/dist-packages (from shap==0.40.0) (4.65.0)\n",
            "Requirement already satisfied: packaging>20.9 in /usr/local/lib/python3.10/dist-packages (from shap==0.40.0) (23.1)\n",
            "Collecting slicer==0.0.7 (from shap==0.40.0)\n",
            "  Downloading slicer-0.0.7-py3-none-any.whl (14 kB)\n",
            "Requirement already satisfied: numba in /usr/local/lib/python3.10/dist-packages (from shap==0.40.0) (0.56.4)\n",
            "Requirement already satisfied: cloudpickle in /usr/local/lib/python3.10/dist-packages (from shap==0.40.0) (2.2.1)\n",
            "Requirement already satisfied: llvmlite<0.40,>=0.39.0dev0 in /usr/local/lib/python3.10/dist-packages (from numba->shap==0.40.0) (0.39.1)\n",
            "Requirement already satisfied: setuptools in /usr/local/lib/python3.10/dist-packages (from numba->shap==0.40.0) (67.7.2)\n",
            "Requirement already satisfied: python-dateutil>=2.8.1 in /usr/local/lib/python3.10/dist-packages (from pandas->shap==0.40.0) (2.8.2)\n",
            "Requirement already satisfied: pytz>=2020.1 in /usr/local/lib/python3.10/dist-packages (from pandas->shap==0.40.0) (2022.7.1)\n",
            "Requirement already satisfied: joblib>=1.1.1 in /usr/local/lib/python3.10/dist-packages (from scikit-learn->shap==0.40.0) (1.3.1)\n",
            "Requirement already satisfied: threadpoolctl>=2.0.0 in /usr/local/lib/python3.10/dist-packages (from scikit-learn->shap==0.40.0) (3.1.0)\n",
            "Requirement already satisfied: six>=1.5 in /usr/local/lib/python3.10/dist-packages (from python-dateutil>=2.8.1->pandas->shap==0.40.0) (1.16.0)\n",
            "Building wheels for collected packages: shap\n",
            "  Building wheel for shap (pyproject.toml) ... \u001b[?25l\u001b[?25hdone\n",
            "  Created wheel for shap: filename=shap-0.40.0-cp310-cp310-linux_x86_64.whl size=552516 sha256=fbaae22365ba45f69c8f59ec08952f90e60d96cc7f118e7141f1b4d80ecbd9d4\n",
            "  Stored in directory: /root/.cache/pip/wheels/33/28/e3/62a9dc612c58c1b8d1c16fa51e64941bbb38ac8a6decbad39c\n",
            "Successfully built shap\n",
            "Installing collected packages: slicer, shap\n",
            "Successfully installed shap-0.40.0 slicer-0.0.7\n"
          ]
        }
      ]
    },
    {
      "cell_type": "markdown",
      "source": [
        "### Dataset Loading"
      ],
      "metadata": {
        "id": "3RnN4peoiCZX"
      }
    },
    {
      "cell_type": "code",
      "source": [
        "# Load Dataset\n",
        "from google.colab import drive\n",
        "drive.mount('/content/drive')"
      ],
      "metadata": {
        "id": "4CkvbW_SlZ_R",
        "colab": {
          "base_uri": "https://localhost:8080/"
        },
        "outputId": "941c7d4f-902e-485a-c909-dd6bbf9bac8b"
      },
      "execution_count": null,
      "outputs": [
        {
          "output_type": "stream",
          "name": "stdout",
          "text": [
            "Mounted at /content/drive\n"
          ]
        }
      ]
    },
    {
      "cell_type": "code",
      "source": [
        "file_path = '/content/drive/MyDrive/Colab Notebooks/PYTHON_MODULE/EDA_Project/Hotel Bookings.csv'\n",
        "df = pd.read_csv(file_path)"
      ],
      "metadata": {
        "id": "64x2sfaGek_v"
      },
      "execution_count": null,
      "outputs": []
    },
    {
      "cell_type": "markdown",
      "source": [
        "### Dataset First View"
      ],
      "metadata": {
        "id": "x71ZqKXriCWQ"
      }
    },
    {
      "cell_type": "code",
      "source": [
        "# Dataset First Look\n",
        "pd.set_option (\"display.max_columns\", 40)\n",
        "df.head()"
      ],
      "metadata": {
        "id": "LWNFOSvLl09H",
        "colab": {
          "base_uri": "https://localhost:8080/",
          "height": 357
        },
        "outputId": "dcbf6f51-0255-46c4-c797-9897daa59dd9"
      },
      "execution_count": null,
      "outputs": [
        {
          "output_type": "execute_result",
          "data": {
            "text/plain": [
              "          hotel  is_canceled  lead_time  arrival_date_year arrival_date_month  \\\n",
              "0  Resort Hotel            0        342               2015               July   \n",
              "1  Resort Hotel            0        737               2015               July   \n",
              "2  Resort Hotel            0          7               2015               July   \n",
              "3  Resort Hotel            0         13               2015               July   \n",
              "4  Resort Hotel            0         14               2015               July   \n",
              "\n",
              "   arrival_date_week_number  arrival_date_day_of_month  \\\n",
              "0                        27                          1   \n",
              "1                        27                          1   \n",
              "2                        27                          1   \n",
              "3                        27                          1   \n",
              "4                        27                          1   \n",
              "\n",
              "   stays_in_weekend_nights  stays_in_week_nights  adults  children  babies  \\\n",
              "0                        0                     0       2       0.0       0   \n",
              "1                        0                     0       2       0.0       0   \n",
              "2                        0                     1       1       0.0       0   \n",
              "3                        0                     1       1       0.0       0   \n",
              "4                        0                     2       2       0.0       0   \n",
              "\n",
              "  meal country market_segment distribution_channel  is_repeated_guest  \\\n",
              "0   BB     PRT         Direct               Direct                  0   \n",
              "1   BB     PRT         Direct               Direct                  0   \n",
              "2   BB     GBR         Direct               Direct                  0   \n",
              "3   BB     GBR      Corporate            Corporate                  0   \n",
              "4   BB     GBR      Online TA                TA/TO                  0   \n",
              "\n",
              "   previous_cancellations  previous_bookings_not_canceled reserved_room_type  \\\n",
              "0                       0                               0                  C   \n",
              "1                       0                               0                  C   \n",
              "2                       0                               0                  A   \n",
              "3                       0                               0                  A   \n",
              "4                       0                               0                  A   \n",
              "\n",
              "  assigned_room_type  booking_changes deposit_type  agent  company  \\\n",
              "0                  C                3   No Deposit    NaN      NaN   \n",
              "1                  C                4   No Deposit    NaN      NaN   \n",
              "2                  C                0   No Deposit    NaN      NaN   \n",
              "3                  A                0   No Deposit  304.0      NaN   \n",
              "4                  A                0   No Deposit  240.0      NaN   \n",
              "\n",
              "   days_in_waiting_list customer_type   adr  required_car_parking_spaces  \\\n",
              "0                     0     Transient   0.0                            0   \n",
              "1                     0     Transient   0.0                            0   \n",
              "2                     0     Transient  75.0                            0   \n",
              "3                     0     Transient  75.0                            0   \n",
              "4                     0     Transient  98.0                            0   \n",
              "\n",
              "   total_of_special_requests reservation_status reservation_status_date  \n",
              "0                          0          Check-Out              2015-07-01  \n",
              "1                          0          Check-Out              2015-07-01  \n",
              "2                          0          Check-Out              2015-07-02  \n",
              "3                          0          Check-Out              2015-07-02  \n",
              "4                          1          Check-Out              2015-07-03  "
            ],
            "text/html": [
              "\n",
              "\n",
              "  <div id=\"df-e44dc820-fa1f-4ca1-9c69-2b03df2c5133\">\n",
              "    <div class=\"colab-df-container\">\n",
              "      <div>\n",
              "<style scoped>\n",
              "    .dataframe tbody tr th:only-of-type {\n",
              "        vertical-align: middle;\n",
              "    }\n",
              "\n",
              "    .dataframe tbody tr th {\n",
              "        vertical-align: top;\n",
              "    }\n",
              "\n",
              "    .dataframe thead th {\n",
              "        text-align: right;\n",
              "    }\n",
              "</style>\n",
              "<table border=\"1\" class=\"dataframe\">\n",
              "  <thead>\n",
              "    <tr style=\"text-align: right;\">\n",
              "      <th></th>\n",
              "      <th>hotel</th>\n",
              "      <th>is_canceled</th>\n",
              "      <th>lead_time</th>\n",
              "      <th>arrival_date_year</th>\n",
              "      <th>arrival_date_month</th>\n",
              "      <th>arrival_date_week_number</th>\n",
              "      <th>arrival_date_day_of_month</th>\n",
              "      <th>stays_in_weekend_nights</th>\n",
              "      <th>stays_in_week_nights</th>\n",
              "      <th>adults</th>\n",
              "      <th>children</th>\n",
              "      <th>babies</th>\n",
              "      <th>meal</th>\n",
              "      <th>country</th>\n",
              "      <th>market_segment</th>\n",
              "      <th>distribution_channel</th>\n",
              "      <th>is_repeated_guest</th>\n",
              "      <th>previous_cancellations</th>\n",
              "      <th>previous_bookings_not_canceled</th>\n",
              "      <th>reserved_room_type</th>\n",
              "      <th>assigned_room_type</th>\n",
              "      <th>booking_changes</th>\n",
              "      <th>deposit_type</th>\n",
              "      <th>agent</th>\n",
              "      <th>company</th>\n",
              "      <th>days_in_waiting_list</th>\n",
              "      <th>customer_type</th>\n",
              "      <th>adr</th>\n",
              "      <th>required_car_parking_spaces</th>\n",
              "      <th>total_of_special_requests</th>\n",
              "      <th>reservation_status</th>\n",
              "      <th>reservation_status_date</th>\n",
              "    </tr>\n",
              "  </thead>\n",
              "  <tbody>\n",
              "    <tr>\n",
              "      <th>0</th>\n",
              "      <td>Resort Hotel</td>\n",
              "      <td>0</td>\n",
              "      <td>342</td>\n",
              "      <td>2015</td>\n",
              "      <td>July</td>\n",
              "      <td>27</td>\n",
              "      <td>1</td>\n",
              "      <td>0</td>\n",
              "      <td>0</td>\n",
              "      <td>2</td>\n",
              "      <td>0.0</td>\n",
              "      <td>0</td>\n",
              "      <td>BB</td>\n",
              "      <td>PRT</td>\n",
              "      <td>Direct</td>\n",
              "      <td>Direct</td>\n",
              "      <td>0</td>\n",
              "      <td>0</td>\n",
              "      <td>0</td>\n",
              "      <td>C</td>\n",
              "      <td>C</td>\n",
              "      <td>3</td>\n",
              "      <td>No Deposit</td>\n",
              "      <td>NaN</td>\n",
              "      <td>NaN</td>\n",
              "      <td>0</td>\n",
              "      <td>Transient</td>\n",
              "      <td>0.0</td>\n",
              "      <td>0</td>\n",
              "      <td>0</td>\n",
              "      <td>Check-Out</td>\n",
              "      <td>2015-07-01</td>\n",
              "    </tr>\n",
              "    <tr>\n",
              "      <th>1</th>\n",
              "      <td>Resort Hotel</td>\n",
              "      <td>0</td>\n",
              "      <td>737</td>\n",
              "      <td>2015</td>\n",
              "      <td>July</td>\n",
              "      <td>27</td>\n",
              "      <td>1</td>\n",
              "      <td>0</td>\n",
              "      <td>0</td>\n",
              "      <td>2</td>\n",
              "      <td>0.0</td>\n",
              "      <td>0</td>\n",
              "      <td>BB</td>\n",
              "      <td>PRT</td>\n",
              "      <td>Direct</td>\n",
              "      <td>Direct</td>\n",
              "      <td>0</td>\n",
              "      <td>0</td>\n",
              "      <td>0</td>\n",
              "      <td>C</td>\n",
              "      <td>C</td>\n",
              "      <td>4</td>\n",
              "      <td>No Deposit</td>\n",
              "      <td>NaN</td>\n",
              "      <td>NaN</td>\n",
              "      <td>0</td>\n",
              "      <td>Transient</td>\n",
              "      <td>0.0</td>\n",
              "      <td>0</td>\n",
              "      <td>0</td>\n",
              "      <td>Check-Out</td>\n",
              "      <td>2015-07-01</td>\n",
              "    </tr>\n",
              "    <tr>\n",
              "      <th>2</th>\n",
              "      <td>Resort Hotel</td>\n",
              "      <td>0</td>\n",
              "      <td>7</td>\n",
              "      <td>2015</td>\n",
              "      <td>July</td>\n",
              "      <td>27</td>\n",
              "      <td>1</td>\n",
              "      <td>0</td>\n",
              "      <td>1</td>\n",
              "      <td>1</td>\n",
              "      <td>0.0</td>\n",
              "      <td>0</td>\n",
              "      <td>BB</td>\n",
              "      <td>GBR</td>\n",
              "      <td>Direct</td>\n",
              "      <td>Direct</td>\n",
              "      <td>0</td>\n",
              "      <td>0</td>\n",
              "      <td>0</td>\n",
              "      <td>A</td>\n",
              "      <td>C</td>\n",
              "      <td>0</td>\n",
              "      <td>No Deposit</td>\n",
              "      <td>NaN</td>\n",
              "      <td>NaN</td>\n",
              "      <td>0</td>\n",
              "      <td>Transient</td>\n",
              "      <td>75.0</td>\n",
              "      <td>0</td>\n",
              "      <td>0</td>\n",
              "      <td>Check-Out</td>\n",
              "      <td>2015-07-02</td>\n",
              "    </tr>\n",
              "    <tr>\n",
              "      <th>3</th>\n",
              "      <td>Resort Hotel</td>\n",
              "      <td>0</td>\n",
              "      <td>13</td>\n",
              "      <td>2015</td>\n",
              "      <td>July</td>\n",
              "      <td>27</td>\n",
              "      <td>1</td>\n",
              "      <td>0</td>\n",
              "      <td>1</td>\n",
              "      <td>1</td>\n",
              "      <td>0.0</td>\n",
              "      <td>0</td>\n",
              "      <td>BB</td>\n",
              "      <td>GBR</td>\n",
              "      <td>Corporate</td>\n",
              "      <td>Corporate</td>\n",
              "      <td>0</td>\n",
              "      <td>0</td>\n",
              "      <td>0</td>\n",
              "      <td>A</td>\n",
              "      <td>A</td>\n",
              "      <td>0</td>\n",
              "      <td>No Deposit</td>\n",
              "      <td>304.0</td>\n",
              "      <td>NaN</td>\n",
              "      <td>0</td>\n",
              "      <td>Transient</td>\n",
              "      <td>75.0</td>\n",
              "      <td>0</td>\n",
              "      <td>0</td>\n",
              "      <td>Check-Out</td>\n",
              "      <td>2015-07-02</td>\n",
              "    </tr>\n",
              "    <tr>\n",
              "      <th>4</th>\n",
              "      <td>Resort Hotel</td>\n",
              "      <td>0</td>\n",
              "      <td>14</td>\n",
              "      <td>2015</td>\n",
              "      <td>July</td>\n",
              "      <td>27</td>\n",
              "      <td>1</td>\n",
              "      <td>0</td>\n",
              "      <td>2</td>\n",
              "      <td>2</td>\n",
              "      <td>0.0</td>\n",
              "      <td>0</td>\n",
              "      <td>BB</td>\n",
              "      <td>GBR</td>\n",
              "      <td>Online TA</td>\n",
              "      <td>TA/TO</td>\n",
              "      <td>0</td>\n",
              "      <td>0</td>\n",
              "      <td>0</td>\n",
              "      <td>A</td>\n",
              "      <td>A</td>\n",
              "      <td>0</td>\n",
              "      <td>No Deposit</td>\n",
              "      <td>240.0</td>\n",
              "      <td>NaN</td>\n",
              "      <td>0</td>\n",
              "      <td>Transient</td>\n",
              "      <td>98.0</td>\n",
              "      <td>0</td>\n",
              "      <td>1</td>\n",
              "      <td>Check-Out</td>\n",
              "      <td>2015-07-03</td>\n",
              "    </tr>\n",
              "  </tbody>\n",
              "</table>\n",
              "</div>\n",
              "      <button class=\"colab-df-convert\" onclick=\"convertToInteractive('df-e44dc820-fa1f-4ca1-9c69-2b03df2c5133')\"\n",
              "              title=\"Convert this dataframe to an interactive table.\"\n",
              "              style=\"display:none;\">\n",
              "\n",
              "  <svg xmlns=\"http://www.w3.org/2000/svg\" height=\"24px\"viewBox=\"0 0 24 24\"\n",
              "       width=\"24px\">\n",
              "    <path d=\"M0 0h24v24H0V0z\" fill=\"none\"/>\n",
              "    <path d=\"M18.56 5.44l.94 2.06.94-2.06 2.06-.94-2.06-.94-.94-2.06-.94 2.06-2.06.94zm-11 1L8.5 8.5l.94-2.06 2.06-.94-2.06-.94L8.5 2.5l-.94 2.06-2.06.94zm10 10l.94 2.06.94-2.06 2.06-.94-2.06-.94-.94-2.06-.94 2.06-2.06.94z\"/><path d=\"M17.41 7.96l-1.37-1.37c-.4-.4-.92-.59-1.43-.59-.52 0-1.04.2-1.43.59L10.3 9.45l-7.72 7.72c-.78.78-.78 2.05 0 2.83L4 21.41c.39.39.9.59 1.41.59.51 0 1.02-.2 1.41-.59l7.78-7.78 2.81-2.81c.8-.78.8-2.07 0-2.86zM5.41 20L4 18.59l7.72-7.72 1.47 1.35L5.41 20z\"/>\n",
              "  </svg>\n",
              "      </button>\n",
              "\n",
              "\n",
              "\n",
              "    <div id=\"df-61d0640e-56d3-4571-b139-bbac94055f7e\">\n",
              "      <button class=\"colab-df-quickchart\" onclick=\"quickchart('df-61d0640e-56d3-4571-b139-bbac94055f7e')\"\n",
              "              title=\"Suggest charts.\"\n",
              "              style=\"display:none;\">\n",
              "\n",
              "<svg xmlns=\"http://www.w3.org/2000/svg\" height=\"24px\"viewBox=\"0 0 24 24\"\n",
              "     width=\"24px\">\n",
              "    <g>\n",
              "        <path d=\"M19 3H5c-1.1 0-2 .9-2 2v14c0 1.1.9 2 2 2h14c1.1 0 2-.9 2-2V5c0-1.1-.9-2-2-2zM9 17H7v-7h2v7zm4 0h-2V7h2v10zm4 0h-2v-4h2v4z\"/>\n",
              "    </g>\n",
              "</svg>\n",
              "      </button>\n",
              "    </div>\n",
              "\n",
              "<style>\n",
              "  .colab-df-quickchart {\n",
              "    background-color: #E8F0FE;\n",
              "    border: none;\n",
              "    border-radius: 50%;\n",
              "    cursor: pointer;\n",
              "    display: none;\n",
              "    fill: #1967D2;\n",
              "    height: 32px;\n",
              "    padding: 0 0 0 0;\n",
              "    width: 32px;\n",
              "  }\n",
              "\n",
              "  .colab-df-quickchart:hover {\n",
              "    background-color: #E2EBFA;\n",
              "    box-shadow: 0px 1px 2px rgba(60, 64, 67, 0.3), 0px 1px 3px 1px rgba(60, 64, 67, 0.15);\n",
              "    fill: #174EA6;\n",
              "  }\n",
              "\n",
              "  [theme=dark] .colab-df-quickchart {\n",
              "    background-color: #3B4455;\n",
              "    fill: #D2E3FC;\n",
              "  }\n",
              "\n",
              "  [theme=dark] .colab-df-quickchart:hover {\n",
              "    background-color: #434B5C;\n",
              "    box-shadow: 0px 1px 3px 1px rgba(0, 0, 0, 0.15);\n",
              "    filter: drop-shadow(0px 1px 2px rgba(0, 0, 0, 0.3));\n",
              "    fill: #FFFFFF;\n",
              "  }\n",
              "</style>\n",
              "\n",
              "    <script>\n",
              "      async function quickchart(key) {\n",
              "        const containerElement = document.querySelector('#' + key);\n",
              "        const charts = await google.colab.kernel.invokeFunction(\n",
              "            'suggestCharts', [key], {});\n",
              "      }\n",
              "    </script>\n",
              "\n",
              "      <script>\n",
              "\n",
              "function displayQuickchartButton(domScope) {\n",
              "  let quickchartButtonEl =\n",
              "    domScope.querySelector('#df-61d0640e-56d3-4571-b139-bbac94055f7e button.colab-df-quickchart');\n",
              "  quickchartButtonEl.style.display =\n",
              "    google.colab.kernel.accessAllowed ? 'block' : 'none';\n",
              "}\n",
              "\n",
              "        displayQuickchartButton(document);\n",
              "      </script>\n",
              "      <style>\n",
              "    .colab-df-container {\n",
              "      display:flex;\n",
              "      flex-wrap:wrap;\n",
              "      gap: 12px;\n",
              "    }\n",
              "\n",
              "    .colab-df-convert {\n",
              "      background-color: #E8F0FE;\n",
              "      border: none;\n",
              "      border-radius: 50%;\n",
              "      cursor: pointer;\n",
              "      display: none;\n",
              "      fill: #1967D2;\n",
              "      height: 32px;\n",
              "      padding: 0 0 0 0;\n",
              "      width: 32px;\n",
              "    }\n",
              "\n",
              "    .colab-df-convert:hover {\n",
              "      background-color: #E2EBFA;\n",
              "      box-shadow: 0px 1px 2px rgba(60, 64, 67, 0.3), 0px 1px 3px 1px rgba(60, 64, 67, 0.15);\n",
              "      fill: #174EA6;\n",
              "    }\n",
              "\n",
              "    [theme=dark] .colab-df-convert {\n",
              "      background-color: #3B4455;\n",
              "      fill: #D2E3FC;\n",
              "    }\n",
              "\n",
              "    [theme=dark] .colab-df-convert:hover {\n",
              "      background-color: #434B5C;\n",
              "      box-shadow: 0px 1px 3px 1px rgba(0, 0, 0, 0.15);\n",
              "      filter: drop-shadow(0px 1px 2px rgba(0, 0, 0, 0.3));\n",
              "      fill: #FFFFFF;\n",
              "    }\n",
              "  </style>\n",
              "\n",
              "      <script>\n",
              "        const buttonEl =\n",
              "          document.querySelector('#df-e44dc820-fa1f-4ca1-9c69-2b03df2c5133 button.colab-df-convert');\n",
              "        buttonEl.style.display =\n",
              "          google.colab.kernel.accessAllowed ? 'block' : 'none';\n",
              "\n",
              "        async function convertToInteractive(key) {\n",
              "          const element = document.querySelector('#df-e44dc820-fa1f-4ca1-9c69-2b03df2c5133');\n",
              "          const dataTable =\n",
              "            await google.colab.kernel.invokeFunction('convertToInteractive',\n",
              "                                                     [key], {});\n",
              "          if (!dataTable) return;\n",
              "\n",
              "          const docLinkHtml = 'Like what you see? Visit the ' +\n",
              "            '<a target=\"_blank\" href=https://colab.research.google.com/notebooks/data_table.ipynb>data table notebook</a>'\n",
              "            + ' to learn more about interactive tables.';\n",
              "          element.innerHTML = '';\n",
              "          dataTable['output_type'] = 'display_data';\n",
              "          await google.colab.output.renderOutput(dataTable, element);\n",
              "          const docLink = document.createElement('div');\n",
              "          docLink.innerHTML = docLinkHtml;\n",
              "          element.appendChild(docLink);\n",
              "        }\n",
              "      </script>\n",
              "    </div>\n",
              "  </div>\n"
            ]
          },
          "metadata": {},
          "execution_count": 4
        }
      ]
    },
    {
      "cell_type": "markdown",
      "source": [
        "### Dataset Rows & Columns count"
      ],
      "metadata": {
        "id": "7hBIi_osiCS2"
      }
    },
    {
      "cell_type": "code",
      "source": [
        "# Dataset Rows & Columns count\n",
        "df.shape"
      ],
      "metadata": {
        "id": "Kllu7SJgmLij",
        "colab": {
          "base_uri": "https://localhost:8080/"
        },
        "outputId": "767e67c9-5b3a-4404-d937-32dd755ef797"
      },
      "execution_count": null,
      "outputs": [
        {
          "output_type": "execute_result",
          "data": {
            "text/plain": [
              "(119390, 32)"
            ]
          },
          "metadata": {},
          "execution_count": 5
        }
      ]
    },
    {
      "cell_type": "markdown",
      "source": [
        "### Dataset Information"
      ],
      "metadata": {
        "id": "JlHwYmJAmNHm"
      }
    },
    {
      "cell_type": "code",
      "source": [
        "# Dataset Info\n",
        "df.info()"
      ],
      "metadata": {
        "id": "e9hRXRi6meOf",
        "colab": {
          "base_uri": "https://localhost:8080/"
        },
        "outputId": "b4ae6acb-268a-4c4a-e0dc-a73dd6d019f8"
      },
      "execution_count": null,
      "outputs": [
        {
          "output_type": "stream",
          "name": "stdout",
          "text": [
            "<class 'pandas.core.frame.DataFrame'>\n",
            "RangeIndex: 119390 entries, 0 to 119389\n",
            "Data columns (total 32 columns):\n",
            " #   Column                          Non-Null Count   Dtype  \n",
            "---  ------                          --------------   -----  \n",
            " 0   hotel                           119390 non-null  object \n",
            " 1   is_canceled                     119390 non-null  int64  \n",
            " 2   lead_time                       119390 non-null  int64  \n",
            " 3   arrival_date_year               119390 non-null  int64  \n",
            " 4   arrival_date_month              119390 non-null  object \n",
            " 5   arrival_date_week_number        119390 non-null  int64  \n",
            " 6   arrival_date_day_of_month       119390 non-null  int64  \n",
            " 7   stays_in_weekend_nights         119390 non-null  int64  \n",
            " 8   stays_in_week_nights            119390 non-null  int64  \n",
            " 9   adults                          119390 non-null  int64  \n",
            " 10  children                        119386 non-null  float64\n",
            " 11  babies                          119390 non-null  int64  \n",
            " 12  meal                            119390 non-null  object \n",
            " 13  country                         118902 non-null  object \n",
            " 14  market_segment                  119390 non-null  object \n",
            " 15  distribution_channel            119390 non-null  object \n",
            " 16  is_repeated_guest               119390 non-null  int64  \n",
            " 17  previous_cancellations          119390 non-null  int64  \n",
            " 18  previous_bookings_not_canceled  119390 non-null  int64  \n",
            " 19  reserved_room_type              119390 non-null  object \n",
            " 20  assigned_room_type              119390 non-null  object \n",
            " 21  booking_changes                 119390 non-null  int64  \n",
            " 22  deposit_type                    119390 non-null  object \n",
            " 23  agent                           103050 non-null  float64\n",
            " 24  company                         6797 non-null    float64\n",
            " 25  days_in_waiting_list            119390 non-null  int64  \n",
            " 26  customer_type                   119390 non-null  object \n",
            " 27  adr                             119390 non-null  float64\n",
            " 28  required_car_parking_spaces     119390 non-null  int64  \n",
            " 29  total_of_special_requests       119390 non-null  int64  \n",
            " 30  reservation_status              119390 non-null  object \n",
            " 31  reservation_status_date         119390 non-null  object \n",
            "dtypes: float64(4), int64(16), object(12)\n",
            "memory usage: 29.1+ MB\n"
          ]
        }
      ]
    },
    {
      "cell_type": "markdown",
      "source": [
        "#### Duplicate Values"
      ],
      "metadata": {
        "id": "35m5QtbWiB9F"
      }
    },
    {
      "cell_type": "code",
      "source": [
        "# Dataset Duplicate Value Count\n",
        "len(df[df.duplicated()])"
      ],
      "metadata": {
        "id": "1sLdpKYkmox0",
        "colab": {
          "base_uri": "https://localhost:8080/"
        },
        "outputId": "3df62029-d609-4321-e214-8df58f96f951"
      },
      "execution_count": null,
      "outputs": [
        {
          "output_type": "execute_result",
          "data": {
            "text/plain": [
              "31994"
            ]
          },
          "metadata": {},
          "execution_count": 7
        }
      ]
    },
    {
      "cell_type": "markdown",
      "source": [
        "#### Missing Values/Null Values"
      ],
      "metadata": {
        "id": "PoPl-ycgm1ru"
      }
    },
    {
      "cell_type": "code",
      "source": [
        "# Missing Values/Null Values Count\n",
        "df.isnull().sum().sort_values(ascending=False)"
      ],
      "metadata": {
        "id": "GgHWkxvamxVg",
        "colab": {
          "base_uri": "https://localhost:8080/"
        },
        "outputId": "1548ae04-dc83-41b3-e07c-211a254b260e"
      },
      "execution_count": null,
      "outputs": [
        {
          "output_type": "execute_result",
          "data": {
            "text/plain": [
              "company                           112593\n",
              "agent                              16340\n",
              "country                              488\n",
              "children                               4\n",
              "reserved_room_type                     0\n",
              "assigned_room_type                     0\n",
              "booking_changes                        0\n",
              "deposit_type                           0\n",
              "hotel                                  0\n",
              "previous_cancellations                 0\n",
              "days_in_waiting_list                   0\n",
              "customer_type                          0\n",
              "adr                                    0\n",
              "required_car_parking_spaces            0\n",
              "total_of_special_requests              0\n",
              "reservation_status                     0\n",
              "previous_bookings_not_canceled         0\n",
              "is_repeated_guest                      0\n",
              "is_canceled                            0\n",
              "distribution_channel                   0\n",
              "market_segment                         0\n",
              "meal                                   0\n",
              "babies                                 0\n",
              "adults                                 0\n",
              "stays_in_week_nights                   0\n",
              "stays_in_weekend_nights                0\n",
              "arrival_date_day_of_month              0\n",
              "arrival_date_week_number               0\n",
              "arrival_date_month                     0\n",
              "arrival_date_year                      0\n",
              "lead_time                              0\n",
              "reservation_status_date                0\n",
              "dtype: int64"
            ]
          },
          "metadata": {},
          "execution_count": 8
        }
      ]
    },
    {
      "cell_type": "code",
      "source": [
        "missing_percentages = df.isnull().sum().sort_values(ascending=False)/len(df)\n",
        "missing_percentages"
      ],
      "metadata": {
        "id": "FZ84wd9JPkV-",
        "outputId": "fc561425-41f3-4364-97a2-9be0344bdb7d",
        "colab": {
          "base_uri": "https://localhost:8080/"
        }
      },
      "execution_count": null,
      "outputs": [
        {
          "output_type": "execute_result",
          "data": {
            "text/plain": [
              "company                           0.943069\n",
              "agent                             0.136862\n",
              "country                           0.004087\n",
              "children                          0.000034\n",
              "reserved_room_type                0.000000\n",
              "assigned_room_type                0.000000\n",
              "booking_changes                   0.000000\n",
              "deposit_type                      0.000000\n",
              "hotel                             0.000000\n",
              "previous_cancellations            0.000000\n",
              "days_in_waiting_list              0.000000\n",
              "customer_type                     0.000000\n",
              "adr                               0.000000\n",
              "required_car_parking_spaces       0.000000\n",
              "total_of_special_requests         0.000000\n",
              "reservation_status                0.000000\n",
              "previous_bookings_not_canceled    0.000000\n",
              "is_repeated_guest                 0.000000\n",
              "is_canceled                       0.000000\n",
              "distribution_channel              0.000000\n",
              "market_segment                    0.000000\n",
              "meal                              0.000000\n",
              "babies                            0.000000\n",
              "adults                            0.000000\n",
              "stays_in_week_nights              0.000000\n",
              "stays_in_weekend_nights           0.000000\n",
              "arrival_date_day_of_month         0.000000\n",
              "arrival_date_week_number          0.000000\n",
              "arrival_date_month                0.000000\n",
              "arrival_date_year                 0.000000\n",
              "lead_time                         0.000000\n",
              "reservation_status_date           0.000000\n",
              "dtype: float64"
            ]
          },
          "metadata": {},
          "execution_count": 9
        }
      ]
    },
    {
      "cell_type": "code",
      "source": [
        "# Visualizing the missing values\n",
        "missing_percentages[missing_percentages!=0].plot(kind='barh')"
      ],
      "metadata": {
        "id": "3q5wnI3om9sJ",
        "colab": {
          "base_uri": "https://localhost:8080/",
          "height": 447
        },
        "outputId": "57b063c5-6a74-44e4-b16b-fab73ba218a1"
      },
      "execution_count": null,
      "outputs": [
        {
          "output_type": "execute_result",
          "data": {
            "text/plain": [
              "<Axes: >"
            ]
          },
          "metadata": {},
          "execution_count": 10
        },
        {
          "output_type": "display_data",
          "data": {
            "text/plain": [
              "<Figure size 640x480 with 1 Axes>"
            ],
            "image/png": "[encoded data removed]"
          },
          "metadata": {}
        }
      ]
    },
    {
      "cell_type": "markdown",
      "source": [
        "In addition to the heatmap, there is a bar on the right side of this diagram. This is a line plot for each row's data completeness. In this dataset, all rows have 29 - 32 valid values and hence 0 - 3 missing values."
      ],
      "metadata": {
        "id": "8sGEAKJfvI89"
      }
    },
    {
      "cell_type": "markdown",
      "source": [
        "### What did you know about your dataset?"
      ],
      "metadata": {
        "id": "H0kj-8xxnORC"
      }
    },
    {
      "cell_type": "code",
      "source": [
        "df.groupby(['arrival_date_month', 'arrival_date_year']).count()"
      ],
      "metadata": {
        "id": "0lqjMv9ppQHM",
        "outputId": "466320d6-5894-4ea7-856c-5c0a6a0308fe",
        "colab": {
          "base_uri": "https://localhost:8080/",
          "height": 960
        }
      },
      "execution_count": null,
      "outputs": [
        {
          "output_type": "execute_result",
          "data": {
            "text/plain": [
              "                                      hotel  is_canceled  lead_time  \\\n",
              "arrival_date_month arrival_date_year                                  \n",
              "April              2016                5428         5428       5428   \n",
              "                   2017                5661         5661       5661   \n",
              "August             2015                3889         3889       3889   \n",
              "                   2016                5063         5063       5063   \n",
              "                   2017                4925         4925       4925   \n",
              "December           2015                2920         2920       2920   \n",
              "                   2016                3860         3860       3860   \n",
              "February           2016                3891         3891       3891   \n",
              "                   2017                4177         4177       4177   \n",
              "January            2016                2248         2248       2248   \n",
              "                   2017                3681         3681       3681   \n",
              "July               2015                2776         2776       2776   \n",
              "                   2016                4572         4572       4572   \n",
              "                   2017                5313         5313       5313   \n",
              "June               2016                5292         5292       5292   \n",
              "                   2017                5647         5647       5647   \n",
              "March              2016                4824         4824       4824   \n",
              "                   2017                4970         4970       4970   \n",
              "May                2016                5478         5478       5478   \n",
              "                   2017                6313         6313       6313   \n",
              "November           2015                2340         2340       2340   \n",
              "                   2016                4454         4454       4454   \n",
              "October            2015                4957         4957       4957   \n",
              "                   2016                6203         6203       6203   \n",
              "September          2015                5114         5114       5114   \n",
              "                   2016                5394         5394       5394   \n",
              "\n",
              "                                      arrival_date_week_number  \\\n",
              "arrival_date_month arrival_date_year                             \n",
              "April              2016                                   5428   \n",
              "                   2017                                   5661   \n",
              "August             2015                                   3889   \n",
              "                   2016                                   5063   \n",
              "                   2017                                   4925   \n",
              "December           2015                                   2920   \n",
              "                   2016                                   3860   \n",
              "February           2016                                   3891   \n",
              "                   2017                                   4177   \n",
              "January            2016                                   2248   \n",
              "                   2017                                   3681   \n",
              "July               2015                                   2776   \n",
              "                   2016                                   4572   \n",
              "                   2017                                   5313   \n",
              "June               2016                                   5292   \n",
              "                   2017                                   5647   \n",
              "March              2016                                   4824   \n",
              "                   2017                                   4970   \n",
              "May                2016                                   5478   \n",
              "                   2017                                   6313   \n",
              "November           2015                                   2340   \n",
              "                   2016                                   4454   \n",
              "October            2015                                   4957   \n",
              "                   2016                                   6203   \n",
              "September          2015                                   5114   \n",
              "                   2016                                   5394   \n",
              "\n",
              "                                      arrival_date_day_of_month  \\\n",
              "arrival_date_month arrival_date_year                              \n",
              "April              2016                                    5428   \n",
              "                   2017                                    5661   \n",
              "August             2015                                    3889   \n",
              "                   2016                                    5063   \n",
              "                   2017                                    4925   \n",
              "December           2015                                    2920   \n",
              "                   2016                                    3860   \n",
              "February           2016                                    3891   \n",
              "                   2017                                    4177   \n",
              "January            2016                                    2248   \n",
              "                   2017                                    3681   \n",
              "July               2015                                    2776   \n",
              "                   2016                                    4572   \n",
              "                   2017                                    5313   \n",
              "June               2016                                    5292   \n",
              "                   2017                                    5647   \n",
              "March              2016                                    4824   \n",
              "                   2017                                    4970   \n",
              "May                2016                                    5478   \n",
              "                   2017                                    6313   \n",
              "November           2015                                    2340   \n",
              "                   2016                                    4454   \n",
              "October            2015                                    4957   \n",
              "                   2016                                    6203   \n",
              "September          2015                                    5114   \n",
              "                   2016                                    5394   \n",
              "\n",
              "                                      stays_in_weekend_nights  \\\n",
              "arrival_date_month arrival_date_year                            \n",
              "April              2016                                  5428   \n",
              "                   2017                                  5661   \n",
              "August             2015                                  3889   \n",
              "                   2016                                  5063   \n",
              "                   2017                                  4925   \n",
              "December           2015                                  2920   \n",
              "                   2016                                  3860   \n",
              "February           2016                                  3891   \n",
              "                   2017                                  4177   \n",
              "January            2016                                  2248   \n",
              "                   2017                                  3681   \n",
              "July               2015                                  2776   \n",
              "                   2016                                  4572   \n",
              "                   2017                                  5313   \n",
              "June               2016                                  5292   \n",
              "                   2017                                  5647   \n",
              "March              2016                                  4824   \n",
              "                   2017                                  4970   \n",
              "May                2016                                  5478   \n",
              "                   2017                                  6313   \n",
              "November           2015                                  2340   \n",
              "                   2016                                  4454   \n",
              "October            2015                                  4957   \n",
              "                   2016                                  6203   \n",
              "September          2015                                  5114   \n",
              "                   2016                                  5394   \n",
              "\n",
              "                                      stays_in_week_nights  adults  children  \\\n",
              "arrival_date_month arrival_date_year                                           \n",
              "April              2016                               5428    5428      5428   \n",
              "                   2017                               5661    5661      5661   \n",
              "August             2015                               3889    3889      3885   \n",
              "                   2016                               5063    5063      5063   \n",
              "                   2017                               4925    4925      4925   \n",
              "December           2015                               2920    2920      2920   \n",
              "                   2016                               3860    3860      3860   \n",
              "February           2016                               3891    3891      3891   \n",
              "                   2017                               4177    4177      4177   \n",
              "January            2016                               2248    2248      2248   \n",
              "                   2017                               3681    3681      3681   \n",
              "July               2015                               2776    2776      2776   \n",
              "                   2016                               4572    4572      4572   \n",
              "                   2017                               5313    5313      5313   \n",
              "June               2016                               5292    5292      5292   \n",
              "                   2017                               5647    5647      5647   \n",
              "March              2016                               4824    4824      4824   \n",
              "                   2017                               4970    4970      4970   \n",
              "May                2016                               5478    5478      5478   \n",
              "                   2017                               6313    6313      6313   \n",
              "November           2015                               2340    2340      2340   \n",
              "                   2016                               4454    4454      4454   \n",
              "October            2015                               4957    4957      4957   \n",
              "                   2016                               6203    6203      6203   \n",
              "September          2015                               5114    5114      5114   \n",
              "                   2016                               5394    5394      5394   \n",
              "\n",
              "                                      babies  meal  country  market_segment  \\\n",
              "arrival_date_month arrival_date_year                                          \n",
              "April              2016                 5428  5428     5404            5428   \n",
              "                   2017                 5661  5661     5641            5661   \n",
              "August             2015                 3889  3889     3877            3889   \n",
              "                   2016                 5063  5063     5054            5063   \n",
              "                   2017                 4925  4925     4925            4925   \n",
              "December           2015                 2920  2920     2900            2920   \n",
              "                   2016                 3860  3860     3828            3860   \n",
              "February           2016                 3891  3891     3857            3891   \n",
              "                   2017                 4177  4177     4155            4177   \n",
              "January            2016                 2248  2248     2215            2248   \n",
              "                   2017                 3681  3681     3659            3681   \n",
              "July               2015                 2776  2776     2763            2776   \n",
              "                   2016                 4572  4572     4552            4572   \n",
              "                   2017                 5313  5313     5313            5313   \n",
              "June               2016                 5292  5292     5280            5292   \n",
              "                   2017                 5647  5647     5647            5647   \n",
              "March              2016                 4824  4824     4788            4824   \n",
              "                   2017                 4970  4970     4951            4970   \n",
              "May                2016                 5478  5478     5466            5478   \n",
              "                   2017                 6313  6313     6313            6313   \n",
              "November           2015                 2340  2340     2320            2340   \n",
              "                   2016                 4454  4454     4432            4454   \n",
              "October            2015                 4957  4957     4919            4957   \n",
              "                   2016                 6203  6203     6176            6203   \n",
              "September          2015                 5114  5114     5084            5114   \n",
              "                   2016                 5394  5394     5383            5394   \n",
              "\n",
              "                                      distribution_channel  is_repeated_guest  \\\n",
              "arrival_date_month arrival_date_year                                            \n",
              "April              2016                               5428               5428   \n",
              "                   2017                               5661               5661   \n",
              "August             2015                               3889               3889   \n",
              "                   2016                               5063               5063   \n",
              "                   2017                               4925               4925   \n",
              "December           2015                               2920               2920   \n",
              "                   2016                               3860               3860   \n",
              "February           2016                               3891               3891   \n",
              "                   2017                               4177               4177   \n",
              "January            2016                               2248               2248   \n",
              "                   2017                               3681               3681   \n",
              "July               2015                               2776               2776   \n",
              "                   2016                               4572               4572   \n",
              "                   2017                               5313               5313   \n",
              "June               2016                               5292               5292   \n",
              "                   2017                               5647               5647   \n",
              "March              2016                               4824               4824   \n",
              "                   2017                               4970               4970   \n",
              "May                2016                               5478               5478   \n",
              "                   2017                               6313               6313   \n",
              "November           2015                               2340               2340   \n",
              "                   2016                               4454               4454   \n",
              "October            2015                               4957               4957   \n",
              "                   2016                               6203               6203   \n",
              "September          2015                               5114               5114   \n",
              "                   2016                               5394               5394   \n",
              "\n",
              "                                      previous_cancellations  \\\n",
              "arrival_date_month arrival_date_year                           \n",
              "April              2016                                 5428   \n",
              "                   2017                                 5661   \n",
              "August             2015                                 3889   \n",
              "                   2016                                 5063   \n",
              "                   2017                                 4925   \n",
              "December           2015                                 2920   \n",
              "                   2016                                 3860   \n",
              "February           2016                                 3891   \n",
              "                   2017                                 4177   \n",
              "January            2016                                 2248   \n",
              "                   2017                                 3681   \n",
              "July               2015                                 2776   \n",
              "                   2016                                 4572   \n",
              "                   2017                                 5313   \n",
              "June               2016                                 5292   \n",
              "                   2017                                 5647   \n",
              "March              2016                                 4824   \n",
              "                   2017                                 4970   \n",
              "May                2016                                 5478   \n",
              "                   2017                                 6313   \n",
              "November           2015                                 2340   \n",
              "                   2016                                 4454   \n",
              "October            2015                                 4957   \n",
              "                   2016                                 6203   \n",
              "September          2015                                 5114   \n",
              "                   2016                                 5394   \n",
              "\n",
              "                                      previous_bookings_not_canceled  \\\n",
              "arrival_date_month arrival_date_year                                   \n",
              "April              2016                                         5428   \n",
              "                   2017                                         5661   \n",
              "August             2015                                         3889   \n",
              "                   2016                                         5063   \n",
              "                   2017                                         4925   \n",
              "December           2015                                         2920   \n",
              "                   2016                                         3860   \n",
              "February           2016                                         3891   \n",
              "                   2017                                         4177   \n",
              "January            2016                                         2248   \n",
              "                   2017                                         3681   \n",
              "July               2015                                         2776   \n",
              "                   2016                                         4572   \n",
              "                   2017                                         5313   \n",
              "June               2016                                         5292   \n",
              "                   2017                                         5647   \n",
              "March              2016                                         4824   \n",
              "                   2017                                         4970   \n",
              "May                2016                                         5478   \n",
              "                   2017                                         6313   \n",
              "November           2015                                         2340   \n",
              "                   2016                                         4454   \n",
              "October            2015                                         4957   \n",
              "                   2016                                         6203   \n",
              "September          2015                                         5114   \n",
              "                   2016                                         5394   \n",
              "\n",
              "                                      reserved_room_type  assigned_room_type  \\\n",
              "arrival_date_month arrival_date_year                                           \n",
              "April              2016                             5428                5428   \n",
              "                   2017                             5661                5661   \n",
              "August             2015                             3889                3889   \n",
              "                   2016                             5063                5063   \n",
              "                   2017                             4925                4925   \n",
              "December           2015                             2920                2920   \n",
              "                   2016                             3860                3860   \n",
              "February           2016                             3891                3891   \n",
              "                   2017                             4177                4177   \n",
              "January            2016                             2248                2248   \n",
              "                   2017                             3681                3681   \n",
              "July               2015                             2776                2776   \n",
              "                   2016                             4572                4572   \n",
              "                   2017                             5313                5313   \n",
              "June               2016                             5292                5292   \n",
              "                   2017                             5647                5647   \n",
              "March              2016                             4824                4824   \n",
              "                   2017                             4970                4970   \n",
              "May                2016                             5478                5478   \n",
              "                   2017                             6313                6313   \n",
              "November           2015                             2340                2340   \n",
              "                   2016                             4454                4454   \n",
              "October            2015                             4957                4957   \n",
              "                   2016                             6203                6203   \n",
              "September          2015                             5114                5114   \n",
              "                   2016                             5394                5394   \n",
              "\n",
              "                                      booking_changes  deposit_type  agent  \\\n",
              "arrival_date_month arrival_date_year                                         \n",
              "April              2016                          5428          5428   4854   \n",
              "                   2017                          5661          5661   4904   \n",
              "August             2015                          3889          3889   3357   \n",
              "                   2016                          5063          5063   4692   \n",
              "                   2017                          4925          4925   4633   \n",
              "December           2015                          2920          2920   2367   \n",
              "                   2016                          3860          3860   3264   \n",
              "February           2016                          3891          3891   3056   \n",
              "                   2017                          4177          4177   3405   \n",
              "January            2016                          2248          2248   1784   \n",
              "                   2017                          3681          3681   2779   \n",
              "July               2015                          2776          2776   2569   \n",
              "                   2016                          4572          4572   4171   \n",
              "                   2017                          5313          5313   4864   \n",
              "June               2016                          5292          5292   4863   \n",
              "                   2017                          5647          5647   4943   \n",
              "March              2016                          4824          4824   4046   \n",
              "                   2017                          4970          4970   4103   \n",
              "May                2016                          5478          5478   4697   \n",
              "                   2017                          6313          6313   5392   \n",
              "November           2015                          2340          2340   1856   \n",
              "                   2016                          4454          4454   3553   \n",
              "October            2015                          4957          4957   4183   \n",
              "                   2016                          6203          6203   5278   \n",
              "September          2015                          5114          5114   4565   \n",
              "                   2016                          5394          5394   4872   \n",
              "\n",
              "                                      company  days_in_waiting_list  \\\n",
              "arrival_date_month arrival_date_year                                  \n",
              "April              2016                   215                  5428   \n",
              "                   2017                   381                  5661   \n",
              "August             2015                   145                  3889   \n",
              "                   2016                    70                  5063   \n",
              "                   2017                    73                  4925   \n",
              "December           2015                   167                  2920   \n",
              "                   2016                   203                  3860   \n",
              "February           2016                   367                  3891   \n",
              "                   2017                   374                  4177   \n",
              "January            2016                   163                  2248   \n",
              "                   2017                   376                  3681   \n",
              "July               2015                    25                  2776   \n",
              "                   2016                   159                  4572   \n",
              "                   2017                   116                  5313   \n",
              "June               2016                   166                  5292   \n",
              "                   2017                   265                  5647   \n",
              "March              2016                   354                  4824   \n",
              "                   2017                   377                  4970   \n",
              "May                2016                   464                  5478   \n",
              "                   2017                   348                  6313   \n",
              "November           2015                   421                  2340   \n",
              "                   2016                   360                  4454   \n",
              "October            2015                   307                  4957   \n",
              "                   2016                   400                  6203   \n",
              "September          2015                   240                  5114   \n",
              "                   2016                   261                  5394   \n",
              "\n",
              "                                      customer_type   adr  \\\n",
              "arrival_date_month arrival_date_year                        \n",
              "April              2016                        5428  5428   \n",
              "                   2017                        5661  5661   \n",
              "August             2015                        3889  3889   \n",
              "                   2016                        5063  5063   \n",
              "                   2017                        4925  4925   \n",
              "December           2015                        2920  2920   \n",
              "                   2016                        3860  3860   \n",
              "February           2016                        3891  3891   \n",
              "                   2017                        4177  4177   \n",
              "January            2016                        2248  2248   \n",
              "                   2017                        3681  3681   \n",
              "July               2015                        2776  2776   \n",
              "                   2016                        4572  4572   \n",
              "                   2017                        5313  5313   \n",
              "June               2016                        5292  5292   \n",
              "                   2017                        5647  5647   \n",
              "March              2016                        4824  4824   \n",
              "                   2017                        4970  4970   \n",
              "May                2016                        5478  5478   \n",
              "                   2017                        6313  6313   \n",
              "November           2015                        2340  2340   \n",
              "                   2016                        4454  4454   \n",
              "October            2015                        4957  4957   \n",
              "                   2016                        6203  6203   \n",
              "September          2015                        5114  5114   \n",
              "                   2016                        5394  5394   \n",
              "\n",
              "                                      required_car_parking_spaces  \\\n",
              "arrival_date_month arrival_date_year                                \n",
              "April              2016                                      5428   \n",
              "                   2017                                      5661   \n",
              "August             2015                                      3889   \n",
              "                   2016                                      5063   \n",
              "                   2017                                      4925   \n",
              "December           2015                                      2920   \n",
              "                   2016                                      3860   \n",
              "February           2016                                      3891   \n",
              "                   2017                                      4177   \n",
              "January            2016                                      2248   \n",
              "                   2017                                      3681   \n",
              "July               2015                                      2776   \n",
              "                   2016                                      4572   \n",
              "                   2017                                      5313   \n",
              "June               2016                                      5292   \n",
              "                   2017                                      5647   \n",
              "March              2016                                      4824   \n",
              "                   2017                                      4970   \n",
              "May                2016                                      5478   \n",
              "                   2017                                      6313   \n",
              "November           2015                                      2340   \n",
              "                   2016                                      4454   \n",
              "October            2015                                      4957   \n",
              "                   2016                                      6203   \n",
              "September          2015                                      5114   \n",
              "                   2016                                      5394   \n",
              "\n",
              "                                      total_of_special_requests  \\\n",
              "arrival_date_month arrival_date_year                              \n",
              "April              2016                                    5428   \n",
              "                   2017                                    5661   \n",
              "August             2015                                    3889   \n",
              "                   2016                                    5063   \n",
              "                   2017                                    4925   \n",
              "December           2015                                    2920   \n",
              "                   2016                                    3860   \n",
              "February           2016                                    3891   \n",
              "                   2017                                    4177   \n",
              "January            2016                                    2248   \n",
              "                   2017                                    3681   \n",
              "July               2015                                    2776   \n",
              "                   2016                                    4572   \n",
              "                   2017                                    5313   \n",
              "June               2016                                    5292   \n",
              "                   2017                                    5647   \n",
              "March              2016                                    4824   \n",
              "                   2017                                    4970   \n",
              "May                2016                                    5478   \n",
              "                   2017                                    6313   \n",
              "November           2015                                    2340   \n",
              "                   2016                                    4454   \n",
              "October            2015                                    4957   \n",
              "                   2016                                    6203   \n",
              "September          2015                                    5114   \n",
              "                   2016                                    5394   \n",
              "\n",
              "                                      reservation_status  \\\n",
              "arrival_date_month arrival_date_year                       \n",
              "April              2016                             5428   \n",
              "                   2017                             5661   \n",
              "August             2015                             3889   \n",
              "                   2016                             5063   \n",
              "                   2017                             4925   \n",
              "December           2015                             2920   \n",
              "                   2016                             3860   \n",
              "February           2016                             3891   \n",
              "                   2017                             4177   \n",
              "January            2016                             2248   \n",
              "                   2017                             3681   \n",
              "July               2015                             2776   \n",
              "                   2016                             4572   \n",
              "                   2017                             5313   \n",
              "June               2016                             5292   \n",
              "                   2017                             5647   \n",
              "March              2016                             4824   \n",
              "                   2017                             4970   \n",
              "May                2016                             5478   \n",
              "                   2017                             6313   \n",
              "November           2015                             2340   \n",
              "                   2016                             4454   \n",
              "October            2015                             4957   \n",
              "                   2016                             6203   \n",
              "September          2015                             5114   \n",
              "                   2016                             5394   \n",
              "\n",
              "                                      reservation_status_date  \n",
              "arrival_date_month arrival_date_year                           \n",
              "April              2016                                  5428  \n",
              "                   2017                                  5661  \n",
              "August             2015                                  3889  \n",
              "                   2016                                  5063  \n",
              "                   2017                                  4925  \n",
              "December           2015                                  2920  \n",
              "                   2016                                  3860  \n",
              "February           2016                                  3891  \n",
              "                   2017                                  4177  \n",
              "January            2016                                  2248  \n",
              "                   2017                                  3681  \n",
              "July               2015                                  2776  \n",
              "                   2016                                  4572  \n",
              "                   2017                                  5313  \n",
              "June               2016                                  5292  \n",
              "                   2017                                  5647  \n",
              "March              2016                                  4824  \n",
              "                   2017                                  4970  \n",
              "May                2016                                  5478  \n",
              "                   2017                                  6313  \n",
              "November           2015                                  2340  \n",
              "                   2016                                  4454  \n",
              "October            2015                                  4957  \n",
              "                   2016                                  6203  \n",
              "September          2015                                  5114  \n",
              "                   2016                                  5394  "
            ],
            "text/html": [
              "\n",
              "\n",
              "  <div id=\"df-d480168f-b48c-4e4f-82da-390e72b10f2d\">\n",
              "    <div class=\"colab-df-container\">\n",
              "      <div>\n",
              "<style scoped>\n",
              "    .dataframe tbody tr th:only-of-type {\n",
              "        vertical-align: middle;\n",
              "    }\n",
              "\n",
              "    .dataframe tbody tr th {\n",
              "        vertical-align: top;\n",
              "    }\n",
              "\n",
              "    .dataframe thead th {\n",
              "        text-align: right;\n",
              "    }\n",
              "</style>\n",
              "<table border=\"1\" class=\"dataframe\">\n",
              "  <thead>\n",
              "    <tr style=\"text-align: right;\">\n",
              "      <th></th>\n",
              "      <th></th>\n",
              "      <th>hotel</th>\n",
              "      <th>is_canceled</th>\n",
              "      <th>lead_time</th>\n",
              "      <th>arrival_date_week_number</th>\n",
              "      <th>arrival_date_day_of_month</th>\n",
              "      <th>stays_in_weekend_nights</th>\n",
              "      <th>stays_in_week_nights</th>\n",
              "      <th>adults</th>\n",
              "      <th>children</th>\n",
              "      <th>babies</th>\n",
              "      <th>meal</th>\n",
              "      <th>country</th>\n",
              "      <th>market_segment</th>\n",
              "      <th>distribution_channel</th>\n",
              "      <th>is_repeated_guest</th>\n",
              "      <th>previous_cancellations</th>\n",
              "      <th>previous_bookings_not_canceled</th>\n",
              "      <th>reserved_room_type</th>\n",
              "      <th>assigned_room_type</th>\n",
              "      <th>booking_changes</th>\n",
              "      <th>deposit_type</th>\n",
              "      <th>agent</th>\n",
              "      <th>company</th>\n",
              "      <th>days_in_waiting_list</th>\n",
              "      <th>customer_type</th>\n",
              "      <th>adr</th>\n",
              "      <th>required_car_parking_spaces</th>\n",
              "      <th>total_of_special_requests</th>\n",
              "      <th>reservation_status</th>\n",
              "      <th>reservation_status_date</th>\n",
              "    </tr>\n",
              "    <tr>\n",
              "      <th>arrival_date_month</th>\n",
              "      <th>arrival_date_year</th>\n",
              "      <th></th>\n",
              "      <th></th>\n",
              "      <th></th>\n",
              "      <th></th>\n",
              "      <th></th>\n",
              "      <th></th>\n",
              "      <th></th>\n",
              "      <th></th>\n",
              "      <th></th>\n",
              "      <th></th>\n",
              "      <th></th>\n",
              "      <th></th>\n",
              "      <th></th>\n",
              "      <th></th>\n",
              "      <th></th>\n",
              "      <th></th>\n",
              "      <th></th>\n",
              "      <th></th>\n",
              "      <th></th>\n",
              "      <th></th>\n",
              "      <th></th>\n",
              "      <th></th>\n",
              "      <th></th>\n",
              "      <th></th>\n",
              "      <th></th>\n",
              "      <th></th>\n",
              "      <th></th>\n",
              "      <th></th>\n",
              "      <th></th>\n",
              "      <th></th>\n",
              "    </tr>\n",
              "  </thead>\n",
              "  <tbody>\n",
              "    <tr>\n",
              "      <th rowspan=\"2\" valign=\"top\">April</th>\n",
              "      <th>2016</th>\n",
              "      <td>5428</td>\n",
              "      <td>5428</td>\n",
              "      <td>5428</td>\n",
              "      <td>5428</td>\n",
              "      <td>5428</td>\n",
              "      <td>5428</td>\n",
              "      <td>5428</td>\n",
              "      <td>5428</td>\n",
              "      <td>5428</td>\n",
              "      <td>5428</td>\n",
              "      <td>5428</td>\n",
              "      <td>5404</td>\n",
              "      <td>5428</td>\n",
              "      <td>5428</td>\n",
              "      <td>5428</td>\n",
              "      <td>5428</td>\n",
              "      <td>5428</td>\n",
              "      <td>5428</td>\n",
              "      <td>5428</td>\n",
              "      <td>5428</td>\n",
              "      <td>5428</td>\n",
              "      <td>4854</td>\n",
              "      <td>215</td>\n",
              "      <td>5428</td>\n",
              "      <td>5428</td>\n",
              "      <td>5428</td>\n",
              "      <td>5428</td>\n",
              "      <td>5428</td>\n",
              "      <td>5428</td>\n",
              "      <td>5428</td>\n",
              "    </tr>\n",
              "    <tr>\n",
              "      <th>2017</th>\n",
              "      <td>5661</td>\n",
              "      <td>5661</td>\n",
              "      <td>5661</td>\n",
              "      <td>5661</td>\n",
              "      <td>5661</td>\n",
              "      <td>5661</td>\n",
              "      <td>5661</td>\n",
              "      <td>5661</td>\n",
              "      <td>5661</td>\n",
              "      <td>5661</td>\n",
              "      <td>5661</td>\n",
              "      <td>5641</td>\n",
              "      <td>5661</td>\n",
              "      <td>5661</td>\n",
              "      <td>5661</td>\n",
              "      <td>5661</td>\n",
              "      <td>5661</td>\n",
              "      <td>5661</td>\n",
              "      <td>5661</td>\n",
              "      <td>5661</td>\n",
              "      <td>5661</td>\n",
              "      <td>4904</td>\n",
              "      <td>381</td>\n",
              "      <td>5661</td>\n",
              "      <td>5661</td>\n",
              "      <td>5661</td>\n",
              "      <td>5661</td>\n",
              "      <td>5661</td>\n",
              "      <td>5661</td>\n",
              "      <td>5661</td>\n",
              "    </tr>\n",
              "    <tr>\n",
              "      <th rowspan=\"3\" valign=\"top\">August</th>\n",
              "      <th>2015</th>\n",
              "      <td>3889</td>\n",
              "      <td>3889</td>\n",
              "      <td>3889</td>\n",
              "      <td>3889</td>\n",
              "      <td>3889</td>\n",
              "      <td>3889</td>\n",
              "      <td>3889</td>\n",
              "      <td>3889</td>\n",
              "      <td>3885</td>\n",
              "      <td>3889</td>\n",
              "      <td>3889</td>\n",
              "      <td>3877</td>\n",
              "      <td>3889</td>\n",
              "      <td>3889</td>\n",
              "      <td>3889</td>\n",
              "      <td>3889</td>\n",
              "      <td>3889</td>\n",
              "      <td>3889</td>\n",
              "      <td>3889</td>\n",
              "      <td>3889</td>\n",
              "      <td>3889</td>\n",
              "      <td>3357</td>\n",
              "      <td>145</td>\n",
              "      <td>3889</td>\n",
              "      <td>3889</td>\n",
              "      <td>3889</td>\n",
              "      <td>3889</td>\n",
              "      <td>3889</td>\n",
              "      <td>3889</td>\n",
              "      <td>3889</td>\n",
              "    </tr>\n",
              "    <tr>\n",
              "      <th>2016</th>\n",
              "      <td>5063</td>\n",
              "      <td>5063</td>\n",
              "      <td>5063</td>\n",
              "      <td>5063</td>\n",
              "      <td>5063</td>\n",
              "      <td>5063</td>\n",
              "      <td>5063</td>\n",
              "      <td>5063</td>\n",
              "      <td>5063</td>\n",
              "      <td>5063</td>\n",
              "      <td>5063</td>\n",
              "      <td>5054</td>\n",
              "      <td>5063</td>\n",
              "      <td>5063</td>\n",
              "      <td>5063</td>\n",
              "      <td>5063</td>\n",
              "      <td>5063</td>\n",
              "      <td>5063</td>\n",
              "      <td>5063</td>\n",
              "      <td>5063</td>\n",
              "      <td>5063</td>\n",
              "      <td>4692</td>\n",
              "      <td>70</td>\n",
              "      <td>5063</td>\n",
              "      <td>5063</td>\n",
              "      <td>5063</td>\n",
              "      <td>5063</td>\n",
              "      <td>5063</td>\n",
              "      <td>5063</td>\n",
              "      <td>5063</td>\n",
              "    </tr>\n",
              "    <tr>\n",
              "      <th>2017</th>\n",
              "      <td>4925</td>\n",
              "      <td>4925</td>\n",
              "      <td>4925</td>\n",
              "      <td>4925</td>\n",
              "      <td>4925</td>\n",
              "      <td>4925</td>\n",
              "      <td>4925</td>\n",
              "      <td>4925</td>\n",
              "      <td>4925</td>\n",
              "      <td>4925</td>\n",
              "      <td>4925</td>\n",
              "      <td>4925</td>\n",
              "      <td>4925</td>\n",
              "      <td>4925</td>\n",
              "      <td>4925</td>\n",
              "      <td>4925</td>\n",
              "      <td>4925</td>\n",
              "      <td>4925</td>\n",
              "      <td>4925</td>\n",
              "      <td>4925</td>\n",
              "      <td>4925</td>\n",
              "      <td>4633</td>\n",
              "      <td>73</td>\n",
              "      <td>4925</td>\n",
              "      <td>4925</td>\n",
              "      <td>4925</td>\n",
              "      <td>4925</td>\n",
              "      <td>4925</td>\n",
              "      <td>4925</td>\n",
              "      <td>4925</td>\n",
              "    </tr>\n",
              "    <tr>\n",
              "      <th rowspan=\"2\" valign=\"top\">December</th>\n",
              "      <th>2015</th>\n",
              "      <td>2920</td>\n",
              "      <td>2920</td>\n",
              "      <td>2920</td>\n",
              "      <td>2920</td>\n",
              "      <td>2920</td>\n",
              "      <td>2920</td>\n",
              "      <td>2920</td>\n",
              "      <td>2920</td>\n",
              "      <td>2920</td>\n",
              "      <td>2920</td>\n",
              "      <td>2920</td>\n",
              "      <td>2900</td>\n",
              "      <td>2920</td>\n",
              "      <td>2920</td>\n",
              "      <td>2920</td>\n",
              "      <td>2920</td>\n",
              "      <td>2920</td>\n",
              "      <td>2920</td>\n",
              "      <td>2920</td>\n",
              "      <td>2920</td>\n",
              "      <td>2920</td>\n",
              "      <td>2367</td>\n",
              "      <td>167</td>\n",
              "      <td>2920</td>\n",
              "      <td>2920</td>\n",
              "      <td>2920</td>\n",
              "      <td>2920</td>\n",
              "      <td>2920</td>\n",
              "      <td>2920</td>\n",
              "      <td>2920</td>\n",
              "    </tr>\n",
              "    <tr>\n",
              "      <th>2016</th>\n",
              "      <td>3860</td>\n",
              "      <td>3860</td>\n",
              "      <td>3860</td>\n",
              "      <td>3860</td>\n",
              "      <td>3860</td>\n",
              "      <td>3860</td>\n",
              "      <td>3860</td>\n",
              "      <td>3860</td>\n",
              "      <td>3860</td>\n",
              "      <td>3860</td>\n",
              "      <td>3860</td>\n",
              "      <td>3828</td>\n",
              "      <td>3860</td>\n",
              "      <td>3860</td>\n",
              "      <td>3860</td>\n",
              "      <td>3860</td>\n",
              "      <td>3860</td>\n",
              "      <td>3860</td>\n",
              "      <td>3860</td>\n",
              "      <td>3860</td>\n",
              "      <td>3860</td>\n",
              "      <td>3264</td>\n",
              "      <td>203</td>\n",
              "      <td>3860</td>\n",
              "      <td>3860</td>\n",
              "      <td>3860</td>\n",
              "      <td>3860</td>\n",
              "      <td>3860</td>\n",
              "      <td>3860</td>\n",
              "      <td>3860</td>\n",
              "    </tr>\n",
              "    <tr>\n",
              "      <th rowspan=\"2\" valign=\"top\">February</th>\n",
              "      <th>2016</th>\n",
              "      <td>3891</td>\n",
              "      <td>3891</td>\n",
              "      <td>3891</td>\n",
              "      <td>3891</td>\n",
              "      <td>3891</td>\n",
              "      <td>3891</td>\n",
              "      <td>3891</td>\n",
              "      <td>3891</td>\n",
              "      <td>3891</td>\n",
              "      <td>3891</td>\n",
              "      <td>3891</td>\n",
              "      <td>3857</td>\n",
              "      <td>3891</td>\n",
              "      <td>3891</td>\n",
              "      <td>3891</td>\n",
              "      <td>3891</td>\n",
              "      <td>3891</td>\n",
              "      <td>3891</td>\n",
              "      <td>3891</td>\n",
              "      <td>3891</td>\n",
              "      <td>3891</td>\n",
              "      <td>3056</td>\n",
              "      <td>367</td>\n",
              "      <td>3891</td>\n",
              "      <td>3891</td>\n",
              "      <td>3891</td>\n",
              "      <td>3891</td>\n",
              "      <td>3891</td>\n",
              "      <td>3891</td>\n",
              "      <td>3891</td>\n",
              "    </tr>\n",
              "    <tr>\n",
              "      <th>2017</th>\n",
              "      <td>4177</td>\n",
              "      <td>4177</td>\n",
              "      <td>4177</td>\n",
              "      <td>4177</td>\n",
              "      <td>4177</td>\n",
              "      <td>4177</td>\n",
              "      <td>4177</td>\n",
              "      <td>4177</td>\n",
              "      <td>4177</td>\n",
              "      <td>4177</td>\n",
              "      <td>4177</td>\n",
              "      <td>4155</td>\n",
              "      <td>4177</td>\n",
              "      <td>4177</td>\n",
              "      <td>4177</td>\n",
              "      <td>4177</td>\n",
              "      <td>4177</td>\n",
              "      <td>4177</td>\n",
              "      <td>4177</td>\n",
              "      <td>4177</td>\n",
              "      <td>4177</td>\n",
              "      <td>3405</td>\n",
              "      <td>374</td>\n",
              "      <td>4177</td>\n",
              "      <td>4177</td>\n",
              "      <td>4177</td>\n",
              "      <td>4177</td>\n",
              "      <td>4177</td>\n",
              "      <td>4177</td>\n",
              "      <td>4177</td>\n",
              "    </tr>\n",
              "    <tr>\n",
              "      <th rowspan=\"2\" valign=\"top\">January</th>\n",
              "      <th>2016</th>\n",
              "      <td>2248</td>\n",
              "      <td>2248</td>\n",
              "      <td>2248</td>\n",
              "      <td>2248</td>\n",
              "      <td>2248</td>\n",
              "      <td>2248</td>\n",
              "      <td>2248</td>\n",
              "      <td>2248</td>\n",
              "      <td>2248</td>\n",
              "      <td>2248</td>\n",
              "      <td>2248</td>\n",
              "      <td>2215</td>\n",
              "      <td>2248</td>\n",
              "      <td>2248</td>\n",
              "      <td>2248</td>\n",
              "      <td>2248</td>\n",
              "      <td>2248</td>\n",
              "      <td>2248</td>\n",
              "      <td>2248</td>\n",
              "      <td>2248</td>\n",
              "      <td>2248</td>\n",
              "      <td>1784</td>\n",
              "      <td>163</td>\n",
              "      <td>2248</td>\n",
              "      <td>2248</td>\n",
              "      <td>2248</td>\n",
              "      <td>2248</td>\n",
              "      <td>2248</td>\n",
              "      <td>2248</td>\n",
              "      <td>2248</td>\n",
              "    </tr>\n",
              "    <tr>\n",
              "      <th>2017</th>\n",
              "      <td>3681</td>\n",
              "      <td>3681</td>\n",
              "      <td>3681</td>\n",
              "      <td>3681</td>\n",
              "      <td>3681</td>\n",
              "      <td>3681</td>\n",
              "      <td>3681</td>\n",
              "      <td>3681</td>\n",
              "      <td>3681</td>\n",
              "      <td>3681</td>\n",
              "      <td>3681</td>\n",
              "      <td>3659</td>\n",
              "      <td>3681</td>\n",
              "      <td>3681</td>\n",
              "      <td>3681</td>\n",
              "      <td>3681</td>\n",
              "      <td>3681</td>\n",
              "      <td>3681</td>\n",
              "      <td>3681</td>\n",
              "      <td>3681</td>\n",
              "      <td>3681</td>\n",
              "      <td>2779</td>\n",
              "      <td>376</td>\n",
              "      <td>3681</td>\n",
              "      <td>3681</td>\n",
              "      <td>3681</td>\n",
              "      <td>3681</td>\n",
              "      <td>3681</td>\n",
              "      <td>3681</td>\n",
              "      <td>3681</td>\n",
              "    </tr>\n",
              "    <tr>\n",
              "      <th rowspan=\"3\" valign=\"top\">July</th>\n",
              "      <th>2015</th>\n",
              "      <td>2776</td>\n",
              "      <td>2776</td>\n",
              "      <td>2776</td>\n",
              "      <td>2776</td>\n",
              "      <td>2776</td>\n",
              "      <td>2776</td>\n",
              "      <td>2776</td>\n",
              "      <td>2776</td>\n",
              "      <td>2776</td>\n",
              "      <td>2776</td>\n",
              "      <td>2776</td>\n",
              "      <td>2763</td>\n",
              "      <td>2776</td>\n",
              "      <td>2776</td>\n",
              "      <td>2776</td>\n",
              "      <td>2776</td>\n",
              "      <td>2776</td>\n",
              "      <td>2776</td>\n",
              "      <td>2776</td>\n",
              "      <td>2776</td>\n",
              "      <td>2776</td>\n",
              "      <td>2569</td>\n",
              "      <td>25</td>\n",
              "      <td>2776</td>\n",
              "      <td>2776</td>\n",
              "      <td>2776</td>\n",
              "      <td>2776</td>\n",
              "      <td>2776</td>\n",
              "      <td>2776</td>\n",
              "      <td>2776</td>\n",
              "    </tr>\n",
              "    <tr>\n",
              "      <th>2016</th>\n",
              "      <td>4572</td>\n",
              "      <td>4572</td>\n",
              "      <td>4572</td>\n",
              "      <td>4572</td>\n",
              "      <td>4572</td>\n",
              "      <td>4572</td>\n",
              "      <td>4572</td>\n",
              "      <td>4572</td>\n",
              "      <td>4572</td>\n",
              "      <td>4572</td>\n",
              "      <td>4572</td>\n",
              "      <td>4552</td>\n",
              "      <td>4572</td>\n",
              "      <td>4572</td>\n",
              "      <td>4572</td>\n",
              "      <td>4572</td>\n",
              "      <td>4572</td>\n",
              "      <td>4572</td>\n",
              "      <td>4572</td>\n",
              "      <td>4572</td>\n",
              "      <td>4572</td>\n",
              "      <td>4171</td>\n",
              "      <td>159</td>\n",
              "      <td>4572</td>\n",
              "      <td>4572</td>\n",
              "      <td>4572</td>\n",
              "      <td>4572</td>\n",
              "      <td>4572</td>\n",
              "      <td>4572</td>\n",
              "      <td>4572</td>\n",
              "    </tr>\n",
              "    <tr>\n",
              "      <th>2017</th>\n",
              "      <td>5313</td>\n",
              "      <td>5313</td>\n",
              "      <td>5313</td>\n",
              "      <td>5313</td>\n",
              "      <td>5313</td>\n",
              "      <td>5313</td>\n",
              "      <td>5313</td>\n",
              "      <td>5313</td>\n",
              "      <td>5313</td>\n",
              "      <td>5313</td>\n",
              "      <td>5313</td>\n",
              "      <td>5313</td>\n",
              "      <td>5313</td>\n",
              "      <td>5313</td>\n",
              "      <td>5313</td>\n",
              "      <td>5313</td>\n",
              "      <td>5313</td>\n",
              "      <td>5313</td>\n",
              "      <td>5313</td>\n",
              "      <td>5313</td>\n",
              "      <td>5313</td>\n",
              "      <td>4864</td>\n",
              "      <td>116</td>\n",
              "      <td>5313</td>\n",
              "      <td>5313</td>\n",
              "      <td>5313</td>\n",
              "      <td>5313</td>\n",
              "      <td>5313</td>\n",
              "      <td>5313</td>\n",
              "      <td>5313</td>\n",
              "    </tr>\n",
              "    <tr>\n",
              "      <th rowspan=\"2\" valign=\"top\">June</th>\n",
              "      <th>2016</th>\n",
              "      <td>5292</td>\n",
              "      <td>5292</td>\n",
              "      <td>5292</td>\n",
              "      <td>5292</td>\n",
              "      <td>5292</td>\n",
              "      <td>5292</td>\n",
              "      <td>5292</td>\n",
              "      <td>5292</td>\n",
              "      <td>5292</td>\n",
              "      <td>5292</td>\n",
              "      <td>5292</td>\n",
              "      <td>5280</td>\n",
              "      <td>5292</td>\n",
              "      <td>5292</td>\n",
              "      <td>5292</td>\n",
              "      <td>5292</td>\n",
              "      <td>5292</td>\n",
              "      <td>5292</td>\n",
              "      <td>5292</td>\n",
              "      <td>5292</td>\n",
              "      <td>5292</td>\n",
              "      <td>4863</td>\n",
              "      <td>166</td>\n",
              "      <td>5292</td>\n",
              "      <td>5292</td>\n",
              "      <td>5292</td>\n",
              "      <td>5292</td>\n",
              "      <td>5292</td>\n",
              "      <td>5292</td>\n",
              "      <td>5292</td>\n",
              "    </tr>\n",
              "    <tr>\n",
              "      <th>2017</th>\n",
              "      <td>5647</td>\n",
              "      <td>5647</td>\n",
              "      <td>5647</td>\n",
              "      <td>5647</td>\n",
              "      <td>5647</td>\n",
              "      <td>5647</td>\n",
              "      <td>5647</td>\n",
              "      <td>5647</td>\n",
              "      <td>5647</td>\n",
              "      <td>5647</td>\n",
              "      <td>5647</td>\n",
              "      <td>5647</td>\n",
              "      <td>5647</td>\n",
              "      <td>5647</td>\n",
              "      <td>5647</td>\n",
              "      <td>5647</td>\n",
              "      <td>5647</td>\n",
              "      <td>5647</td>\n",
              "      <td>5647</td>\n",
              "      <td>5647</td>\n",
              "      <td>5647</td>\n",
              "      <td>4943</td>\n",
              "      <td>265</td>\n",
              "      <td>5647</td>\n",
              "      <td>5647</td>\n",
              "      <td>5647</td>\n",
              "      <td>5647</td>\n",
              "      <td>5647</td>\n",
              "      <td>5647</td>\n",
              "      <td>5647</td>\n",
              "    </tr>\n",
              "    <tr>\n",
              "      <th rowspan=\"2\" valign=\"top\">March</th>\n",
              "      <th>2016</th>\n",
              "      <td>4824</td>\n",
              "      <td>4824</td>\n",
              "      <td>4824</td>\n",
              "      <td>4824</td>\n",
              "      <td>4824</td>\n",
              "      <td>4824</td>\n",
              "      <td>4824</td>\n",
              "      <td>4824</td>\n",
              "      <td>4824</td>\n",
              "      <td>4824</td>\n",
              "      <td>4824</td>\n",
              "      <td>4788</td>\n",
              "      <td>4824</td>\n",
              "      <td>4824</td>\n",
              "      <td>4824</td>\n",
              "      <td>4824</td>\n",
              "      <td>4824</td>\n",
              "      <td>4824</td>\n",
              "      <td>4824</td>\n",
              "      <td>4824</td>\n",
              "      <td>4824</td>\n",
              "      <td>4046</td>\n",
              "      <td>354</td>\n",
              "      <td>4824</td>\n",
              "      <td>4824</td>\n",
              "      <td>4824</td>\n",
              "      <td>4824</td>\n",
              "      <td>4824</td>\n",
              "      <td>4824</td>\n",
              "      <td>4824</td>\n",
              "    </tr>\n",
              "    <tr>\n",
              "      <th>2017</th>\n",
              "      <td>4970</td>\n",
              "      <td>4970</td>\n",
              "      <td>4970</td>\n",
              "      <td>4970</td>\n",
              "      <td>4970</td>\n",
              "      <td>4970</td>\n",
              "      <td>4970</td>\n",
              "      <td>4970</td>\n",
              "      <td>4970</td>\n",
              "      <td>4970</td>\n",
              "      <td>4970</td>\n",
              "      <td>4951</td>\n",
              "      <td>4970</td>\n",
              "      <td>4970</td>\n",
              "      <td>4970</td>\n",
              "      <td>4970</td>\n",
              "      <td>4970</td>\n",
              "      <td>4970</td>\n",
              "      <td>4970</td>\n",
              "      <td>4970</td>\n",
              "      <td>4970</td>\n",
              "      <td>4103</td>\n",
              "      <td>377</td>\n",
              "      <td>4970</td>\n",
              "      <td>4970</td>\n",
              "      <td>4970</td>\n",
              "      <td>4970</td>\n",
              "      <td>4970</td>\n",
              "      <td>4970</td>\n",
              "      <td>4970</td>\n",
              "    </tr>\n",
              "    <tr>\n",
              "      <th rowspan=\"2\" valign=\"top\">May</th>\n",
              "      <th>2016</th>\n",
              "      <td>5478</td>\n",
              "      <td>5478</td>\n",
              "      <td>5478</td>\n",
              "      <td>5478</td>\n",
              "      <td>5478</td>\n",
              "      <td>5478</td>\n",
              "      <td>5478</td>\n",
              "      <td>5478</td>\n",
              "      <td>5478</td>\n",
              "      <td>5478</td>\n",
              "      <td>5478</td>\n",
              "      <td>5466</td>\n",
              "      <td>5478</td>\n",
              "      <td>5478</td>\n",
              "      <td>5478</td>\n",
              "      <td>5478</td>\n",
              "      <td>5478</td>\n",
              "      <td>5478</td>\n",
              "      <td>5478</td>\n",
              "      <td>5478</td>\n",
              "      <td>5478</td>\n",
              "      <td>4697</td>\n",
              "      <td>464</td>\n",
              "      <td>5478</td>\n",
              "      <td>5478</td>\n",
              "      <td>5478</td>\n",
              "      <td>5478</td>\n",
              "      <td>5478</td>\n",
              "      <td>5478</td>\n",
              "      <td>5478</td>\n",
              "    </tr>\n",
              "    <tr>\n",
              "      <th>2017</th>\n",
              "      <td>6313</td>\n",
              "      <td>6313</td>\n",
              "      <td>6313</td>\n",
              "      <td>6313</td>\n",
              "      <td>6313</td>\n",
              "      <td>6313</td>\n",
              "      <td>6313</td>\n",
              "      <td>6313</td>\n",
              "      <td>6313</td>\n",
              "      <td>6313</td>\n",
              "      <td>6313</td>\n",
              "      <td>6313</td>\n",
              "      <td>6313</td>\n",
              "      <td>6313</td>\n",
              "      <td>6313</td>\n",
              "      <td>6313</td>\n",
              "      <td>6313</td>\n",
              "      <td>6313</td>\n",
              "      <td>6313</td>\n",
              "      <td>6313</td>\n",
              "      <td>6313</td>\n",
              "      <td>5392</td>\n",
              "      <td>348</td>\n",
              "      <td>6313</td>\n",
              "      <td>6313</td>\n",
              "      <td>6313</td>\n",
              "      <td>6313</td>\n",
              "      <td>6313</td>\n",
              "      <td>6313</td>\n",
              "      <td>6313</td>\n",
              "    </tr>\n",
              "    <tr>\n",
              "      <th rowspan=\"2\" valign=\"top\">November</th>\n",
              "      <th>2015</th>\n",
              "      <td>2340</td>\n",
              "      <td>2340</td>\n",
              "      <td>2340</td>\n",
              "      <td>2340</td>\n",
              "      <td>2340</td>\n",
              "      <td>2340</td>\n",
              "      <td>2340</td>\n",
              "      <td>2340</td>\n",
              "      <td>2340</td>\n",
              "      <td>2340</td>\n",
              "      <td>2340</td>\n",
              "      <td>2320</td>\n",
              "      <td>2340</td>\n",
              "      <td>2340</td>\n",
              "      <td>2340</td>\n",
              "      <td>2340</td>\n",
              "      <td>2340</td>\n",
              "      <td>2340</td>\n",
              "      <td>2340</td>\n",
              "      <td>2340</td>\n",
              "      <td>2340</td>\n",
              "      <td>1856</td>\n",
              "      <td>421</td>\n",
              "      <td>2340</td>\n",
              "      <td>2340</td>\n",
              "      <td>2340</td>\n",
              "      <td>2340</td>\n",
              "      <td>2340</td>\n",
              "      <td>2340</td>\n",
              "      <td>2340</td>\n",
              "    </tr>\n",
              "    <tr>\n",
              "      <th>2016</th>\n",
              "      <td>4454</td>\n",
              "      <td>4454</td>\n",
              "      <td>4454</td>\n",
              "      <td>4454</td>\n",
              "      <td>4454</td>\n",
              "      <td>4454</td>\n",
              "      <td>4454</td>\n",
              "      <td>4454</td>\n",
              "      <td>4454</td>\n",
              "      <td>4454</td>\n",
              "      <td>4454</td>\n",
              "      <td>4432</td>\n",
              "      <td>4454</td>\n",
              "      <td>4454</td>\n",
              "      <td>4454</td>\n",
              "      <td>4454</td>\n",
              "      <td>4454</td>\n",
              "      <td>4454</td>\n",
              "      <td>4454</td>\n",
              "      <td>4454</td>\n",
              "      <td>4454</td>\n",
              "      <td>3553</td>\n",
              "      <td>360</td>\n",
              "      <td>4454</td>\n",
              "      <td>4454</td>\n",
              "      <td>4454</td>\n",
              "      <td>4454</td>\n",
              "      <td>4454</td>\n",
              "      <td>4454</td>\n",
              "      <td>4454</td>\n",
              "    </tr>\n",
              "    <tr>\n",
              "      <th rowspan=\"2\" valign=\"top\">October</th>\n",
              "      <th>2015</th>\n",
              "      <td>4957</td>\n",
              "      <td>4957</td>\n",
              "      <td>4957</td>\n",
              "      <td>4957</td>\n",
              "      <td>4957</td>\n",
              "      <td>4957</td>\n",
              "      <td>4957</td>\n",
              "      <td>4957</td>\n",
              "      <td>4957</td>\n",
              "      <td>4957</td>\n",
              "      <td>4957</td>\n",
              "      <td>4919</td>\n",
              "      <td>4957</td>\n",
              "      <td>4957</td>\n",
              "      <td>4957</td>\n",
              "      <td>4957</td>\n",
              "      <td>4957</td>\n",
              "      <td>4957</td>\n",
              "      <td>4957</td>\n",
              "      <td>4957</td>\n",
              "      <td>4957</td>\n",
              "      <td>4183</td>\n",
              "      <td>307</td>\n",
              "      <td>4957</td>\n",
              "      <td>4957</td>\n",
              "      <td>4957</td>\n",
              "      <td>4957</td>\n",
              "      <td>4957</td>\n",
              "      <td>4957</td>\n",
              "      <td>4957</td>\n",
              "    </tr>\n",
              "    <tr>\n",
              "      <th>2016</th>\n",
              "      <td>6203</td>\n",
              "      <td>6203</td>\n",
              "      <td>6203</td>\n",
              "      <td>6203</td>\n",
              "      <td>6203</td>\n",
              "      <td>6203</td>\n",
              "      <td>6203</td>\n",
              "      <td>6203</td>\n",
              "      <td>6203</td>\n",
              "      <td>6203</td>\n",
              "      <td>6203</td>\n",
              "      <td>6176</td>\n",
              "      <td>6203</td>\n",
              "      <td>6203</td>\n",
              "      <td>6203</td>\n",
              "      <td>6203</td>\n",
              "      <td>6203</td>\n",
              "      <td>6203</td>\n",
              "      <td>6203</td>\n",
              "      <td>6203</td>\n",
              "      <td>6203</td>\n",
              "      <td>5278</td>\n",
              "      <td>400</td>\n",
              "      <td>6203</td>\n",
              "      <td>6203</td>\n",
              "      <td>6203</td>\n",
              "      <td>6203</td>\n",
              "      <td>6203</td>\n",
              "      <td>6203</td>\n",
              "      <td>6203</td>\n",
              "    </tr>\n",
              "    <tr>\n",
              "      <th rowspan=\"2\" valign=\"top\">September</th>\n",
              "      <th>2015</th>\n",
              "      <td>5114</td>\n",
              "      <td>5114</td>\n",
              "      <td>5114</td>\n",
              "      <td>5114</td>\n",
              "      <td>5114</td>\n",
              "      <td>5114</td>\n",
              "      <td>5114</td>\n",
              "      <td>5114</td>\n",
              "      <td>5114</td>\n",
              "      <td>5114</td>\n",
              "      <td>5114</td>\n",
              "      <td>5084</td>\n",
              "      <td>5114</td>\n",
              "      <td>5114</td>\n",
              "      <td>5114</td>\n",
              "      <td>5114</td>\n",
              "      <td>5114</td>\n",
              "      <td>5114</td>\n",
              "      <td>5114</td>\n",
              "      <td>5114</td>\n",
              "      <td>5114</td>\n",
              "      <td>4565</td>\n",
              "      <td>240</td>\n",
              "      <td>5114</td>\n",
              "      <td>5114</td>\n",
              "      <td>5114</td>\n",
              "      <td>5114</td>\n",
              "      <td>5114</td>\n",
              "      <td>5114</td>\n",
              "      <td>5114</td>\n",
              "    </tr>\n",
              "    <tr>\n",
              "      <th>2016</th>\n",
              "      <td>5394</td>\n",
              "      <td>5394</td>\n",
              "      <td>5394</td>\n",
              "      <td>5394</td>\n",
              "      <td>5394</td>\n",
              "      <td>5394</td>\n",
              "      <td>5394</td>\n",
              "      <td>5394</td>\n",
              "      <td>5394</td>\n",
              "      <td>5394</td>\n",
              "      <td>5394</td>\n",
              "      <td>5383</td>\n",
              "      <td>5394</td>\n",
              "      <td>5394</td>\n",
              "      <td>5394</td>\n",
              "      <td>5394</td>\n",
              "      <td>5394</td>\n",
              "      <td>5394</td>\n",
              "      <td>5394</td>\n",
              "      <td>5394</td>\n",
              "      <td>5394</td>\n",
              "      <td>4872</td>\n",
              "      <td>261</td>\n",
              "      <td>5394</td>\n",
              "      <td>5394</td>\n",
              "      <td>5394</td>\n",
              "      <td>5394</td>\n",
              "      <td>5394</td>\n",
              "      <td>5394</td>\n",
              "      <td>5394</td>\n",
              "    </tr>\n",
              "  </tbody>\n",
              "</table>\n",
              "</div>\n",
              "      <button class=\"colab-df-convert\" onclick=\"convertToInteractive('df-d480168f-b48c-4e4f-82da-390e72b10f2d')\"\n",
              "              title=\"Convert this dataframe to an interactive table.\"\n",
              "              style=\"display:none;\">\n",
              "\n",
              "  <svg xmlns=\"http://www.w3.org/2000/svg\" height=\"24px\"viewBox=\"0 0 24 24\"\n",
              "       width=\"24px\">\n",
              "    <path d=\"M0 0h24v24H0V0z\" fill=\"none\"/>\n",
              "    <path d=\"M18.56 5.44l.94 2.06.94-2.06 2.06-.94-2.06-.94-.94-2.06-.94 2.06-2.06.94zm-11 1L8.5 8.5l.94-2.06 2.06-.94-2.06-.94L8.5 2.5l-.94 2.06-2.06.94zm10 10l.94 2.06.94-2.06 2.06-.94-2.06-.94-.94-2.06-.94 2.06-2.06.94z\"/><path d=\"M17.41 7.96l-1.37-1.37c-.4-.4-.92-.59-1.43-.59-.52 0-1.04.2-1.43.59L10.3 9.45l-7.72 7.72c-.78.78-.78 2.05 0 2.83L4 21.41c.39.39.9.59 1.41.59.51 0 1.02-.2 1.41-.59l7.78-7.78 2.81-2.81c.8-.78.8-2.07 0-2.86zM5.41 20L4 18.59l7.72-7.72 1.47 1.35L5.41 20z\"/>\n",
              "  </svg>\n",
              "      </button>\n",
              "\n",
              "\n",
              "\n",
              "    <div id=\"df-ce0e9bf1-c929-403c-808e-1d120ccf8803\">\n",
              "      <button class=\"colab-df-quickchart\" onclick=\"quickchart('df-ce0e9bf1-c929-403c-808e-1d120ccf8803')\"\n",
              "              title=\"Suggest charts.\"\n",
              "              style=\"display:none;\">\n",
              "\n",
              "<svg xmlns=\"http://www.w3.org/2000/svg\" height=\"24px\"viewBox=\"0 0 24 24\"\n",
              "     width=\"24px\">\n",
              "    <g>\n",
              "        <path d=\"M19 3H5c-1.1 0-2 .9-2 2v14c0 1.1.9 2 2 2h14c1.1 0 2-.9 2-2V5c0-1.1-.9-2-2-2zM9 17H7v-7h2v7zm4 0h-2V7h2v10zm4 0h-2v-4h2v4z\"/>\n",
              "    </g>\n",
              "</svg>\n",
              "      </button>\n",
              "    </div>\n",
              "\n",
              "<style>\n",
              "  .colab-df-quickchart {\n",
              "    background-color: #E8F0FE;\n",
              "    border: none;\n",
              "    border-radius: 50%;\n",
              "    cursor: pointer;\n",
              "    display: none;\n",
              "    fill: #1967D2;\n",
              "    height: 32px;\n",
              "    padding: 0 0 0 0;\n",
              "    width: 32px;\n",
              "  }\n",
              "\n",
              "  .colab-df-quickchart:hover {\n",
              "    background-color: #E2EBFA;\n",
              "    box-shadow: 0px 1px 2px rgba(60, 64, 67, 0.3), 0px 1px 3px 1px rgba(60, 64, 67, 0.15);\n",
              "    fill: #174EA6;\n",
              "  }\n",
              "\n",
              "  [theme=dark] .colab-df-quickchart {\n",
              "    background-color: #3B4455;\n",
              "    fill: #D2E3FC;\n",
              "  }\n",
              "\n",
              "  [theme=dark] .colab-df-quickchart:hover {\n",
              "    background-color: #434B5C;\n",
              "    box-shadow: 0px 1px 3px 1px rgba(0, 0, 0, 0.15);\n",
              "    filter: drop-shadow(0px 1px 2px rgba(0, 0, 0, 0.3));\n",
              "    fill: #FFFFFF;\n",
              "  }\n",
              "</style>\n",
              "\n",
              "    <script>\n",
              "      async function quickchart(key) {\n",
              "        const containerElement = document.querySelector('#' + key);\n",
              "        const charts = await google.colab.kernel.invokeFunction(\n",
              "            'suggestCharts', [key], {});\n",
              "      }\n",
              "    </script>\n",
              "\n",
              "      <script>\n",
              "\n",
              "function displayQuickchartButton(domScope) {\n",
              "  let quickchartButtonEl =\n",
              "    domScope.querySelector('#df-ce0e9bf1-c929-403c-808e-1d120ccf8803 button.colab-df-quickchart');\n",
              "  quickchartButtonEl.style.display =\n",
              "    google.colab.kernel.accessAllowed ? 'block' : 'none';\n",
              "}\n",
              "\n",
              "        displayQuickchartButton(document);\n",
              "      </script>\n",
              "      <style>\n",
              "    .colab-df-container {\n",
              "      display:flex;\n",
              "      flex-wrap:wrap;\n",
              "      gap: 12px;\n",
              "    }\n",
              "\n",
              "    .colab-df-convert {\n",
              "      background-color: #E8F0FE;\n",
              "      border: none;\n",
              "      border-radius: 50%;\n",
              "      cursor: pointer;\n",
              "      display: none;\n",
              "      fill: #1967D2;\n",
              "      height: 32px;\n",
              "      padding: 0 0 0 0;\n",
              "      width: 32px;\n",
              "    }\n",
              "\n",
              "    .colab-df-convert:hover {\n",
              "      background-color: #E2EBFA;\n",
              "      box-shadow: 0px 1px 2px rgba(60, 64, 67, 0.3), 0px 1px 3px 1px rgba(60, 64, 67, 0.15);\n",
              "      fill: #174EA6;\n",
              "    }\n",
              "\n",
              "    [theme=dark] .colab-df-convert {\n",
              "      background-color: #3B4455;\n",
              "      fill: #D2E3FC;\n",
              "    }\n",
              "\n",
              "    [theme=dark] .colab-df-convert:hover {\n",
              "      background-color: #434B5C;\n",
              "      box-shadow: 0px 1px 3px 1px rgba(0, 0, 0, 0.15);\n",
              "      filter: drop-shadow(0px 1px 2px rgba(0, 0, 0, 0.3));\n",
              "      fill: #FFFFFF;\n",
              "    }\n",
              "  </style>\n",
              "\n",
              "      <script>\n",
              "        const buttonEl =\n",
              "          document.querySelector('#df-d480168f-b48c-4e4f-82da-390e72b10f2d button.colab-df-convert');\n",
              "        buttonEl.style.display =\n",
              "          google.colab.kernel.accessAllowed ? 'block' : 'none';\n",
              "\n",
              "        async function convertToInteractive(key) {\n",
              "          const element = document.querySelector('#df-d480168f-b48c-4e4f-82da-390e72b10f2d');\n",
              "          const dataTable =\n",
              "            await google.colab.kernel.invokeFunction('convertToInteractive',\n",
              "                                                     [key], {});\n",
              "          if (!dataTable) return;\n",
              "\n",
              "          const docLinkHtml = 'Like what you see? Visit the ' +\n",
              "            '<a target=\"_blank\" href=https://colab.research.google.com/notebooks/data_table.ipynb>data table notebook</a>'\n",
              "            + ' to learn more about interactive tables.';\n",
              "          element.innerHTML = '';\n",
              "          dataTable['output_type'] = 'display_data';\n",
              "          await google.colab.output.renderOutput(dataTable, element);\n",
              "          const docLink = document.createElement('div');\n",
              "          docLink.innerHTML = docLinkHtml;\n",
              "          element.appendChild(docLink);\n",
              "        }\n",
              "      </script>\n",
              "    </div>\n",
              "  </div>\n"
            ]
          },
          "metadata": {},
          "execution_count": 11
        }
      ]
    },
    {
      "cell_type": "markdown",
      "source": [
        "### Duration of this dataset is between July, 2015 & August, 2017. Data available for July  & August for consecutive three years."
      ],
      "metadata": {
        "id": "gfoNAAC-nUe_"
      }
    },
    {
      "cell_type": "markdown",
      "source": [
        "## ***2. Understanding Your Variables***"
      ],
      "metadata": {
        "id": "nA9Y7ga8ng1Z"
      }
    },
    {
      "cell_type": "code",
      "source": [
        "# Dataset Columns\n",
        "df.columns"
      ],
      "metadata": {
        "id": "j7xfkqrt5Ag5",
        "colab": {
          "base_uri": "https://localhost:8080/"
        },
        "outputId": "399436a5-96a1-4a78-fd00-741c6e368b91"
      },
      "execution_count": null,
      "outputs": [
        {
          "output_type": "execute_result",
          "data": {
            "text/plain": [
              "Index(['hotel', 'is_canceled', 'lead_time', 'arrival_date_year',\n",
              "       'arrival_date_month', 'arrival_date_week_number',\n",
              "       'arrival_date_day_of_month', 'stays_in_weekend_nights',\n",
              "       'stays_in_week_nights', 'adults', 'children', 'babies', 'meal',\n",
              "       'country', 'market_segment', 'distribution_channel',\n",
              "       'is_repeated_guest', 'previous_cancellations',\n",
              "       'previous_bookings_not_canceled', 'reserved_room_type',\n",
              "       'assigned_room_type', 'booking_changes', 'deposit_type', 'agent',\n",
              "       'company', 'days_in_waiting_list', 'customer_type', 'adr',\n",
              "       'required_car_parking_spaces', 'total_of_special_requests',\n",
              "       'reservation_status', 'reservation_status_date'],\n",
              "      dtype='object')"
            ]
          },
          "metadata": {},
          "execution_count": 12
        }
      ]
    },
    {
      "cell_type": "code",
      "source": [
        "# Dataset Describe\n",
        "df.describe()"
      ],
      "metadata": {
        "id": "DnOaZdaE5Q5t",
        "colab": {
          "base_uri": "https://localhost:8080/",
          "height": 364
        },
        "outputId": "f872e046-e956-41ca-905e-2be973f7217d"
      },
      "execution_count": null,
      "outputs": [
        {
          "output_type": "execute_result",
          "data": {
            "text/plain": [
              "         is_canceled      lead_time  arrival_date_year  \\\n",
              "count  119390.000000  119390.000000      119390.000000   \n",
              "mean        0.370416     104.011416        2016.156554   \n",
              "std         0.482918     106.863097           0.707476   \n",
              "min         0.000000       0.000000        2015.000000   \n",
              "25%         0.000000      18.000000        2016.000000   \n",
              "50%         0.000000      69.000000        2016.000000   \n",
              "75%         1.000000     160.000000        2017.000000   \n",
              "max         1.000000     737.000000        2017.000000   \n",
              "\n",
              "       arrival_date_week_number  arrival_date_day_of_month  \\\n",
              "count             119390.000000              119390.000000   \n",
              "mean                  27.165173                  15.798241   \n",
              "std                   13.605138                   8.780829   \n",
              "min                    1.000000                   1.000000   \n",
              "25%                   16.000000                   8.000000   \n",
              "50%                   28.000000                  16.000000   \n",
              "75%                   38.000000                  23.000000   \n",
              "max                   53.000000                  31.000000   \n",
              "\n",
              "       stays_in_weekend_nights  stays_in_week_nights         adults  \\\n",
              "count            119390.000000         119390.000000  119390.000000   \n",
              "mean                  0.927599              2.500302       1.856403   \n",
              "std                   0.998613              1.908286       0.579261   \n",
              "min                   0.000000              0.000000       0.000000   \n",
              "25%                   0.000000              1.000000       2.000000   \n",
              "50%                   1.000000              2.000000       2.000000   \n",
              "75%                   2.000000              3.000000       2.000000   \n",
              "max                  19.000000             50.000000      55.000000   \n",
              "\n",
              "            children         babies  is_repeated_guest  \\\n",
              "count  119386.000000  119390.000000      119390.000000   \n",
              "mean        0.103890       0.007949           0.031912   \n",
              "std         0.398561       0.097436           0.175767   \n",
              "min         0.000000       0.000000           0.000000   \n",
              "25%         0.000000       0.000000           0.000000   \n",
              "50%         0.000000       0.000000           0.000000   \n",
              "75%         0.000000       0.000000           0.000000   \n",
              "max        10.000000      10.000000           1.000000   \n",
              "\n",
              "       previous_cancellations  previous_bookings_not_canceled  \\\n",
              "count           119390.000000                   119390.000000   \n",
              "mean                 0.087118                        0.137097   \n",
              "std                  0.844336                        1.497437   \n",
              "min                  0.000000                        0.000000   \n",
              "25%                  0.000000                        0.000000   \n",
              "50%                  0.000000                        0.000000   \n",
              "75%                  0.000000                        0.000000   \n",
              "max                 26.000000                       72.000000   \n",
              "\n",
              "       booking_changes          agent      company  days_in_waiting_list  \\\n",
              "count    119390.000000  103050.000000  6797.000000         119390.000000   \n",
              "mean          0.221124      86.693382   189.266735              2.321149   \n",
              "std           0.652306     110.774548   131.655015             17.594721   \n",
              "min           0.000000       1.000000     6.000000              0.000000   \n",
              "25%           0.000000       9.000000    62.000000              0.000000   \n",
              "50%           0.000000      14.000000   179.000000              0.000000   \n",
              "75%           0.000000     229.000000   270.000000              0.000000   \n",
              "max          21.000000     535.000000   543.000000            391.000000   \n",
              "\n",
              "                 adr  required_car_parking_spaces  total_of_special_requests  \n",
              "count  119390.000000                119390.000000              119390.000000  \n",
              "mean      101.831122                     0.062518                   0.571363  \n",
              "std        50.535790                     0.245291                   0.792798  \n",
              "min        -6.380000                     0.000000                   0.000000  \n",
              "25%        69.290000                     0.000000                   0.000000  \n",
              "50%        94.575000                     0.000000                   0.000000  \n",
              "75%       126.000000                     0.000000                   1.000000  \n",
              "max      5400.000000                     8.000000                   5.000000  "
            ],
            "text/html": [
              "\n",
              "\n",
              "  <div id=\"df-9022a6a3-90c7-4c72-9264-16776c233287\">\n",
              "    <div class=\"colab-df-container\">\n",
              "      <div>\n",
              "<style scoped>\n",
              "    .dataframe tbody tr th:only-of-type {\n",
              "        vertical-align: middle;\n",
              "    }\n",
              "\n",
              "    .dataframe tbody tr th {\n",
              "        vertical-align: top;\n",
              "    }\n",
              "\n",
              "    .dataframe thead th {\n",
              "        text-align: right;\n",
              "    }\n",
              "</style>\n",
              "<table border=\"1\" class=\"dataframe\">\n",
              "  <thead>\n",
              "    <tr style=\"text-align: right;\">\n",
              "      <th></th>\n",
              "      <th>is_canceled</th>\n",
              "      <th>lead_time</th>\n",
              "      <th>arrival_date_year</th>\n",
              "      <th>arrival_date_week_number</th>\n",
              "      <th>arrival_date_day_of_month</th>\n",
              "      <th>stays_in_weekend_nights</th>\n",
              "      <th>stays_in_week_nights</th>\n",
              "      <th>adults</th>\n",
              "      <th>children</th>\n",
              "      <th>babies</th>\n",
              "      <th>is_repeated_guest</th>\n",
              "      <th>previous_cancellations</th>\n",
              "      <th>previous_bookings_not_canceled</th>\n",
              "      <th>booking_changes</th>\n",
              "      <th>agent</th>\n",
              "      <th>company</th>\n",
              "      <th>days_in_waiting_list</th>\n",
              "      <th>adr</th>\n",
              "      <th>required_car_parking_spaces</th>\n",
              "      <th>total_of_special_requests</th>\n",
              "    </tr>\n",
              "  </thead>\n",
              "  <tbody>\n",
              "    <tr>\n",
              "      <th>count</th>\n",
              "      <td>119390.000000</td>\n",
              "      <td>119390.000000</td>\n",
              "      <td>119390.000000</td>\n",
              "      <td>119390.000000</td>\n",
              "      <td>119390.000000</td>\n",
              "      <td>119390.000000</td>\n",
              "      <td>119390.000000</td>\n",
              "      <td>119390.000000</td>\n",
              "      <td>119386.000000</td>\n",
              "      <td>119390.000000</td>\n",
              "      <td>119390.000000</td>\n",
              "      <td>119390.000000</td>\n",
              "      <td>119390.000000</td>\n",
              "      <td>119390.000000</td>\n",
              "      <td>103050.000000</td>\n",
              "      <td>6797.000000</td>\n",
              "      <td>119390.000000</td>\n",
              "      <td>119390.000000</td>\n",
              "      <td>119390.000000</td>\n",
              "      <td>119390.000000</td>\n",
              "    </tr>\n",
              "    <tr>\n",
              "      <th>mean</th>\n",
              "      <td>0.370416</td>\n",
              "      <td>104.011416</td>\n",
              "      <td>2016.156554</td>\n",
              "      <td>27.165173</td>\n",
              "      <td>15.798241</td>\n",
              "      <td>0.927599</td>\n",
              "      <td>2.500302</td>\n",
              "      <td>1.856403</td>\n",
              "      <td>0.103890</td>\n",
              "      <td>0.007949</td>\n",
              "      <td>0.031912</td>\n",
              "      <td>0.087118</td>\n",
              "      <td>0.137097</td>\n",
              "      <td>0.221124</td>\n",
              "      <td>86.693382</td>\n",
              "      <td>189.266735</td>\n",
              "      <td>2.321149</td>\n",
              "      <td>101.831122</td>\n",
              "      <td>0.062518</td>\n",
              "      <td>0.571363</td>\n",
              "    </tr>\n",
              "    <tr>\n",
              "      <th>std</th>\n",
              "      <td>0.482918</td>\n",
              "      <td>106.863097</td>\n",
              "      <td>0.707476</td>\n",
              "      <td>13.605138</td>\n",
              "      <td>8.780829</td>\n",
              "      <td>0.998613</td>\n",
              "      <td>1.908286</td>\n",
              "      <td>0.579261</td>\n",
              "      <td>0.398561</td>\n",
              "      <td>0.097436</td>\n",
              "      <td>0.175767</td>\n",
              "      <td>0.844336</td>\n",
              "      <td>1.497437</td>\n",
              "      <td>0.652306</td>\n",
              "      <td>110.774548</td>\n",
              "      <td>131.655015</td>\n",
              "      <td>17.594721</td>\n",
              "      <td>50.535790</td>\n",
              "      <td>0.245291</td>\n",
              "      <td>0.792798</td>\n",
              "    </tr>\n",
              "    <tr>\n",
              "      <th>min</th>\n",
              "      <td>0.000000</td>\n",
              "      <td>0.000000</td>\n",
              "      <td>2015.000000</td>\n",
              "      <td>1.000000</td>\n",
              "      <td>1.000000</td>\n",
              "      <td>0.000000</td>\n",
              "      <td>0.000000</td>\n",
              "      <td>0.000000</td>\n",
              "      <td>0.000000</td>\n",
              "      <td>0.000000</td>\n",
              "      <td>0.000000</td>\n",
              "      <td>0.000000</td>\n",
              "      <td>0.000000</td>\n",
              "      <td>0.000000</td>\n",
              "      <td>1.000000</td>\n",
              "      <td>6.000000</td>\n",
              "      <td>0.000000</td>\n",
              "      <td>-6.380000</td>\n",
              "      <td>0.000000</td>\n",
              "      <td>0.000000</td>\n",
              "    </tr>\n",
              "    <tr>\n",
              "      <th>25%</th>\n",
              "      <td>0.000000</td>\n",
              "      <td>18.000000</td>\n",
              "      <td>2016.000000</td>\n",
              "      <td>16.000000</td>\n",
              "      <td>8.000000</td>\n",
              "      <td>0.000000</td>\n",
              "      <td>1.000000</td>\n",
              "      <td>2.000000</td>\n",
              "      <td>0.000000</td>\n",
              "      <td>0.000000</td>\n",
              "      <td>0.000000</td>\n",
              "      <td>0.000000</td>\n",
              "      <td>0.000000</td>\n",
              "      <td>0.000000</td>\n",
              "      <td>9.000000</td>\n",
              "      <td>62.000000</td>\n",
              "      <td>0.000000</td>\n",
              "      <td>69.290000</td>\n",
              "      <td>0.000000</td>\n",
              "      <td>0.000000</td>\n",
              "    </tr>\n",
              "    <tr>\n",
              "      <th>50%</th>\n",
              "      <td>0.000000</td>\n",
              "      <td>69.000000</td>\n",
              "      <td>2016.000000</td>\n",
              "      <td>28.000000</td>\n",
              "      <td>16.000000</td>\n",
              "      <td>1.000000</td>\n",
              "      <td>2.000000</td>\n",
              "      <td>2.000000</td>\n",
              "      <td>0.000000</td>\n",
              "      <td>0.000000</td>\n",
              "      <td>0.000000</td>\n",
              "      <td>0.000000</td>\n",
              "      <td>0.000000</td>\n",
              "      <td>0.000000</td>\n",
              "      <td>14.000000</td>\n",
              "      <td>179.000000</td>\n",
              "      <td>0.000000</td>\n",
              "      <td>94.575000</td>\n",
              "      <td>0.000000</td>\n",
              "      <td>0.000000</td>\n",
              "    </tr>\n",
              "    <tr>\n",
              "      <th>75%</th>\n",
              "      <td>1.000000</td>\n",
              "      <td>160.000000</td>\n",
              "      <td>2017.000000</td>\n",
              "      <td>38.000000</td>\n",
              "      <td>23.000000</td>\n",
              "      <td>2.000000</td>\n",
              "      <td>3.000000</td>\n",
              "      <td>2.000000</td>\n",
              "      <td>0.000000</td>\n",
              "      <td>0.000000</td>\n",
              "      <td>0.000000</td>\n",
              "      <td>0.000000</td>\n",
              "      <td>0.000000</td>\n",
              "      <td>0.000000</td>\n",
              "      <td>229.000000</td>\n",
              "      <td>270.000000</td>\n",
              "      <td>0.000000</td>\n",
              "      <td>126.000000</td>\n",
              "      <td>0.000000</td>\n",
              "      <td>1.000000</td>\n",
              "    </tr>\n",
              "    <tr>\n",
              "      <th>max</th>\n",
              "      <td>1.000000</td>\n",
              "      <td>737.000000</td>\n",
              "      <td>2017.000000</td>\n",
              "      <td>53.000000</td>\n",
              "      <td>31.000000</td>\n",
              "      <td>19.000000</td>\n",
              "      <td>50.000000</td>\n",
              "      <td>55.000000</td>\n",
              "      <td>10.000000</td>\n",
              "      <td>10.000000</td>\n",
              "      <td>1.000000</td>\n",
              "      <td>26.000000</td>\n",
              "      <td>72.000000</td>\n",
              "      <td>21.000000</td>\n",
              "      <td>535.000000</td>\n",
              "      <td>543.000000</td>\n",
              "      <td>391.000000</td>\n",
              "      <td>5400.000000</td>\n",
              "      <td>8.000000</td>\n",
              "      <td>5.000000</td>\n",
              "    </tr>\n",
              "  </tbody>\n",
              "</table>\n",
              "</div>\n",
              "      <button class=\"colab-df-convert\" onclick=\"convertToInteractive('df-9022a6a3-90c7-4c72-9264-16776c233287')\"\n",
              "              title=\"Convert this dataframe to an interactive table.\"\n",
              "              style=\"display:none;\">\n",
              "\n",
              "  <svg xmlns=\"http://www.w3.org/2000/svg\" height=\"24px\"viewBox=\"0 0 24 24\"\n",
              "       width=\"24px\">\n",
              "    <path d=\"M0 0h24v24H0V0z\" fill=\"none\"/>\n",
              "    <path d=\"M18.56 5.44l.94 2.06.94-2.06 2.06-.94-2.06-.94-.94-2.06-.94 2.06-2.06.94zm-11 1L8.5 8.5l.94-2.06 2.06-.94-2.06-.94L8.5 2.5l-.94 2.06-2.06.94zm10 10l.94 2.06.94-2.06 2.06-.94-2.06-.94-.94-2.06-.94 2.06-2.06.94z\"/><path d=\"M17.41 7.96l-1.37-1.37c-.4-.4-.92-.59-1.43-.59-.52 0-1.04.2-1.43.59L10.3 9.45l-7.72 7.72c-.78.78-.78 2.05 0 2.83L4 21.41c.39.39.9.59 1.41.59.51 0 1.02-.2 1.41-.59l7.78-7.78 2.81-2.81c.8-.78.8-2.07 0-2.86zM5.41 20L4 18.59l7.72-7.72 1.47 1.35L5.41 20z\"/>\n",
              "  </svg>\n",
              "      </button>\n",
              "\n",
              "\n",
              "\n",
              "    <div id=\"df-e84eab37-c660-44b9-aad0-dcbfd49a3989\">\n",
              "      <button class=\"colab-df-quickchart\" onclick=\"quickchart('df-e84eab37-c660-44b9-aad0-dcbfd49a3989')\"\n",
              "              title=\"Suggest charts.\"\n",
              "              style=\"display:none;\">\n",
              "\n",
              "<svg xmlns=\"http://www.w3.org/2000/svg\" height=\"24px\"viewBox=\"0 0 24 24\"\n",
              "     width=\"24px\">\n",
              "    <g>\n",
              "        <path d=\"M19 3H5c-1.1 0-2 .9-2 2v14c0 1.1.9 2 2 2h14c1.1 0 2-.9 2-2V5c0-1.1-.9-2-2-2zM9 17H7v-7h2v7zm4 0h-2V7h2v10zm4 0h-2v-4h2v4z\"/>\n",
              "    </g>\n",
              "</svg>\n",
              "      </button>\n",
              "    </div>\n",
              "\n",
              "<style>\n",
              "  .colab-df-quickchart {\n",
              "    background-color: #E8F0FE;\n",
              "    border: none;\n",
              "    border-radius: 50%;\n",
              "    cursor: pointer;\n",
              "    display: none;\n",
              "    fill: #1967D2;\n",
              "    height: 32px;\n",
              "    padding: 0 0 0 0;\n",
              "    width: 32px;\n",
              "  }\n",
              "\n",
              "  .colab-df-quickchart:hover {\n",
              "    background-color: #E2EBFA;\n",
              "    box-shadow: 0px 1px 2px rgba(60, 64, 67, 0.3), 0px 1px 3px 1px rgba(60, 64, 67, 0.15);\n",
              "    fill: #174EA6;\n",
              "  }\n",
              "\n",
              "  [theme=dark] .colab-df-quickchart {\n",
              "    background-color: #3B4455;\n",
              "    fill: #D2E3FC;\n",
              "  }\n",
              "\n",
              "  [theme=dark] .colab-df-quickchart:hover {\n",
              "    background-color: #434B5C;\n",
              "    box-shadow: 0px 1px 3px 1px rgba(0, 0, 0, 0.15);\n",
              "    filter: drop-shadow(0px 1px 2px rgba(0, 0, 0, 0.3));\n",
              "    fill: #FFFFFF;\n",
              "  }\n",
              "</style>\n",
              "\n",
              "    <script>\n",
              "      async function quickchart(key) {\n",
              "        const containerElement = document.querySelector('#' + key);\n",
              "        const charts = await google.colab.kernel.invokeFunction(\n",
              "            'suggestCharts', [key], {});\n",
              "      }\n",
              "    </script>\n",
              "\n",
              "      <script>\n",
              "\n",
              "function displayQuickchartButton(domScope) {\n",
              "  let quickchartButtonEl =\n",
              "    domScope.querySelector('#df-e84eab37-c660-44b9-aad0-dcbfd49a3989 button.colab-df-quickchart');\n",
              "  quickchartButtonEl.style.display =\n",
              "    google.colab.kernel.accessAllowed ? 'block' : 'none';\n",
              "}\n",
              "\n",
              "        displayQuickchartButton(document);\n",
              "      </script>\n",
              "      <style>\n",
              "    .colab-df-container {\n",
              "      display:flex;\n",
              "      flex-wrap:wrap;\n",
              "      gap: 12px;\n",
              "    }\n",
              "\n",
              "    .colab-df-convert {\n",
              "      background-color: #E8F0FE;\n",
              "      border: none;\n",
              "      border-radius: 50%;\n",
              "      cursor: pointer;\n",
              "      display: none;\n",
              "      fill: #1967D2;\n",
              "      height: 32px;\n",
              "      padding: 0 0 0 0;\n",
              "      width: 32px;\n",
              "    }\n",
              "\n",
              "    .colab-df-convert:hover {\n",
              "      background-color: #E2EBFA;\n",
              "      box-shadow: 0px 1px 2px rgba(60, 64, 67, 0.3), 0px 1px 3px 1px rgba(60, 64, 67, 0.15);\n",
              "      fill: #174EA6;\n",
              "    }\n",
              "\n",
              "    [theme=dark] .colab-df-convert {\n",
              "      background-color: #3B4455;\n",
              "      fill: #D2E3FC;\n",
              "    }\n",
              "\n",
              "    [theme=dark] .colab-df-convert:hover {\n",
              "      background-color: #434B5C;\n",
              "      box-shadow: 0px 1px 3px 1px rgba(0, 0, 0, 0.15);\n",
              "      filter: drop-shadow(0px 1px 2px rgba(0, 0, 0, 0.3));\n",
              "      fill: #FFFFFF;\n",
              "    }\n",
              "  </style>\n",
              "\n",
              "      <script>\n",
              "        const buttonEl =\n",
              "          document.querySelector('#df-9022a6a3-90c7-4c72-9264-16776c233287 button.colab-df-convert');\n",
              "        buttonEl.style.display =\n",
              "          google.colab.kernel.accessAllowed ? 'block' : 'none';\n",
              "\n",
              "        async function convertToInteractive(key) {\n",
              "          const element = document.querySelector('#df-9022a6a3-90c7-4c72-9264-16776c233287');\n",
              "          const dataTable =\n",
              "            await google.colab.kernel.invokeFunction('convertToInteractive',\n",
              "                                                     [key], {});\n",
              "          if (!dataTable) return;\n",
              "\n",
              "          const docLinkHtml = 'Like what you see? Visit the ' +\n",
              "            '<a target=\"_blank\" href=https://colab.research.google.com/notebooks/data_table.ipynb>data table notebook</a>'\n",
              "            + ' to learn more about interactive tables.';\n",
              "          element.innerHTML = '';\n",
              "          dataTable['output_type'] = 'display_data';\n",
              "          await google.colab.output.renderOutput(dataTable, element);\n",
              "          const docLink = document.createElement('div');\n",
              "          docLink.innerHTML = docLinkHtml;\n",
              "          element.appendChild(docLink);\n",
              "        }\n",
              "      </script>\n",
              "    </div>\n",
              "  </div>\n"
            ]
          },
          "metadata": {},
          "execution_count": 13
        }
      ]
    },
    {
      "cell_type": "markdown",
      "source": [
        "### Variables Description\n",
        "\n",
        "* **Hotel:** H1=Resort Hotel;  H2=City Hotel\n",
        "* **Is_cancelled:** If the booking was cancelled(1) or not(0)\n",
        "* **lead_time:** Number of days that elapsed between the entering date of the booking into PMS and the arrival date\n",
        "* **arrival_date_year:** Year of arrival date\n",
        "* **arrival_date_month:** Month of arrival date\n",
        "* **arrival_date_week_number:** Week number of arrival date\n",
        "* **arrival_dat_day:** Day of arrival date\n",
        "* **stays_in_weekend_nights:** Number of weekend nights (Saturday or Sunday) the guest stayed or booked to stay at the hotel\n",
        "* **stays_in_weekday_nights:** Number of weekend nights (Monday to Friday) the guest stayed or booked to stay at the hotel\n",
        "* **adults:** Number of adults\n",
        "* **children:** Number of children\n",
        "* **babies:** Number of babies\n",
        "* **meal:** Kind of meal opted for\n",
        "* **country:** Country code\n",
        "* **market_segment:** Which segment the customer belongs to stay-corporate booking/Direct/TA/TO\n",
        "* **Distribution_channel:** How the customer accessed the stay-corporate booking/Direct/TA/TO\n",
        "* **is_repeated_guest:** Guest coming for first time or not\n",
        "* **previous_cancellation:** Was there a cancellation before\n",
        "* **previous_bookings:** Count of previous bookings\n",
        "* **reserved_room_type:** Type of room reserved\n",
        "* **assigned_room_type:** Type of room assigned\n",
        "* **booking_changes:** Count of changes made to booking\n",
        "* **deposit_type:** Deposit type\n",
        "* **agent:** Booked through agent\n",
        "* **days_in_waiting_list:** Number of days in waiting list\n",
        "* **Customer_type:** Type of customer\n",
        "* **required_car_parking:** If car parking is required\n",
        "* **total_of_special_req:** Number of additional special requirements\n",
        "* **reservation_status:** Reservation status\n",
        "* **reservation_status_date:** Date of the specific status\n",
        "\n"
      ],
      "metadata": {
        "id": "PBTbrJXOngz2"
      }
    },
    {
      "cell_type": "markdown",
      "source": [
        "### Check Unique Values for each variable."
      ],
      "metadata": {
        "id": "u3PMJOP6ngxN"
      }
    },
    {
      "cell_type": "code",
      "source": [
        "# Check Unique Values for each variable.\n",
        "for i in df.columns.tolist():\n",
        "  print(\"No. of unique values in \",i,\"is\",df[i].nunique(),\".\")"
      ],
      "metadata": {
        "id": "zms12Yq5n-jE",
        "colab": {
          "base_uri": "https://localhost:8080/"
        },
        "outputId": "baa08d76-3e67-41a1-8dd5-8122b871486d"
      },
      "execution_count": null,
      "outputs": [
        {
          "output_type": "stream",
          "name": "stdout",
          "text": [
            "No. of unique values in  hotel is 2 .\n",
            "No. of unique values in  is_canceled is 2 .\n",
            "No. of unique values in  lead_time is 479 .\n",
            "No. of unique values in  arrival_date_year is 3 .\n",
            "No. of unique values in  arrival_date_month is 12 .\n",
            "No. of unique values in  arrival_date_week_number is 53 .\n",
            "No. of unique values in  arrival_date_day_of_month is 31 .\n",
            "No. of unique values in  stays_in_weekend_nights is 17 .\n",
            "No. of unique values in  stays_in_week_nights is 35 .\n",
            "No. of unique values in  adults is 14 .\n",
            "No. of unique values in  children is 5 .\n",
            "No. of unique values in  babies is 5 .\n",
            "No. of unique values in  meal is 5 .\n",
            "No. of unique values in  country is 177 .\n",
            "No. of unique values in  market_segment is 8 .\n",
            "No. of unique values in  distribution_channel is 5 .\n",
            "No. of unique values in  is_repeated_guest is 2 .\n",
            "No. of unique values in  previous_cancellations is 15 .\n",
            "No. of unique values in  previous_bookings_not_canceled is 73 .\n",
            "No. of unique values in  reserved_room_type is 10 .\n",
            "No. of unique values in  assigned_room_type is 12 .\n",
            "No. of unique values in  booking_changes is 21 .\n",
            "No. of unique values in  deposit_type is 3 .\n",
            "No. of unique values in  agent is 333 .\n",
            "No. of unique values in  company is 352 .\n",
            "No. of unique values in  days_in_waiting_list is 128 .\n",
            "No. of unique values in  customer_type is 4 .\n",
            "No. of unique values in  adr is 8879 .\n",
            "No. of unique values in  required_car_parking_spaces is 5 .\n",
            "No. of unique values in  total_of_special_requests is 6 .\n",
            "No. of unique values in  reservation_status is 3 .\n",
            "No. of unique values in  reservation_status_date is 926 .\n"
          ]
        }
      ]
    },
    {
      "cell_type": "markdown",
      "source": [
        "## 3. ***Data Wrangling***"
      ],
      "metadata": {
        "id": "dauF4eBmngu3"
      }
    },
    {
      "cell_type": "markdown",
      "source": [
        "### What all manipulations have you done and insights you found?"
      ],
      "metadata": {
        "id": "MSa1f5Uengrz"
      }
    },
    {
      "cell_type": "code",
      "source": [
        "# Changing datatype of \"children\" from (float) to (int) and filling (0) incase of null values\n",
        "df['children'].fillna(0,inplace=True)\n",
        "df['children'] = df['children'].astype(int)"
      ],
      "metadata": {
        "id": "5aBqOQSQqYkT"
      },
      "execution_count": null,
      "outputs": []
    },
    {
      "cell_type": "code",
      "source": [
        "df.info()"
      ],
      "metadata": {
        "id": "V4V0pjyprB1D",
        "outputId": "fb1027a3-0364-40db-c4f3-80eeca03e7b6",
        "colab": {
          "base_uri": "https://localhost:8080/"
        }
      },
      "execution_count": null,
      "outputs": [
        {
          "output_type": "stream",
          "name": "stdout",
          "text": [
            "<class 'pandas.core.frame.DataFrame'>\n",
            "RangeIndex: 119390 entries, 0 to 119389\n",
            "Data columns (total 32 columns):\n",
            " #   Column                          Non-Null Count   Dtype  \n",
            "---  ------                          --------------   -----  \n",
            " 0   hotel                           119390 non-null  object \n",
            " 1   is_canceled                     119390 non-null  int64  \n",
            " 2   lead_time                       119390 non-null  int64  \n",
            " 3   arrival_date_year               119390 non-null  int64  \n",
            " 4   arrival_date_month              119390 non-null  object \n",
            " 5   arrival_date_week_number        119390 non-null  int64  \n",
            " 6   arrival_date_day_of_month       119390 non-null  int64  \n",
            " 7   stays_in_weekend_nights         119390 non-null  int64  \n",
            " 8   stays_in_week_nights            119390 non-null  int64  \n",
            " 9   adults                          119390 non-null  int64  \n",
            " 10  children                        119390 non-null  int64  \n",
            " 11  babies                          119390 non-null  int64  \n",
            " 12  meal                            119390 non-null  object \n",
            " 13  country                         118902 non-null  object \n",
            " 14  market_segment                  119390 non-null  object \n",
            " 15  distribution_channel            119390 non-null  object \n",
            " 16  is_repeated_guest               119390 non-null  int64  \n",
            " 17  previous_cancellations          119390 non-null  int64  \n",
            " 18  previous_bookings_not_canceled  119390 non-null  int64  \n",
            " 19  reserved_room_type              119390 non-null  object \n",
            " 20  assigned_room_type              119390 non-null  object \n",
            " 21  booking_changes                 119390 non-null  int64  \n",
            " 22  deposit_type                    119390 non-null  object \n",
            " 23  agent                           103050 non-null  float64\n",
            " 24  company                         6797 non-null    float64\n",
            " 25  days_in_waiting_list            119390 non-null  int64  \n",
            " 26  customer_type                   119390 non-null  object \n",
            " 27  adr                             119390 non-null  float64\n",
            " 28  required_car_parking_spaces     119390 non-null  int64  \n",
            " 29  total_of_special_requests       119390 non-null  int64  \n",
            " 30  reservation_status              119390 non-null  object \n",
            " 31  reservation_status_date         119390 non-null  object \n",
            "dtypes: float64(3), int64(17), object(12)\n",
            "memory usage: 29.1+ MB\n"
          ]
        }
      ]
    },
    {
      "cell_type": "code",
      "source": [
        "df.head()"
      ],
      "metadata": {
        "id": "I4SId6DhrIG3",
        "outputId": "54d7b64b-f9ce-463b-fde3-6433c07c0eda",
        "colab": {
          "base_uri": "https://localhost:8080/",
          "height": 357
        }
      },
      "execution_count": null,
      "outputs": [
        {
          "output_type": "execute_result",
          "data": {
            "text/plain": [
              "          hotel  is_canceled  lead_time  arrival_date_year arrival_date_month  \\\n",
              "0  Resort Hotel            0        342               2015               July   \n",
              "1  Resort Hotel            0        737               2015               July   \n",
              "2  Resort Hotel            0          7               2015               July   \n",
              "3  Resort Hotel            0         13               2015               July   \n",
              "4  Resort Hotel            0         14               2015               July   \n",
              "\n",
              "   arrival_date_week_number  arrival_date_day_of_month  \\\n",
              "0                        27                          1   \n",
              "1                        27                          1   \n",
              "2                        27                          1   \n",
              "3                        27                          1   \n",
              "4                        27                          1   \n",
              "\n",
              "   stays_in_weekend_nights  stays_in_week_nights  adults  children  babies  \\\n",
              "0                        0                     0       2         0       0   \n",
              "1                        0                     0       2         0       0   \n",
              "2                        0                     1       1         0       0   \n",
              "3                        0                     1       1         0       0   \n",
              "4                        0                     2       2         0       0   \n",
              "\n",
              "  meal country market_segment distribution_channel  is_repeated_guest  \\\n",
              "0   BB     PRT         Direct               Direct                  0   \n",
              "1   BB     PRT         Direct               Direct                  0   \n",
              "2   BB     GBR         Direct               Direct                  0   \n",
              "3   BB     GBR      Corporate            Corporate                  0   \n",
              "4   BB     GBR      Online TA                TA/TO                  0   \n",
              "\n",
              "   previous_cancellations  previous_bookings_not_canceled reserved_room_type  \\\n",
              "0                       0                               0                  C   \n",
              "1                       0                               0                  C   \n",
              "2                       0                               0                  A   \n",
              "3                       0                               0                  A   \n",
              "4                       0                               0                  A   \n",
              "\n",
              "  assigned_room_type  booking_changes deposit_type  agent  company  \\\n",
              "0                  C                3   No Deposit    NaN      NaN   \n",
              "1                  C                4   No Deposit    NaN      NaN   \n",
              "2                  C                0   No Deposit    NaN      NaN   \n",
              "3                  A                0   No Deposit  304.0      NaN   \n",
              "4                  A                0   No Deposit  240.0      NaN   \n",
              "\n",
              "   days_in_waiting_list customer_type   adr  required_car_parking_spaces  \\\n",
              "0                     0     Transient   0.0                            0   \n",
              "1                     0     Transient   0.0                            0   \n",
              "2                     0     Transient  75.0                            0   \n",
              "3                     0     Transient  75.0                            0   \n",
              "4                     0     Transient  98.0                            0   \n",
              "\n",
              "   total_of_special_requests reservation_status reservation_status_date  \n",
              "0                          0          Check-Out              2015-07-01  \n",
              "1                          0          Check-Out              2015-07-01  \n",
              "2                          0          Check-Out              2015-07-02  \n",
              "3                          0          Check-Out              2015-07-02  \n",
              "4                          1          Check-Out              2015-07-03  "
            ],
            "text/html": [
              "\n",
              "\n",
              "  <div id=\"df-45d5e936-6d53-45cd-8f2d-9693c8a8f1e8\">\n",
              "    <div class=\"colab-df-container\">\n",
              "      <div>\n",
              "<style scoped>\n",
              "    .dataframe tbody tr th:only-of-type {\n",
              "        vertical-align: middle;\n",
              "    }\n",
              "\n",
              "    .dataframe tbody tr th {\n",
              "        vertical-align: top;\n",
              "    }\n",
              "\n",
              "    .dataframe thead th {\n",
              "        text-align: right;\n",
              "    }\n",
              "</style>\n",
              "<table border=\"1\" class=\"dataframe\">\n",
              "  <thead>\n",
              "    <tr style=\"text-align: right;\">\n",
              "      <th></th>\n",
              "      <th>hotel</th>\n",
              "      <th>is_canceled</th>\n",
              "      <th>lead_time</th>\n",
              "      <th>arrival_date_year</th>\n",
              "      <th>arrival_date_month</th>\n",
              "      <th>arrival_date_week_number</th>\n",
              "      <th>arrival_date_day_of_month</th>\n",
              "      <th>stays_in_weekend_nights</th>\n",
              "      <th>stays_in_week_nights</th>\n",
              "      <th>adults</th>\n",
              "      <th>children</th>\n",
              "      <th>babies</th>\n",
              "      <th>meal</th>\n",
              "      <th>country</th>\n",
              "      <th>market_segment</th>\n",
              "      <th>distribution_channel</th>\n",
              "      <th>is_repeated_guest</th>\n",
              "      <th>previous_cancellations</th>\n",
              "      <th>previous_bookings_not_canceled</th>\n",
              "      <th>reserved_room_type</th>\n",
              "      <th>assigned_room_type</th>\n",
              "      <th>booking_changes</th>\n",
              "      <th>deposit_type</th>\n",
              "      <th>agent</th>\n",
              "      <th>company</th>\n",
              "      <th>days_in_waiting_list</th>\n",
              "      <th>customer_type</th>\n",
              "      <th>adr</th>\n",
              "      <th>required_car_parking_spaces</th>\n",
              "      <th>total_of_special_requests</th>\n",
              "      <th>reservation_status</th>\n",
              "      <th>reservation_status_date</th>\n",
              "    </tr>\n",
              "  </thead>\n",
              "  <tbody>\n",
              "    <tr>\n",
              "      <th>0</th>\n",
              "      <td>Resort Hotel</td>\n",
              "      <td>0</td>\n",
              "      <td>342</td>\n",
              "      <td>2015</td>\n",
              "      <td>July</td>\n",
              "      <td>27</td>\n",
              "      <td>1</td>\n",
              "      <td>0</td>\n",
              "      <td>0</td>\n",
              "      <td>2</td>\n",
              "      <td>0</td>\n",
              "      <td>0</td>\n",
              "      <td>BB</td>\n",
              "      <td>PRT</td>\n",
              "      <td>Direct</td>\n",
              "      <td>Direct</td>\n",
              "      <td>0</td>\n",
              "      <td>0</td>\n",
              "      <td>0</td>\n",
              "      <td>C</td>\n",
              "      <td>C</td>\n",
              "      <td>3</td>\n",
              "      <td>No Deposit</td>\n",
              "      <td>NaN</td>\n",
              "      <td>NaN</td>\n",
              "      <td>0</td>\n",
              "      <td>Transient</td>\n",
              "      <td>0.0</td>\n",
              "      <td>0</td>\n",
              "      <td>0</td>\n",
              "      <td>Check-Out</td>\n",
              "      <td>2015-07-01</td>\n",
              "    </tr>\n",
              "    <tr>\n",
              "      <th>1</th>\n",
              "      <td>Resort Hotel</td>\n",
              "      <td>0</td>\n",
              "      <td>737</td>\n",
              "      <td>2015</td>\n",
              "      <td>July</td>\n",
              "      <td>27</td>\n",
              "      <td>1</td>\n",
              "      <td>0</td>\n",
              "      <td>0</td>\n",
              "      <td>2</td>\n",
              "      <td>0</td>\n",
              "      <td>0</td>\n",
              "      <td>BB</td>\n",
              "      <td>PRT</td>\n",
              "      <td>Direct</td>\n",
              "      <td>Direct</td>\n",
              "      <td>0</td>\n",
              "      <td>0</td>\n",
              "      <td>0</td>\n",
              "      <td>C</td>\n",
              "      <td>C</td>\n",
              "      <td>4</td>\n",
              "      <td>No Deposit</td>\n",
              "      <td>NaN</td>\n",
              "      <td>NaN</td>\n",
              "      <td>0</td>\n",
              "      <td>Transient</td>\n",
              "      <td>0.0</td>\n",
              "      <td>0</td>\n",
              "      <td>0</td>\n",
              "      <td>Check-Out</td>\n",
              "      <td>2015-07-01</td>\n",
              "    </tr>\n",
              "    <tr>\n",
              "      <th>2</th>\n",
              "      <td>Resort Hotel</td>\n",
              "      <td>0</td>\n",
              "      <td>7</td>\n",
              "      <td>2015</td>\n",
              "      <td>July</td>\n",
              "      <td>27</td>\n",
              "      <td>1</td>\n",
              "      <td>0</td>\n",
              "      <td>1</td>\n",
              "      <td>1</td>\n",
              "      <td>0</td>\n",
              "      <td>0</td>\n",
              "      <td>BB</td>\n",
              "      <td>GBR</td>\n",
              "      <td>Direct</td>\n",
              "      <td>Direct</td>\n",
              "      <td>0</td>\n",
              "      <td>0</td>\n",
              "      <td>0</td>\n",
              "      <td>A</td>\n",
              "      <td>C</td>\n",
              "      <td>0</td>\n",
              "      <td>No Deposit</td>\n",
              "      <td>NaN</td>\n",
              "      <td>NaN</td>\n",
              "      <td>0</td>\n",
              "      <td>Transient</td>\n",
              "      <td>75.0</td>\n",
              "      <td>0</td>\n",
              "      <td>0</td>\n",
              "      <td>Check-Out</td>\n",
              "      <td>2015-07-02</td>\n",
              "    </tr>\n",
              "    <tr>\n",
              "      <th>3</th>\n",
              "      <td>Resort Hotel</td>\n",
              "      <td>0</td>\n",
              "      <td>13</td>\n",
              "      <td>2015</td>\n",
              "      <td>July</td>\n",
              "      <td>27</td>\n",
              "      <td>1</td>\n",
              "      <td>0</td>\n",
              "      <td>1</td>\n",
              "      <td>1</td>\n",
              "      <td>0</td>\n",
              "      <td>0</td>\n",
              "      <td>BB</td>\n",
              "      <td>GBR</td>\n",
              "      <td>Corporate</td>\n",
              "      <td>Corporate</td>\n",
              "      <td>0</td>\n",
              "      <td>0</td>\n",
              "      <td>0</td>\n",
              "      <td>A</td>\n",
              "      <td>A</td>\n",
              "      <td>0</td>\n",
              "      <td>No Deposit</td>\n",
              "      <td>304.0</td>\n",
              "      <td>NaN</td>\n",
              "      <td>0</td>\n",
              "      <td>Transient</td>\n",
              "      <td>75.0</td>\n",
              "      <td>0</td>\n",
              "      <td>0</td>\n",
              "      <td>Check-Out</td>\n",
              "      <td>2015-07-02</td>\n",
              "    </tr>\n",
              "    <tr>\n",
              "      <th>4</th>\n",
              "      <td>Resort Hotel</td>\n",
              "      <td>0</td>\n",
              "      <td>14</td>\n",
              "      <td>2015</td>\n",
              "      <td>July</td>\n",
              "      <td>27</td>\n",
              "      <td>1</td>\n",
              "      <td>0</td>\n",
              "      <td>2</td>\n",
              "      <td>2</td>\n",
              "      <td>0</td>\n",
              "      <td>0</td>\n",
              "      <td>BB</td>\n",
              "      <td>GBR</td>\n",
              "      <td>Online TA</td>\n",
              "      <td>TA/TO</td>\n",
              "      <td>0</td>\n",
              "      <td>0</td>\n",
              "      <td>0</td>\n",
              "      <td>A</td>\n",
              "      <td>A</td>\n",
              "      <td>0</td>\n",
              "      <td>No Deposit</td>\n",
              "      <td>240.0</td>\n",
              "      <td>NaN</td>\n",
              "      <td>0</td>\n",
              "      <td>Transient</td>\n",
              "      <td>98.0</td>\n",
              "      <td>0</td>\n",
              "      <td>1</td>\n",
              "      <td>Check-Out</td>\n",
              "      <td>2015-07-03</td>\n",
              "    </tr>\n",
              "  </tbody>\n",
              "</table>\n",
              "</div>\n",
              "      <button class=\"colab-df-convert\" onclick=\"convertToInteractive('df-45d5e936-6d53-45cd-8f2d-9693c8a8f1e8')\"\n",
              "              title=\"Convert this dataframe to an interactive table.\"\n",
              "              style=\"display:none;\">\n",
              "\n",
              "  <svg xmlns=\"http://www.w3.org/2000/svg\" height=\"24px\"viewBox=\"0 0 24 24\"\n",
              "       width=\"24px\">\n",
              "    <path d=\"M0 0h24v24H0V0z\" fill=\"none\"/>\n",
              "    <path d=\"M18.56 5.44l.94 2.06.94-2.06 2.06-.94-2.06-.94-.94-2.06-.94 2.06-2.06.94zm-11 1L8.5 8.5l.94-2.06 2.06-.94-2.06-.94L8.5 2.5l-.94 2.06-2.06.94zm10 10l.94 2.06.94-2.06 2.06-.94-2.06-.94-.94-2.06-.94 2.06-2.06.94z\"/><path d=\"M17.41 7.96l-1.37-1.37c-.4-.4-.92-.59-1.43-.59-.52 0-1.04.2-1.43.59L10.3 9.45l-7.72 7.72c-.78.78-.78 2.05 0 2.83L4 21.41c.39.39.9.59 1.41.59.51 0 1.02-.2 1.41-.59l7.78-7.78 2.81-2.81c.8-.78.8-2.07 0-2.86zM5.41 20L4 18.59l7.72-7.72 1.47 1.35L5.41 20z\"/>\n",
              "  </svg>\n",
              "      </button>\n",
              "\n",
              "\n",
              "\n",
              "    <div id=\"df-d4aeaa60-add9-4f92-a8db-13fe20db15d5\">\n",
              "      <button class=\"colab-df-quickchart\" onclick=\"quickchart('df-d4aeaa60-add9-4f92-a8db-13fe20db15d5')\"\n",
              "              title=\"Suggest charts.\"\n",
              "              style=\"display:none;\">\n",
              "\n",
              "<svg xmlns=\"http://www.w3.org/2000/svg\" height=\"24px\"viewBox=\"0 0 24 24\"\n",
              "     width=\"24px\">\n",
              "    <g>\n",
              "        <path d=\"M19 3H5c-1.1 0-2 .9-2 2v14c0 1.1.9 2 2 2h14c1.1 0 2-.9 2-2V5c0-1.1-.9-2-2-2zM9 17H7v-7h2v7zm4 0h-2V7h2v10zm4 0h-2v-4h2v4z\"/>\n",
              "    </g>\n",
              "</svg>\n",
              "      </button>\n",
              "    </div>\n",
              "\n",
              "<style>\n",
              "  .colab-df-quickchart {\n",
              "    background-color: #E8F0FE;\n",
              "    border: none;\n",
              "    border-radius: 50%;\n",
              "    cursor: pointer;\n",
              "    display: none;\n",
              "    fill: #1967D2;\n",
              "    height: 32px;\n",
              "    padding: 0 0 0 0;\n",
              "    width: 32px;\n",
              "  }\n",
              "\n",
              "  .colab-df-quickchart:hover {\n",
              "    background-color: #E2EBFA;\n",
              "    box-shadow: 0px 1px 2px rgba(60, 64, 67, 0.3), 0px 1px 3px 1px rgba(60, 64, 67, 0.15);\n",
              "    fill: #174EA6;\n",
              "  }\n",
              "\n",
              "  [theme=dark] .colab-df-quickchart {\n",
              "    background-color: #3B4455;\n",
              "    fill: #D2E3FC;\n",
              "  }\n",
              "\n",
              "  [theme=dark] .colab-df-quickchart:hover {\n",
              "    background-color: #434B5C;\n",
              "    box-shadow: 0px 1px 3px 1px rgba(0, 0, 0, 0.15);\n",
              "    filter: drop-shadow(0px 1px 2px rgba(0, 0, 0, 0.3));\n",
              "    fill: #FFFFFF;\n",
              "  }\n",
              "</style>\n",
              "\n",
              "    <script>\n",
              "      async function quickchart(key) {\n",
              "        const containerElement = document.querySelector('#' + key);\n",
              "        const charts = await google.colab.kernel.invokeFunction(\n",
              "            'suggestCharts', [key], {});\n",
              "      }\n",
              "    </script>\n",
              "\n",
              "      <script>\n",
              "\n",
              "function displayQuickchartButton(domScope) {\n",
              "  let quickchartButtonEl =\n",
              "    domScope.querySelector('#df-d4aeaa60-add9-4f92-a8db-13fe20db15d5 button.colab-df-quickchart');\n",
              "  quickchartButtonEl.style.display =\n",
              "    google.colab.kernel.accessAllowed ? 'block' : 'none';\n",
              "}\n",
              "\n",
              "        displayQuickchartButton(document);\n",
              "      </script>\n",
              "      <style>\n",
              "    .colab-df-container {\n",
              "      display:flex;\n",
              "      flex-wrap:wrap;\n",
              "      gap: 12px;\n",
              "    }\n",
              "\n",
              "    .colab-df-convert {\n",
              "      background-color: #E8F0FE;\n",
              "      border: none;\n",
              "      border-radius: 50%;\n",
              "      cursor: pointer;\n",
              "      display: none;\n",
              "      fill: #1967D2;\n",
              "      height: 32px;\n",
              "      padding: 0 0 0 0;\n",
              "      width: 32px;\n",
              "    }\n",
              "\n",
              "    .colab-df-convert:hover {\n",
              "      background-color: #E2EBFA;\n",
              "      box-shadow: 0px 1px 2px rgba(60, 64, 67, 0.3), 0px 1px 3px 1px rgba(60, 64, 67, 0.15);\n",
              "      fill: #174EA6;\n",
              "    }\n",
              "\n",
              "    [theme=dark] .colab-df-convert {\n",
              "      background-color: #3B4455;\n",
              "      fill: #D2E3FC;\n",
              "    }\n",
              "\n",
              "    [theme=dark] .colab-df-convert:hover {\n",
              "      background-color: #434B5C;\n",
              "      box-shadow: 0px 1px 3px 1px rgba(0, 0, 0, 0.15);\n",
              "      filter: drop-shadow(0px 1px 2px rgba(0, 0, 0, 0.3));\n",
              "      fill: #FFFFFF;\n",
              "    }\n",
              "  </style>\n",
              "\n",
              "      <script>\n",
              "        const buttonEl =\n",
              "          document.querySelector('#df-45d5e936-6d53-45cd-8f2d-9693c8a8f1e8 button.colab-df-convert');\n",
              "        buttonEl.style.display =\n",
              "          google.colab.kernel.accessAllowed ? 'block' : 'none';\n",
              "\n",
              "        async function convertToInteractive(key) {\n",
              "          const element = document.querySelector('#df-45d5e936-6d53-45cd-8f2d-9693c8a8f1e8');\n",
              "          const dataTable =\n",
              "            await google.colab.kernel.invokeFunction('convertToInteractive',\n",
              "                                                     [key], {});\n",
              "          if (!dataTable) return;\n",
              "\n",
              "          const docLinkHtml = 'Like what you see? Visit the ' +\n",
              "            '<a target=\"_blank\" href=https://colab.research.google.com/notebooks/data_table.ipynb>data table notebook</a>'\n",
              "            + ' to learn more about interactive tables.';\n",
              "          element.innerHTML = '';\n",
              "          dataTable['output_type'] = 'display_data';\n",
              "          await google.colab.output.renderOutput(dataTable, element);\n",
              "          const docLink = document.createElement('div');\n",
              "          docLink.innerHTML = docLinkHtml;\n",
              "          element.appendChild(docLink);\n",
              "        }\n",
              "      </script>\n",
              "    </div>\n",
              "  </div>\n"
            ]
          },
          "metadata": {},
          "execution_count": 17
        }
      ]
    },
    {
      "cell_type": "markdown",
      "source": [
        "###Eliminating some columns which are not relevant for our analysis"
      ],
      "metadata": {
        "id": "WNvg5ewqr6yF"
      }
    },
    {
      "cell_type": "code",
      "source": [
        "df_New_Columns = ['hotel', 'is_canceled', 'lead_time', 'arrival_date_year',\n",
        "       'arrival_date_month', 'arrival_date_week_number',\n",
        "       'arrival_date_day_of_month', 'stays_in_weekend_nights',\n",
        "       'stays_in_week_nights', 'adults', 'children', 'meal',\n",
        "       'country', 'market_segment', 'distribution_channel',\n",
        "       'is_repeated_guest', 'previous_cancellations',\n",
        "       'previous_bookings_not_canceled', 'reserved_room_type',\n",
        "       'assigned_room_type', 'deposit_type', 'customer_type', 'adr',\n",
        "       'required_car_parking_spaces', 'total_of_special_requests']"
      ],
      "metadata": {
        "id": "igL7wEu8sPgM"
      },
      "execution_count": null,
      "outputs": []
    },
    {
      "cell_type": "code",
      "source": [
        "# Creating copy of our original dataset\n",
        "df_new = df[df_New_Columns].copy()"
      ],
      "metadata": {
        "id": "UC_vMoIOs5dt"
      },
      "execution_count": null,
      "outputs": []
    },
    {
      "cell_type": "code",
      "source": [
        "# Creating one column for 'Total_Guests'\n",
        "df_new['Total_Guests'] = df_new['adults'] + df_new['children']"
      ],
      "metadata": {
        "id": "DETBhnOStPfK"
      },
      "execution_count": null,
      "outputs": []
    },
    {
      "cell_type": "code",
      "source": [
        "# Dropping 'adults' & 'children' columns\n",
        "df_new = df_new.drop(['adults', 'children'], axis=1)"
      ],
      "metadata": {
        "id": "GQlzhdkkvmDV"
      },
      "execution_count": null,
      "outputs": []
    },
    {
      "cell_type": "code",
      "source": [
        "# Removing rows containing zero 'Total_Guests'\n",
        "df_new= df_new[df_new.Total_Guests > 0]"
      ],
      "metadata": {
        "id": "PQOSECskv4NU"
      },
      "execution_count": null,
      "outputs": []
    },
    {
      "cell_type": "code",
      "source": [
        "df_new.head()"
      ],
      "metadata": {
        "id": "V5jeb7_jt-41",
        "outputId": "54d0338c-4103-4247-c9cc-6c2f7efe3e90",
        "colab": {
          "base_uri": "https://localhost:8080/",
          "height": 357
        }
      },
      "execution_count": null,
      "outputs": [
        {
          "output_type": "execute_result",
          "data": {
            "text/plain": [
              "          hotel  is_canceled  lead_time  arrival_date_year arrival_date_month  \\\n",
              "0  Resort Hotel            0        342               2015               July   \n",
              "1  Resort Hotel            0        737               2015               July   \n",
              "2  Resort Hotel            0          7               2015               July   \n",
              "3  Resort Hotel            0         13               2015               July   \n",
              "4  Resort Hotel            0         14               2015               July   \n",
              "\n",
              "   arrival_date_week_number  arrival_date_day_of_month  \\\n",
              "0                        27                          1   \n",
              "1                        27                          1   \n",
              "2                        27                          1   \n",
              "3                        27                          1   \n",
              "4                        27                          1   \n",
              "\n",
              "   stays_in_weekend_nights  stays_in_week_nights meal country market_segment  \\\n",
              "0                        0                     0   BB     PRT         Direct   \n",
              "1                        0                     0   BB     PRT         Direct   \n",
              "2                        0                     1   BB     GBR         Direct   \n",
              "3                        0                     1   BB     GBR      Corporate   \n",
              "4                        0                     2   BB     GBR      Online TA   \n",
              "\n",
              "  distribution_channel  is_repeated_guest  previous_cancellations  \\\n",
              "0               Direct                  0                       0   \n",
              "1               Direct                  0                       0   \n",
              "2               Direct                  0                       0   \n",
              "3            Corporate                  0                       0   \n",
              "4                TA/TO                  0                       0   \n",
              "\n",
              "   previous_bookings_not_canceled reserved_room_type assigned_room_type  \\\n",
              "0                               0                  C                  C   \n",
              "1                               0                  C                  C   \n",
              "2                               0                  A                  C   \n",
              "3                               0                  A                  A   \n",
              "4                               0                  A                  A   \n",
              "\n",
              "  deposit_type customer_type   adr  required_car_parking_spaces  \\\n",
              "0   No Deposit     Transient   0.0                            0   \n",
              "1   No Deposit     Transient   0.0                            0   \n",
              "2   No Deposit     Transient  75.0                            0   \n",
              "3   No Deposit     Transient  75.0                            0   \n",
              "4   No Deposit     Transient  98.0                            0   \n",
              "\n",
              "   total_of_special_requests  Total_Guests  \n",
              "0                          0             2  \n",
              "1                          0             2  \n",
              "2                          0             1  \n",
              "3                          0             1  \n",
              "4                          1             2  "
            ],
            "text/html": [
              "\n",
              "\n",
              "  <div id=\"df-200dfe1a-06bf-41f7-9e86-b0cf94d3f4e3\">\n",
              "    <div class=\"colab-df-container\">\n",
              "      <div>\n",
              "<style scoped>\n",
              "    .dataframe tbody tr th:only-of-type {\n",
              "        vertical-align: middle;\n",
              "    }\n",
              "\n",
              "    .dataframe tbody tr th {\n",
              "        vertical-align: top;\n",
              "    }\n",
              "\n",
              "    .dataframe thead th {\n",
              "        text-align: right;\n",
              "    }\n",
              "</style>\n",
              "<table border=\"1\" class=\"dataframe\">\n",
              "  <thead>\n",
              "    <tr style=\"text-align: right;\">\n",
              "      <th></th>\n",
              "      <th>hotel</th>\n",
              "      <th>is_canceled</th>\n",
              "      <th>lead_time</th>\n",
              "      <th>arrival_date_year</th>\n",
              "      <th>arrival_date_month</th>\n",
              "      <th>arrival_date_week_number</th>\n",
              "      <th>arrival_date_day_of_month</th>\n",
              "      <th>stays_in_weekend_nights</th>\n",
              "      <th>stays_in_week_nights</th>\n",
              "      <th>meal</th>\n",
              "      <th>country</th>\n",
              "      <th>market_segment</th>\n",
              "      <th>distribution_channel</th>\n",
              "      <th>is_repeated_guest</th>\n",
              "      <th>previous_cancellations</th>\n",
              "      <th>previous_bookings_not_canceled</th>\n",
              "      <th>reserved_room_type</th>\n",
              "      <th>assigned_room_type</th>\n",
              "      <th>deposit_type</th>\n",
              "      <th>customer_type</th>\n",
              "      <th>adr</th>\n",
              "      <th>required_car_parking_spaces</th>\n",
              "      <th>total_of_special_requests</th>\n",
              "      <th>Total_Guests</th>\n",
              "    </tr>\n",
              "  </thead>\n",
              "  <tbody>\n",
              "    <tr>\n",
              "      <th>0</th>\n",
              "      <td>Resort Hotel</td>\n",
              "      <td>0</td>\n",
              "      <td>342</td>\n",
              "      <td>2015</td>\n",
              "      <td>July</td>\n",
              "      <td>27</td>\n",
              "      <td>1</td>\n",
              "      <td>0</td>\n",
              "      <td>0</td>\n",
              "      <td>BB</td>\n",
              "      <td>PRT</td>\n",
              "      <td>Direct</td>\n",
              "      <td>Direct</td>\n",
              "      <td>0</td>\n",
              "      <td>0</td>\n",
              "      <td>0</td>\n",
              "      <td>C</td>\n",
              "      <td>C</td>\n",
              "      <td>No Deposit</td>\n",
              "      <td>Transient</td>\n",
              "      <td>0.0</td>\n",
              "      <td>0</td>\n",
              "      <td>0</td>\n",
              "      <td>2</td>\n",
              "    </tr>\n",
              "    <tr>\n",
              "      <th>1</th>\n",
              "      <td>Resort Hotel</td>\n",
              "      <td>0</td>\n",
              "      <td>737</td>\n",
              "      <td>2015</td>\n",
              "      <td>July</td>\n",
              "      <td>27</td>\n",
              "      <td>1</td>\n",
              "      <td>0</td>\n",
              "      <td>0</td>\n",
              "      <td>BB</td>\n",
              "      <td>PRT</td>\n",
              "      <td>Direct</td>\n",
              "      <td>Direct</td>\n",
              "      <td>0</td>\n",
              "      <td>0</td>\n",
              "      <td>0</td>\n",
              "      <td>C</td>\n",
              "      <td>C</td>\n",
              "      <td>No Deposit</td>\n",
              "      <td>Transient</td>\n",
              "      <td>0.0</td>\n",
              "      <td>0</td>\n",
              "      <td>0</td>\n",
              "      <td>2</td>\n",
              "    </tr>\n",
              "    <tr>\n",
              "      <th>2</th>\n",
              "      <td>Resort Hotel</td>\n",
              "      <td>0</td>\n",
              "      <td>7</td>\n",
              "      <td>2015</td>\n",
              "      <td>July</td>\n",
              "      <td>27</td>\n",
              "      <td>1</td>\n",
              "      <td>0</td>\n",
              "      <td>1</td>\n",
              "      <td>BB</td>\n",
              "      <td>GBR</td>\n",
              "      <td>Direct</td>\n",
              "      <td>Direct</td>\n",
              "      <td>0</td>\n",
              "      <td>0</td>\n",
              "      <td>0</td>\n",
              "      <td>A</td>\n",
              "      <td>C</td>\n",
              "      <td>No Deposit</td>\n",
              "      <td>Transient</td>\n",
              "      <td>75.0</td>\n",
              "      <td>0</td>\n",
              "      <td>0</td>\n",
              "      <td>1</td>\n",
              "    </tr>\n",
              "    <tr>\n",
              "      <th>3</th>\n",
              "      <td>Resort Hotel</td>\n",
              "      <td>0</td>\n",
              "      <td>13</td>\n",
              "      <td>2015</td>\n",
              "      <td>July</td>\n",
              "      <td>27</td>\n",
              "      <td>1</td>\n",
              "      <td>0</td>\n",
              "      <td>1</td>\n",
              "      <td>BB</td>\n",
              "      <td>GBR</td>\n",
              "      <td>Corporate</td>\n",
              "      <td>Corporate</td>\n",
              "      <td>0</td>\n",
              "      <td>0</td>\n",
              "      <td>0</td>\n",
              "      <td>A</td>\n",
              "      <td>A</td>\n",
              "      <td>No Deposit</td>\n",
              "      <td>Transient</td>\n",
              "      <td>75.0</td>\n",
              "      <td>0</td>\n",
              "      <td>0</td>\n",
              "      <td>1</td>\n",
              "    </tr>\n",
              "    <tr>\n",
              "      <th>4</th>\n",
              "      <td>Resort Hotel</td>\n",
              "      <td>0</td>\n",
              "      <td>14</td>\n",
              "      <td>2015</td>\n",
              "      <td>July</td>\n",
              "      <td>27</td>\n",
              "      <td>1</td>\n",
              "      <td>0</td>\n",
              "      <td>2</td>\n",
              "      <td>BB</td>\n",
              "      <td>GBR</td>\n",
              "      <td>Online TA</td>\n",
              "      <td>TA/TO</td>\n",
              "      <td>0</td>\n",
              "      <td>0</td>\n",
              "      <td>0</td>\n",
              "      <td>A</td>\n",
              "      <td>A</td>\n",
              "      <td>No Deposit</td>\n",
              "      <td>Transient</td>\n",
              "      <td>98.0</td>\n",
              "      <td>0</td>\n",
              "      <td>1</td>\n",
              "      <td>2</td>\n",
              "    </tr>\n",
              "  </tbody>\n",
              "</table>\n",
              "</div>\n",
              "      <button class=\"colab-df-convert\" onclick=\"convertToInteractive('df-200dfe1a-06bf-41f7-9e86-b0cf94d3f4e3')\"\n",
              "              title=\"Convert this dataframe to an interactive table.\"\n",
              "              style=\"display:none;\">\n",
              "\n",
              "  <svg xmlns=\"http://www.w3.org/2000/svg\" height=\"24px\"viewBox=\"0 0 24 24\"\n",
              "       width=\"24px\">\n",
              "    <path d=\"M0 0h24v24H0V0z\" fill=\"none\"/>\n",
              "    <path d=\"M18.56 5.44l.94 2.06.94-2.06 2.06-.94-2.06-.94-.94-2.06-.94 2.06-2.06.94zm-11 1L8.5 8.5l.94-2.06 2.06-.94-2.06-.94L8.5 2.5l-.94 2.06-2.06.94zm10 10l.94 2.06.94-2.06 2.06-.94-2.06-.94-.94-2.06-.94 2.06-2.06.94z\"/><path d=\"M17.41 7.96l-1.37-1.37c-.4-.4-.92-.59-1.43-.59-.52 0-1.04.2-1.43.59L10.3 9.45l-7.72 7.72c-.78.78-.78 2.05 0 2.83L4 21.41c.39.39.9.59 1.41.59.51 0 1.02-.2 1.41-.59l7.78-7.78 2.81-2.81c.8-.78.8-2.07 0-2.86zM5.41 20L4 18.59l7.72-7.72 1.47 1.35L5.41 20z\"/>\n",
              "  </svg>\n",
              "      </button>\n",
              "\n",
              "\n",
              "\n",
              "    <div id=\"df-3755b9d7-44ce-4d5c-bb07-ec0c559a91ed\">\n",
              "      <button class=\"colab-df-quickchart\" onclick=\"quickchart('df-3755b9d7-44ce-4d5c-bb07-ec0c559a91ed')\"\n",
              "              title=\"Suggest charts.\"\n",
              "              style=\"display:none;\">\n",
              "\n",
              "<svg xmlns=\"http://www.w3.org/2000/svg\" height=\"24px\"viewBox=\"0 0 24 24\"\n",
              "     width=\"24px\">\n",
              "    <g>\n",
              "        <path d=\"M19 3H5c-1.1 0-2 .9-2 2v14c0 1.1.9 2 2 2h14c1.1 0 2-.9 2-2V5c0-1.1-.9-2-2-2zM9 17H7v-7h2v7zm4 0h-2V7h2v10zm4 0h-2v-4h2v4z\"/>\n",
              "    </g>\n",
              "</svg>\n",
              "      </button>\n",
              "    </div>\n",
              "\n",
              "<style>\n",
              "  .colab-df-quickchart {\n",
              "    background-color: #E8F0FE;\n",
              "    border: none;\n",
              "    border-radius: 50%;\n",
              "    cursor: pointer;\n",
              "    display: none;\n",
              "    fill: #1967D2;\n",
              "    height: 32px;\n",
              "    padding: 0 0 0 0;\n",
              "    width: 32px;\n",
              "  }\n",
              "\n",
              "  .colab-df-quickchart:hover {\n",
              "    background-color: #E2EBFA;\n",
              "    box-shadow: 0px 1px 2px rgba(60, 64, 67, 0.3), 0px 1px 3px 1px rgba(60, 64, 67, 0.15);\n",
              "    fill: #174EA6;\n",
              "  }\n",
              "\n",
              "  [theme=dark] .colab-df-quickchart {\n",
              "    background-color: #3B4455;\n",
              "    fill: #D2E3FC;\n",
              "  }\n",
              "\n",
              "  [theme=dark] .colab-df-quickchart:hover {\n",
              "    background-color: #434B5C;\n",
              "    box-shadow: 0px 1px 3px 1px rgba(0, 0, 0, 0.15);\n",
              "    filter: drop-shadow(0px 1px 2px rgba(0, 0, 0, 0.3));\n",
              "    fill: #FFFFFF;\n",
              "  }\n",
              "</style>\n",
              "\n",
              "    <script>\n",
              "      async function quickchart(key) {\n",
              "        const containerElement = document.querySelector('#' + key);\n",
              "        const charts = await google.colab.kernel.invokeFunction(\n",
              "            'suggestCharts', [key], {});\n",
              "      }\n",
              "    </script>\n",
              "\n",
              "      <script>\n",
              "\n",
              "function displayQuickchartButton(domScope) {\n",
              "  let quickchartButtonEl =\n",
              "    domScope.querySelector('#df-3755b9d7-44ce-4d5c-bb07-ec0c559a91ed button.colab-df-quickchart');\n",
              "  quickchartButtonEl.style.display =\n",
              "    google.colab.kernel.accessAllowed ? 'block' : 'none';\n",
              "}\n",
              "\n",
              "        displayQuickchartButton(document);\n",
              "      </script>\n",
              "      <style>\n",
              "    .colab-df-container {\n",
              "      display:flex;\n",
              "      flex-wrap:wrap;\n",
              "      gap: 12px;\n",
              "    }\n",
              "\n",
              "    .colab-df-convert {\n",
              "      background-color: #E8F0FE;\n",
              "      border: none;\n",
              "      border-radius: 50%;\n",
              "      cursor: pointer;\n",
              "      display: none;\n",
              "      fill: #1967D2;\n",
              "      height: 32px;\n",
              "      padding: 0 0 0 0;\n",
              "      width: 32px;\n",
              "    }\n",
              "\n",
              "    .colab-df-convert:hover {\n",
              "      background-color: #E2EBFA;\n",
              "      box-shadow: 0px 1px 2px rgba(60, 64, 67, 0.3), 0px 1px 3px 1px rgba(60, 64, 67, 0.15);\n",
              "      fill: #174EA6;\n",
              "    }\n",
              "\n",
              "    [theme=dark] .colab-df-convert {\n",
              "      background-color: #3B4455;\n",
              "      fill: #D2E3FC;\n",
              "    }\n",
              "\n",
              "    [theme=dark] .colab-df-convert:hover {\n",
              "      background-color: #434B5C;\n",
              "      box-shadow: 0px 1px 3px 1px rgba(0, 0, 0, 0.15);\n",
              "      filter: drop-shadow(0px 1px 2px rgba(0, 0, 0, 0.3));\n",
              "      fill: #FFFFFF;\n",
              "    }\n",
              "  </style>\n",
              "\n",
              "      <script>\n",
              "        const buttonEl =\n",
              "          document.querySelector('#df-200dfe1a-06bf-41f7-9e86-b0cf94d3f4e3 button.colab-df-convert');\n",
              "        buttonEl.style.display =\n",
              "          google.colab.kernel.accessAllowed ? 'block' : 'none';\n",
              "\n",
              "        async function convertToInteractive(key) {\n",
              "          const element = document.querySelector('#df-200dfe1a-06bf-41f7-9e86-b0cf94d3f4e3');\n",
              "          const dataTable =\n",
              "            await google.colab.kernel.invokeFunction('convertToInteractive',\n",
              "                                                     [key], {});\n",
              "          if (!dataTable) return;\n",
              "\n",
              "          const docLinkHtml = 'Like what you see? Visit the ' +\n",
              "            '<a target=\"_blank\" href=https://colab.research.google.com/notebooks/data_table.ipynb>data table notebook</a>'\n",
              "            + ' to learn more about interactive tables.';\n",
              "          element.innerHTML = '';\n",
              "          dataTable['output_type'] = 'display_data';\n",
              "          await google.colab.output.renderOutput(dataTable, element);\n",
              "          const docLink = document.createElement('div');\n",
              "          docLink.innerHTML = docLinkHtml;\n",
              "          element.appendChild(docLink);\n",
              "        }\n",
              "      </script>\n",
              "    </div>\n",
              "  </div>\n"
            ]
          },
          "metadata": {},
          "execution_count": 23
        }
      ]
    },
    {
      "cell_type": "code",
      "source": [
        "# Hotel Bookings in a year\n",
        "first = df_new[df_new.arrival_date_year == 2015]\n",
        "second = df_new[df_new.arrival_date_year == 2016]\n",
        "third = df_new[df_new.arrival_date_year == 2017]"
      ],
      "metadata": {
        "id": "EOR-0hy-_al2"
      },
      "execution_count": null,
      "outputs": []
    },
    {
      "cell_type": "code",
      "source": [
        "# Hotel Bookings for 2015\n",
        "f = first.arrival_date_year.count()\n",
        "f"
      ],
      "metadata": {
        "id": "v0z-Nyt7AL14",
        "outputId": "cc68ede6-390b-4f3b-d2c2-0cf571b5f7c4",
        "colab": {
          "base_uri": "https://localhost:8080/"
        }
      },
      "execution_count": null,
      "outputs": [
        {
          "output_type": "execute_result",
          "data": {
            "text/plain": [
              "21967"
            ]
          },
          "metadata": {},
          "execution_count": 39
        }
      ]
    },
    {
      "cell_type": "code",
      "source": [
        "# Hotel Bookings for 2016\n",
        "s = second.arrival_date_year.count()\n",
        "s"
      ],
      "metadata": {
        "id": "tBe2KiqyAweM",
        "outputId": "37ecad4c-5af2-4ba8-d1dd-5742e0ad6c81",
        "colab": {
          "base_uri": "https://localhost:8080/"
        }
      },
      "execution_count": null,
      "outputs": [
        {
          "output_type": "execute_result",
          "data": {
            "text/plain": [
              "56623"
            ]
          },
          "metadata": {},
          "execution_count": 40
        }
      ]
    },
    {
      "cell_type": "code",
      "source": [
        "# Hotel Bookings for 2017\n",
        "t = third.arrival_date_year.count()\n",
        "t"
      ],
      "metadata": {
        "id": "jiJvBMVJAzwl",
        "outputId": "1f636883-92f9-45a8-8955-017bb9f44c4f",
        "colab": {
          "base_uri": "https://localhost:8080/"
        }
      },
      "execution_count": null,
      "outputs": [
        {
          "output_type": "execute_result",
          "data": {
            "text/plain": [
              "40620"
            ]
          },
          "metadata": {},
          "execution_count": 41
        }
      ]
    },
    {
      "cell_type": "code",
      "source": [
        "# Booking Cancellations in a year\n",
        "first_c = df_new[(df_new.arrival_date_year == 2015) & (df_new.is_canceled == 1)]\n",
        "second_c = df_new[(df_new.arrival_date_year == 2016) & (df_new.is_canceled == 1)]\n",
        "third_c = df_new[(df_new.arrival_date_year == 2017) & (df_new.is_canceled == 1)]"
      ],
      "metadata": {
        "id": "JtKap8i3A7xL"
      },
      "execution_count": null,
      "outputs": []
    },
    {
      "cell_type": "code",
      "source": [
        "# Booking Cancellations in 2015\n",
        "f_c = first_c.is_canceled.count()\n",
        "f_c"
      ],
      "metadata": {
        "id": "cM6ok9UPCOcw",
        "outputId": "d3b7cc8c-8de7-42e5-c540-6e663faae419",
        "colab": {
          "base_uri": "https://localhost:8080/"
        }
      },
      "execution_count": null,
      "outputs": [
        {
          "output_type": "execute_result",
          "data": {
            "text/plain": [
              "8141"
            ]
          },
          "metadata": {},
          "execution_count": 47
        }
      ]
    },
    {
      "cell_type": "code",
      "source": [
        "# Booking Cancellations in 2016\n",
        "s_c = second_c.is_canceled.count()\n",
        "s_c"
      ],
      "metadata": {
        "id": "AViNLIHpCh3A",
        "outputId": "6f09a711-38d8-4da5-f69c-88873d997837",
        "colab": {
          "base_uri": "https://localhost:8080/"
        }
      },
      "execution_count": null,
      "outputs": [
        {
          "output_type": "execute_result",
          "data": {
            "text/plain": [
              "20324"
            ]
          },
          "metadata": {},
          "execution_count": 48
        }
      ]
    },
    {
      "cell_type": "code",
      "source": [
        "# Booking Cancellations in 2017\n",
        "t_c = third_c.is_canceled.count()\n",
        "t_c"
      ],
      "metadata": {
        "id": "5enCn2KQCjXJ",
        "outputId": "f086fdad-dd1e-46d0-8dd4-4827b63e69df",
        "colab": {
          "base_uri": "https://localhost:8080/"
        }
      },
      "execution_count": null,
      "outputs": [
        {
          "output_type": "execute_result",
          "data": {
            "text/plain": [
              "15734"
            ]
          },
          "metadata": {},
          "execution_count": 49
        }
      ]
    },
    {
      "cell_type": "code",
      "source": [
        "# Percentages of booking Cancellations over the years\n",
        "print(\"Percentage of booking Cancellations in 2015: \", (f_c / f)*100)\n",
        "print(\"Percentage of booking Cancellations in 2016: \", (s_c / s)*100)\n",
        "print(\"Percentage of booking Cancellations in 2017: \", (t_c / t)*100)"
      ],
      "metadata": {
        "id": "esNIrev5Cu5P",
        "outputId": "e03409c9-a8eb-4a5c-8fa1-747ff37a3874",
        "colab": {
          "base_uri": "https://localhost:8080/"
        }
      },
      "execution_count": null,
      "outputs": [
        {
          "output_type": "stream",
          "name": "stdout",
          "text": [
            "Percentage of booking Cancellations in 2015:  37.06013565803251\n",
            "Percentage of booking Cancellations in 2016:  35.89354149373929\n",
            "Percentage of booking Cancellations in 2017:  38.734613490891185\n"
          ]
        }
      ]
    },
    {
      "cell_type": "markdown",
      "source": [
        "## ***4. Data Vizualization, Storytelling & Experimenting with charts : Understand the relationships between variables***"
      ],
      "metadata": {
        "id": "GF8Ens_Soomf"
      }
    },
    {
      "cell_type": "markdown",
      "source": [
        "#### Chart - 1"
      ],
      "metadata": {
        "id": "0wOQAZs5pc--"
      }
    },
    {
      "cell_type": "markdown",
      "source": [
        "###Hotel wise Yearly Bookings"
      ],
      "metadata": {
        "id": "yWT12G28Dkju"
      }
    },
    {
      "cell_type": "code",
      "source": [
        "# Chart - 1 visualization code\n",
        "ax = plt.subplots(figsize = (10,7))\n",
        "ax =sns.countplot(x = 'arrival_date_year', data=df_new, hue='hotel')\n",
        "ax.set_title('Yearly Bookings',fontsize = 18, fontweight='bold')\n",
        "ax.set_xlabel('arrival_date_year', fontsize = 15)\n",
        "ax.set_ylabel('count', fontsize = 15)\n",
        "for rect in ax.patches:\n",
        "    ax.text (rect.get_x() + rect.get_width()  / 2,rect.get_height()+ 0.75,rect.get_height(),horizontalalignment='center', fontsize = 11)"
      ],
      "metadata": {
        "id": "7v_ESjsspbW7",
        "outputId": "8f04f453-ee50-49a7-f4e5-d9bc505c404f",
        "colab": {
          "base_uri": "https://localhost:8080/",
          "height": 658
        }
      },
      "execution_count": null,
      "outputs": [
        {
          "output_type": "display_data",
          "data": {
            "text/plain": [
              "<Figure size 1000x700 with 1 Axes>"
            ],
            "image/png": "[encoded data removed]"
          },
          "metadata": {}
        }
      ]
    },
    {
      "cell_type": "markdown",
      "source": [
        "##### 1. Why did you pick the specific chart?"
      ],
      "metadata": {
        "id": "K5QZ13OEpz2H"
      }
    },
    {
      "cell_type": "markdown",
      "source": [
        "- Barplots gives flexibility & clarity of information. It is very using while comparing 'Yearly Bookings' among two types of hotels over the years."
      ],
      "metadata": {
        "id": "XESiWehPqBRc"
      }
    },
    {
      "cell_type": "markdown",
      "source": [
        "##### 2. What is/are the insight(s) found from the chart?"
      ],
      "metadata": {
        "id": "lQ7QKXXCp7Bj"
      }
    },
    {
      "cell_type": "markdown",
      "source": [
        "- City Hotels are having higher number of bookings compared to Resort Hotels."
      ],
      "metadata": {
        "id": "C_j1G7yiqdRP"
      }
    },
    {
      "cell_type": "markdown",
      "source": [
        "##### 3. Will the gained insights help creating a positive business impact?\n",
        "Are there any insights that lead to negative growth? Justify with specific reason."
      ],
      "metadata": {
        "id": "448CDAPjqfQr"
      }
    },
    {
      "cell_type": "markdown",
      "source": [
        "- We have to allocate more resources towards City Hotels compared to Resort Hotels."
      ],
      "metadata": {
        "id": "3cspy4FjqxJW"
      }
    },
    {
      "cell_type": "markdown",
      "source": [
        "#### Chart - 2"
      ],
      "metadata": {
        "id": "KSlN3yHqYklG"
      }
    },
    {
      "cell_type": "markdown",
      "source": [
        "###Countrywise Guests"
      ],
      "metadata": {
        "id": "PuAHeCpRD2Ed"
      }
    },
    {
      "cell_type": "code",
      "source": [
        "# Chart - 2 visualization code\n",
        "# import data\n",
        "sns.set_style(\"whitegrid\")\n",
        "sns.set(rc={'figure.figsize':(10,8)})\n",
        "\n",
        "# plot barplot\n",
        "a = sns.barplot(x = list(df.country.value_counts().head(10).index) , y =list(df.country.value_counts().head (10)), data = df_new)\n",
        "\n",
        "# add label to the axis and label to the plot\n",
        "a.set(xlabel =\"country\", ylabel = \"Count\")\n",
        "a.set_title('Countrywise Guests', fontsize = 18, fontweight='bold')\n",
        "\n",
        "for p in a.patches:\n",
        "    a.annotate(str(p.get_height()), (p.get_x() * 1.005, p.get_height() * 1.005))"
      ],
      "metadata": {
        "id": "R4YgtaqtYklH",
        "outputId": "d4435650-8053-42a0-9d9d-a06c7a1e5bcc",
        "colab": {
          "base_uri": "https://localhost:8080/",
          "height": 732
        }
      },
      "execution_count": null,
      "outputs": [
        {
          "output_type": "display_data",
          "data": {
            "text/plain": [
              "<Figure size 1000x800 with 1 Axes>"
            ],
            "image/png": "[encoded data removed]"
          },
          "metadata": {}
        }
      ]
    },
    {
      "cell_type": "markdown",
      "source": [
        "##### 1. Why did you pick the specific chart?"
      ],
      "metadata": {
        "id": "t6dVpIINYklI"
      }
    },
    {
      "cell_type": "markdown",
      "source": [
        "- Country wise segregation can be well analysed using barplot here."
      ],
      "metadata": {
        "id": "5aaW0BYyYklI"
      }
    },
    {
      "cell_type": "markdown",
      "source": [
        "##### 2. What is/are the insight(s) found from the chart?"
      ],
      "metadata": {
        "id": "ijmpgYnKYklI"
      }
    },
    {
      "cell_type": "markdown",
      "source": [
        "- Number of guests coming from Portugal is highest among Top 5 countries followed by Britain, France, Spain & Germany."
      ],
      "metadata": {
        "id": "PSx9atu2YklI"
      }
    },
    {
      "cell_type": "markdown",
      "source": [
        "##### 3. Will the gained insights help creating a positive business impact?\n",
        "Are there any insights that lead to negative growth? Justify with specific reason."
      ],
      "metadata": {
        "id": "-JiQyfWJYklI"
      }
    },
    {
      "cell_type": "markdown",
      "source": [
        "\n",
        "- As number of guests from Portugal are highest, we can offer customer specific servies based on their customs & traditions during their stay.\n",
        "- We can appoint translators for our guests coming from top 5 countries.\n",
        "- We can diversify our customer base among Top 10 countries to avoid dependence from a particular country. This can be done using country specific marketing campaigns & advertisements."
      ],
      "metadata": {
        "id": "BcBbebzrYklV"
      }
    },
    {
      "cell_type": "markdown",
      "source": [
        "#### Chart - 3"
      ],
      "metadata": {
        "id": "EM7whBJCYoAo"
      }
    },
    {
      "cell_type": "markdown",
      "source": [
        "###Booking Cancellations by hotel types\n"
      ],
      "metadata": {
        "id": "uf67Ak8L-dbg"
      }
    },
    {
      "cell_type": "code",
      "source": [
        "# Chart - 3 visualization code\n",
        "sns.set(style = \"whitegrid\")\n",
        "plt.title(\"Booking Cancellations by hotel types\")\n",
        "a = sns.countplot(x = \"hotel\", hue = 'is_canceled', data = df_new)\n",
        "for p in a.patches:\n",
        "    a.annotate(str(p.get_height()), (p.get_x() * 1.005, p.get_height() * 1.005))"
      ],
      "metadata": {
        "id": "t6GMdE67YoAp",
        "colab": {
          "base_uri": "https://localhost:8080/",
          "height": 727
        },
        "outputId": "bca5a949-8234-474e-9804-c74f90c83347"
      },
      "execution_count": null,
      "outputs": [
        {
          "output_type": "display_data",
          "data": {
            "text/plain": [
              "<Figure size 1000x800 with 1 Axes>"
            ],
            "image/png": "[encoded data removed]"
          },
          "metadata": {}
        }
      ]
    },
    {
      "cell_type": "markdown",
      "source": [
        "##### 1. Why did you pick the specific chart?"
      ],
      "metadata": {
        "id": "fge-S5ZAYoAp"
      }
    },
    {
      "cell_type": "markdown",
      "source": [
        "- Barplots are really helpful in comparing two hotel types over the years. It gives clear idea about Total bookings & Cancellations out of those bookings."
      ],
      "metadata": {
        "id": "5dBItgRVYoAp"
      }
    },
    {
      "cell_type": "markdown",
      "source": [
        "##### 2. What is/are the insight(s) found from the chart?"
      ],
      "metadata": {
        "id": "85gYPyotYoAp"
      }
    },
    {
      "cell_type": "markdown",
      "source": [
        "- Booking Cancellations in Resort hotel type is around 27% & in City hotel type is around 41%"
      ],
      "metadata": {
        "id": "4jstXR6OYoAp"
      }
    },
    {
      "cell_type": "markdown",
      "source": [
        "##### 3. Will the gained insights help creating a positive business impact?\n",
        "Are there any insights that lead to negative growth? Justify with specific reason."
      ],
      "metadata": {
        "id": "RoGjAbkUYoAp"
      }
    },
    {
      "cell_type": "markdown",
      "source": [
        "Answer Here"
      ],
      "metadata": {
        "id": "zfJ8IqMcYoAp"
      }
    },
    {
      "cell_type": "markdown",
      "source": [
        "#### Chart - 4"
      ],
      "metadata": {
        "id": "4Of9eVA-YrdM"
      }
    },
    {
      "cell_type": "code",
      "source": [
        "# Chart - 4 visualization code"
      ],
      "metadata": {
        "id": "irlUoxc8YrdO"
      },
      "execution_count": null,
      "outputs": []
    },
    {
      "cell_type": "markdown",
      "source": [
        "##### 1. Why did you pick the specific chart?"
      ],
      "metadata": {
        "id": "iky9q4vBYrdO"
      }
    },
    {
      "cell_type": "markdown",
      "source": [
        "Answer Here."
      ],
      "metadata": {
        "id": "aJRCwT6DYrdO"
      }
    },
    {
      "cell_type": "markdown",
      "source": [
        "##### 2. What is/are the insight(s) found from the chart?"
      ],
      "metadata": {
        "id": "F6T5p64dYrdO"
      }
    },
    {
      "cell_type": "markdown",
      "source": [
        "Answer Here"
      ],
      "metadata": {
        "id": "Xx8WAJvtYrdO"
      }
    },
    {
      "cell_type": "markdown",
      "source": [
        "##### 3. Will the gained insights help creating a positive business impact?\n",
        "Are there any insights that lead to negative growth? Justify with specific reason."
      ],
      "metadata": {
        "id": "y-Ehk30pYrdP"
      }
    },
    {
      "cell_type": "markdown",
      "source": [
        "Answer Here"
      ],
      "metadata": {
        "id": "jLNxxz7MYrdP"
      }
    },
    {
      "cell_type": "markdown",
      "source": [
        "#### Chart - 5"
      ],
      "metadata": {
        "id": "bamQiAODYuh1"
      }
    },
    {
      "cell_type": "code",
      "source": [
        "# Chart - 5 visualization code"
      ],
      "metadata": {
        "id": "TIJwrbroYuh3"
      },
      "execution_count": null,
      "outputs": []
    },
    {
      "cell_type": "markdown",
      "source": [
        "##### 1. Why did you pick the specific chart?"
      ],
      "metadata": {
        "id": "QHF8YVU7Yuh3"
      }
    },
    {
      "cell_type": "markdown",
      "source": [
        "Answer Here."
      ],
      "metadata": {
        "id": "dcxuIMRPYuh3"
      }
    },
    {
      "cell_type": "markdown",
      "source": [
        "##### 2. What is/are the insight(s) found from the chart?"
      ],
      "metadata": {
        "id": "GwzvFGzlYuh3"
      }
    },
    {
      "cell_type": "markdown",
      "source": [
        "Answer Here"
      ],
      "metadata": {
        "id": "uyqkiB8YYuh3"
      }
    },
    {
      "cell_type": "markdown",
      "source": [
        "##### 3. Will the gained insights help creating a positive business impact?\n",
        "Are there any insights that lead to negative growth? Justify with specific reason."
      ],
      "metadata": {
        "id": "qYpmQ266Yuh3"
      }
    },
    {
      "cell_type": "markdown",
      "source": [
        "Answer Here"
      ],
      "metadata": {
        "id": "_WtzZ_hCYuh4"
      }
    },
    {
      "cell_type": "markdown",
      "source": [
        "#### Chart - 6"
      ],
      "metadata": {
        "id": "OH-pJp9IphqM"
      }
    },
    {
      "cell_type": "code",
      "source": [
        "# Chart - 6 visualization code"
      ],
      "metadata": {
        "id": "kuRf4wtuphqN"
      },
      "execution_count": null,
      "outputs": []
    },
    {
      "cell_type": "markdown",
      "source": [
        "##### 1. Why did you pick the specific chart?"
      ],
      "metadata": {
        "id": "bbFf2-_FphqN"
      }
    },
    {
      "cell_type": "markdown",
      "source": [
        "Answer Here."
      ],
      "metadata": {
        "id": "loh7H2nzphqN"
      }
    },
    {
      "cell_type": "markdown",
      "source": [
        "##### 2. What is/are the insight(s) found from the chart?"
      ],
      "metadata": {
        "id": "_ouA3fa0phqN"
      }
    },
    {
      "cell_type": "markdown",
      "source": [
        "Answer Here"
      ],
      "metadata": {
        "id": "VECbqPI7phqN"
      }
    },
    {
      "cell_type": "markdown",
      "source": [
        "##### 3. Will the gained insights help creating a positive business impact?\n",
        "Are there any insights that lead to negative growth? Justify with specific reason."
      ],
      "metadata": {
        "id": "Seke61FWphqN"
      }
    },
    {
      "cell_type": "markdown",
      "source": [
        "Answer Here"
      ],
      "metadata": {
        "id": "DW4_bGpfphqN"
      }
    },
    {
      "cell_type": "markdown",
      "source": [
        "#### Chart - 7"
      ],
      "metadata": {
        "id": "PIIx-8_IphqN"
      }
    },
    {
      "cell_type": "code",
      "source": [
        "# Chart - 7 visualization code"
      ],
      "metadata": {
        "id": "lqAIGUfyphqO"
      },
      "execution_count": null,
      "outputs": []
    },
    {
      "cell_type": "markdown",
      "source": [
        "##### 1. Why did you pick the specific chart?"
      ],
      "metadata": {
        "id": "t27r6nlMphqO"
      }
    },
    {
      "cell_type": "markdown",
      "source": [
        "Answer Here."
      ],
      "metadata": {
        "id": "iv6ro40sphqO"
      }
    },
    {
      "cell_type": "markdown",
      "source": [
        "##### 2. What is/are the insight(s) found from the chart?"
      ],
      "metadata": {
        "id": "r2jJGEOYphqO"
      }
    },
    {
      "cell_type": "markdown",
      "source": [
        "Answer Here"
      ],
      "metadata": {
        "id": "Po6ZPi4hphqO"
      }
    },
    {
      "cell_type": "markdown",
      "source": [
        "##### 3. Will the gained insights help creating a positive business impact?\n",
        "Are there any insights that lead to negative growth? Justify with specific reason."
      ],
      "metadata": {
        "id": "b0JNsNcRphqO"
      }
    },
    {
      "cell_type": "markdown",
      "source": [
        "Answer Here"
      ],
      "metadata": {
        "id": "xvSq8iUTphqO"
      }
    },
    {
      "cell_type": "markdown",
      "source": [
        "#### Chart - 8"
      ],
      "metadata": {
        "id": "BZR9WyysphqO"
      }
    },
    {
      "cell_type": "code",
      "source": [
        "# Chart - 8 visualization code"
      ],
      "metadata": {
        "id": "TdPTWpAVphqO"
      },
      "execution_count": null,
      "outputs": []
    },
    {
      "cell_type": "markdown",
      "source": [
        "##### 1. Why did you pick the specific chart?"
      ],
      "metadata": {
        "id": "jj7wYXLtphqO"
      }
    },
    {
      "cell_type": "markdown",
      "source": [
        "Answer Here."
      ],
      "metadata": {
        "id": "Ob8u6rCTphqO"
      }
    },
    {
      "cell_type": "markdown",
      "source": [
        "##### 2. What is/are the insight(s) found from the chart?"
      ],
      "metadata": {
        "id": "eZrbJ2SmphqO"
      }
    },
    {
      "cell_type": "markdown",
      "source": [
        "Answer Here"
      ],
      "metadata": {
        "id": "mZtgC_hjphqO"
      }
    },
    {
      "cell_type": "markdown",
      "source": [
        "##### 3. Will the gained insights help creating a positive business impact?\n",
        "Are there any insights that lead to negative growth? Justify with specific reason."
      ],
      "metadata": {
        "id": "rFu4xreNphqO"
      }
    },
    {
      "cell_type": "markdown",
      "source": [
        "Answer Here"
      ],
      "metadata": {
        "id": "ey_0qi68phqO"
      }
    },
    {
      "cell_type": "markdown",
      "source": [
        "#### Chart - 9"
      ],
      "metadata": {
        "id": "YJ55k-q6phqO"
      }
    },
    {
      "cell_type": "code",
      "source": [
        "# Chart - 9 visualization code"
      ],
      "metadata": {
        "id": "B2aS4O1ophqO"
      },
      "execution_count": null,
      "outputs": []
    },
    {
      "cell_type": "markdown",
      "source": [
        "##### 1. Why did you pick the specific chart?"
      ],
      "metadata": {
        "id": "gCFgpxoyphqP"
      }
    },
    {
      "cell_type": "markdown",
      "source": [
        "Answer Here."
      ],
      "metadata": {
        "id": "TVxDimi2phqP"
      }
    },
    {
      "cell_type": "markdown",
      "source": [
        "##### 2. What is/are the insight(s) found from the chart?"
      ],
      "metadata": {
        "id": "OVtJsKN_phqQ"
      }
    },
    {
      "cell_type": "markdown",
      "source": [
        "Answer Here"
      ],
      "metadata": {
        "id": "ngGi97qjphqQ"
      }
    },
    {
      "cell_type": "markdown",
      "source": [
        "##### 3. Will the gained insights help creating a positive business impact?\n",
        "Are there any insights that lead to negative growth? Justify with specific reason."
      ],
      "metadata": {
        "id": "lssrdh5qphqQ"
      }
    },
    {
      "cell_type": "markdown",
      "source": [
        "Answer Here"
      ],
      "metadata": {
        "id": "tBpY5ekJphqQ"
      }
    },
    {
      "cell_type": "markdown",
      "source": [
        "#### Chart - 10"
      ],
      "metadata": {
        "id": "U2RJ9gkRphqQ"
      }
    },
    {
      "cell_type": "code",
      "source": [
        "# Chart - 10 visualization code"
      ],
      "metadata": {
        "id": "GM7a4YP4phqQ"
      },
      "execution_count": null,
      "outputs": []
    },
    {
      "cell_type": "markdown",
      "source": [
        "##### 1. Why did you pick the specific chart?"
      ],
      "metadata": {
        "id": "1M8mcRywphqQ"
      }
    },
    {
      "cell_type": "markdown",
      "source": [
        "Answer Here."
      ],
      "metadata": {
        "id": "8agQvks0phqQ"
      }
    },
    {
      "cell_type": "markdown",
      "source": [
        "##### 2. What is/are the insight(s) found from the chart?"
      ],
      "metadata": {
        "id": "tgIPom80phqQ"
      }
    },
    {
      "cell_type": "markdown",
      "source": [
        "Answer Here"
      ],
      "metadata": {
        "id": "Qp13pnNzphqQ"
      }
    },
    {
      "cell_type": "markdown",
      "source": [
        "##### 3. Will the gained insights help creating a positive business impact?\n",
        "Are there any insights that lead to negative growth? Justify with specific reason."
      ],
      "metadata": {
        "id": "JMzcOPDDphqR"
      }
    },
    {
      "cell_type": "markdown",
      "source": [
        "Answer Here"
      ],
      "metadata": {
        "id": "R4Ka1PC2phqR"
      }
    },
    {
      "cell_type": "markdown",
      "source": [
        "#### Chart - 11"
      ],
      "metadata": {
        "id": "x-EpHcCOp1ci"
      }
    },
    {
      "cell_type": "code",
      "source": [
        "# Chart - 11 visualization code"
      ],
      "metadata": {
        "id": "mAQTIvtqp1cj"
      },
      "execution_count": null,
      "outputs": []
    },
    {
      "cell_type": "markdown",
      "source": [
        "##### 1. Why did you pick the specific chart?"
      ],
      "metadata": {
        "id": "X_VqEhTip1ck"
      }
    },
    {
      "cell_type": "markdown",
      "source": [
        "Answer Here."
      ],
      "metadata": {
        "id": "-vsMzt_np1ck"
      }
    },
    {
      "cell_type": "markdown",
      "source": [
        "##### 2. What is/are the insight(s) found from the chart?"
      ],
      "metadata": {
        "id": "8zGJKyg5p1ck"
      }
    },
    {
      "cell_type": "markdown",
      "source": [
        "Answer Here"
      ],
      "metadata": {
        "id": "ZYdMsrqVp1ck"
      }
    },
    {
      "cell_type": "markdown",
      "source": [
        "##### 3. Will the gained insights help creating a positive business impact?\n",
        "Are there any insights that lead to negative growth? Justify with specific reason."
      ],
      "metadata": {
        "id": "PVzmfK_Ep1ck"
      }
    },
    {
      "cell_type": "markdown",
      "source": [
        "Answer Here"
      ],
      "metadata": {
        "id": "druuKYZpp1ck"
      }
    },
    {
      "cell_type": "markdown",
      "source": [
        "#### Chart - 12"
      ],
      "metadata": {
        "id": "n3dbpmDWp1ck"
      }
    },
    {
      "cell_type": "code",
      "source": [
        "# Chart - 12 visualization code"
      ],
      "metadata": {
        "id": "bwevp1tKp1ck"
      },
      "execution_count": null,
      "outputs": []
    },
    {
      "cell_type": "markdown",
      "source": [
        "##### 1. Why did you pick the specific chart?"
      ],
      "metadata": {
        "id": "ylSl6qgtp1ck"
      }
    },
    {
      "cell_type": "markdown",
      "source": [
        "Answer Here."
      ],
      "metadata": {
        "id": "m2xqNkiQp1ck"
      }
    },
    {
      "cell_type": "markdown",
      "source": [
        "##### 2. What is/are the insight(s) found from the chart?"
      ],
      "metadata": {
        "id": "ZWILFDl5p1ck"
      }
    },
    {
      "cell_type": "markdown",
      "source": [
        "Answer Here"
      ],
      "metadata": {
        "id": "x-lUsV2mp1ck"
      }
    },
    {
      "cell_type": "markdown",
      "source": [
        "##### 3. Will the gained insights help creating a positive business impact?\n",
        "Are there any insights that lead to negative growth? Justify with specific reason."
      ],
      "metadata": {
        "id": "M7G43BXep1ck"
      }
    },
    {
      "cell_type": "markdown",
      "source": [
        "Answer Here"
      ],
      "metadata": {
        "id": "5wwDJXsLp1cl"
      }
    },
    {
      "cell_type": "markdown",
      "source": [
        "#### Chart - 13"
      ],
      "metadata": {
        "id": "Ag9LCva-p1cl"
      }
    },
    {
      "cell_type": "code",
      "source": [
        "# Chart - 13 visualization code"
      ],
      "metadata": {
        "id": "EUfxeq9-p1cl"
      },
      "execution_count": null,
      "outputs": []
    },
    {
      "cell_type": "markdown",
      "source": [
        "##### 1. Why did you pick the specific chart?"
      ],
      "metadata": {
        "id": "E6MkPsBcp1cl"
      }
    },
    {
      "cell_type": "markdown",
      "source": [
        "Answer Here."
      ],
      "metadata": {
        "id": "V22bRsFWp1cl"
      }
    },
    {
      "cell_type": "markdown",
      "source": [
        "##### 2. What is/are the insight(s) found from the chart?"
      ],
      "metadata": {
        "id": "2cELzS2fp1cl"
      }
    },
    {
      "cell_type": "markdown",
      "source": [
        "Answer Here"
      ],
      "metadata": {
        "id": "ozQPc2_Ip1cl"
      }
    },
    {
      "cell_type": "markdown",
      "source": [
        "##### 3. Will the gained insights help creating a positive business impact?\n",
        "Are there any insights that lead to negative growth? Justify with specific reason."
      ],
      "metadata": {
        "id": "3MPXvC8up1cl"
      }
    },
    {
      "cell_type": "markdown",
      "source": [
        "Answer Here"
      ],
      "metadata": {
        "id": "GL8l1tdLp1cl"
      }
    },
    {
      "cell_type": "markdown",
      "source": [
        "#### Chart - 14 - Correlation Heatmap"
      ],
      "metadata": {
        "id": "NC_X3p0fY2L0"
      }
    },
    {
      "cell_type": "code",
      "source": [
        "# Correlation Heatmap visualization code"
      ],
      "metadata": {
        "id": "xyC9zolEZNRQ"
      },
      "execution_count": null,
      "outputs": []
    },
    {
      "cell_type": "markdown",
      "source": [
        "##### 1. Why did you pick the specific chart?"
      ],
      "metadata": {
        "id": "UV0SzAkaZNRQ"
      }
    },
    {
      "cell_type": "markdown",
      "source": [
        "Answer Here."
      ],
      "metadata": {
        "id": "DVPuT8LYZNRQ"
      }
    },
    {
      "cell_type": "markdown",
      "source": [
        "##### 2. What is/are the insight(s) found from the chart?"
      ],
      "metadata": {
        "id": "YPEH6qLeZNRQ"
      }
    },
    {
      "cell_type": "markdown",
      "source": [
        "Answer Here"
      ],
      "metadata": {
        "id": "bfSqtnDqZNRR"
      }
    },
    {
      "cell_type": "markdown",
      "source": [
        "#### Chart - 15 - Pair Plot"
      ],
      "metadata": {
        "id": "q29F0dvdveiT"
      }
    },
    {
      "cell_type": "code",
      "source": [
        "# Pair Plot visualization code"
      ],
      "metadata": {
        "id": "o58-TEIhveiU"
      },
      "execution_count": null,
      "outputs": []
    },
    {
      "cell_type": "markdown",
      "source": [
        "##### 1. Why did you pick the specific chart?"
      ],
      "metadata": {
        "id": "EXh0U9oCveiU"
      }
    },
    {
      "cell_type": "markdown",
      "source": [
        "Answer Here."
      ],
      "metadata": {
        "id": "eMmPjTByveiU"
      }
    },
    {
      "cell_type": "markdown",
      "source": [
        "##### 2. What is/are the insight(s) found from the chart?"
      ],
      "metadata": {
        "id": "22aHeOlLveiV"
      }
    },
    {
      "cell_type": "markdown",
      "source": [
        "Answer Here"
      ],
      "metadata": {
        "id": "uPQ8RGwHveiV"
      }
    },
    {
      "cell_type": "markdown",
      "source": [
        "## **5. Solution to Business Objective**"
      ],
      "metadata": {
        "id": "JcMwzZxoAimU"
      }
    },
    {
      "cell_type": "markdown",
      "source": [
        "#### What do you suggest the client to achieve Business Objective ?\n",
        "Explain Briefly."
      ],
      "metadata": {
        "id": "8G2x9gOozGDZ"
      }
    },
    {
      "cell_type": "markdown",
      "source": [
        "Answer Here."
      ],
      "metadata": {
        "id": "pASKb0qOza21"
      }
    },
    {
      "cell_type": "markdown",
      "source": [
        "# **Conclusion**"
      ],
      "metadata": {
        "id": "gCX9965dhzqZ"
      }
    },
    {
      "cell_type": "markdown",
      "source": [
        "- The Hotel Booking Analysis project provides valuable insights into hotel booking patterns, customer preferences, and revenue optimization strategies. By analyzing the dataset spanning July 2015 to August 2017, this project offers practical recommendations for hotels to enhance their operational efficiency, increase customer satisfaction, and maximize revenue. The findings enable hoteliers and industry stakeholders to make informed decisions and develop effective strategies to stay competitive in the dynamic hotel industry."
      ],
      "metadata": {
        "id": "Fjb1IsQkh3yE"
      }
    },
    {
      "cell_type": "markdown",
      "source": [
        "### ***Hurrah! You have successfully completed your EDA Capstone Project !!!***"
      ],
      "metadata": {
        "id": "gIfDvo9L0UH2"
      }
    }
  ]
}